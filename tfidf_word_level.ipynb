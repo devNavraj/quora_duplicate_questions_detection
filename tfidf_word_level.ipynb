{
 "cells": [
  {
   "cell_type": "code",
   "execution_count": 1,
   "id": "d1796441-24b7-4b7f-aa6b-ef726443def1",
   "metadata": {},
   "outputs": [],
   "source": [
    "import numpy as np\n",
    "import pandas as pd\n",
    "import matplotlib.pyplot as plt\n",
    "from matplotlib.pyplot import figure\n",
    "import seaborn as sns\n",
    "from scipy import sparse\n",
    "from scipy.sparse import hstack\n",
    "from sklearn.feature_extraction.text import TfidfVectorizer\n",
    "from sklearn.preprocessing import StandardScaler, MinMaxScaler\n",
    "from sklearn.model_selection import train_test_split, cross_val_score\n",
    "from sklearn.experimental import enable_halving_search_cv\n",
    "from sklearn.model_selection import HalvingGridSearchCV, ShuffleSplit\n",
    "from imblearn.over_sampling import RandomOverSampler\n",
    "from sklearn.linear_model import LogisticRegression\n",
    "from sklearn.svm import LinearSVC\n",
    "from sklearn.ensemble import RandomForestClassifier\n",
    "from sklearn.metrics import accuracy_score, precision_score, recall_score, f1_score \n",
    "from sklearn.metrics import classification_report, roc_auc_score\n",
    "from sklearn.metrics import confusion_matrix, log_loss\n",
    "from sklearn.calibration import CalibratedClassifierCV\n",
    "from sklearn.decomposition import TruncatedSVD\n",
    "import xgboost as xgb\n",
    "import pickle\n",
    "import time\n",
    "from collections import Counter"
   ]
  },
  {
   "cell_type": "code",
   "execution_count": 2,
   "id": "44e0c758-9843-49fc-9527-5ba18afef8d7",
   "metadata": {},
   "outputs": [],
   "source": [
    "# Importing the dataset\n",
    "traindata = pd.read_csv(\"data/train.csv\")\n",
    "#testdata = pd.read_csv('data/test.csv')"
   ]
  },
  {
   "cell_type": "code",
   "execution_count": 3,
   "id": "9e78b198-e0c1-4d0d-b362-fe6b826535f1",
   "metadata": {},
   "outputs": [
    {
     "name": "stdout",
     "output_type": "stream",
     "text": [
      "(404287, 6)\n"
     ]
    }
   ],
   "source": [
    "traindata = traindata.dropna()\n",
    "print(traindata.shape)"
   ]
  },
  {
   "cell_type": "code",
   "execution_count": 4,
   "id": "455e8411-43ec-4a66-ac56-791327356c31",
   "metadata": {},
   "outputs": [],
   "source": [
    "labels = np.array(traindata[\"is_duplicate\"])"
   ]
  },
  {
   "cell_type": "code",
   "execution_count": 5,
   "id": "47e2ff7a-c7b2-483f-9889-3fcc4457056f",
   "metadata": {},
   "outputs": [
    {
     "data": {
      "text/html": [
       "<div>\n",
       "<style scoped>\n",
       "    .dataframe tbody tr th:only-of-type {\n",
       "        vertical-align: middle;\n",
       "    }\n",
       "\n",
       "    .dataframe tbody tr th {\n",
       "        vertical-align: top;\n",
       "    }\n",
       "\n",
       "    .dataframe thead th {\n",
       "        text-align: right;\n",
       "    }\n",
       "</style>\n",
       "<table border=\"1\" class=\"dataframe\">\n",
       "  <thead>\n",
       "    <tr style=\"text-align: right;\">\n",
       "      <th></th>\n",
       "      <th>question1_final</th>\n",
       "      <th>question2_final</th>\n",
       "    </tr>\n",
       "  </thead>\n",
       "  <tbody>\n",
       "    <tr>\n",
       "      <th>0</th>\n",
       "      <td>what is the step by step guide to invest in sh...</td>\n",
       "      <td>what is the step by step guide to invest in sh...</td>\n",
       "    </tr>\n",
       "    <tr>\n",
       "      <th>1</th>\n",
       "      <td>what is the story of kohinoor koh i noor diamond</td>\n",
       "      <td>what would happen if the indian government ste...</td>\n",
       "    </tr>\n",
       "    <tr>\n",
       "      <th>2</th>\n",
       "      <td>how can i increase the speed of my internet co...</td>\n",
       "      <td>how can internet speed be increase by hack thr...</td>\n",
       "    </tr>\n",
       "    <tr>\n",
       "      <th>3</th>\n",
       "      <td>why am i mentally very lonely how can i solve it</td>\n",
       "      <td>find the remainder when math 23 24 math is div...</td>\n",
       "    </tr>\n",
       "    <tr>\n",
       "      <th>4</th>\n",
       "      <td>which one dissolve in water quikly sugar salt ...</td>\n",
       "      <td>which fish would survive in salt water</td>\n",
       "    </tr>\n",
       "    <tr>\n",
       "      <th>...</th>\n",
       "      <td>...</td>\n",
       "      <td>...</td>\n",
       "    </tr>\n",
       "    <tr>\n",
       "      <th>404282</th>\n",
       "      <td>how many keywords are there in the racket prog...</td>\n",
       "      <td>how many keywords are there in perl program la...</td>\n",
       "    </tr>\n",
       "    <tr>\n",
       "      <th>404283</th>\n",
       "      <td>do you believe there is life after death</td>\n",
       "      <td>is it true that there is life after death</td>\n",
       "    </tr>\n",
       "    <tr>\n",
       "      <th>404284</th>\n",
       "      <td>what is one coin</td>\n",
       "      <td>what is this coin</td>\n",
       "    </tr>\n",
       "    <tr>\n",
       "      <th>404285</th>\n",
       "      <td>what is the approx annual cost of live while s...</td>\n",
       "      <td>i am have little hairfall problem but i want t...</td>\n",
       "    </tr>\n",
       "    <tr>\n",
       "      <th>404286</th>\n",
       "      <td>what is like to have sex with cousin</td>\n",
       "      <td>what is it like to have sex with your cousin</td>\n",
       "    </tr>\n",
       "  </tbody>\n",
       "</table>\n",
       "<p>404287 rows × 2 columns</p>\n",
       "</div>"
      ],
      "text/plain": [
       "                                          question1_final  \\\n",
       "0       what is the step by step guide to invest in sh...   \n",
       "1        what is the story of kohinoor koh i noor diamond   \n",
       "2       how can i increase the speed of my internet co...   \n",
       "3        why am i mentally very lonely how can i solve it   \n",
       "4       which one dissolve in water quikly sugar salt ...   \n",
       "...                                                   ...   \n",
       "404282  how many keywords are there in the racket prog...   \n",
       "404283           do you believe there is life after death   \n",
       "404284                                   what is one coin   \n",
       "404285  what is the approx annual cost of live while s...   \n",
       "404286               what is like to have sex with cousin   \n",
       "\n",
       "                                          question2_final  \n",
       "0       what is the step by step guide to invest in sh...  \n",
       "1       what would happen if the indian government ste...  \n",
       "2       how can internet speed be increase by hack thr...  \n",
       "3       find the remainder when math 23 24 math is div...  \n",
       "4                  which fish would survive in salt water  \n",
       "...                                                   ...  \n",
       "404282  how many keywords are there in perl program la...  \n",
       "404283          is it true that there is life after death  \n",
       "404284                                  what is this coin  \n",
       "404285  i am have little hairfall problem but i want t...  \n",
       "404286       what is it like to have sex with your cousin  \n",
       "\n",
       "[404287 rows x 2 columns]"
      ]
     },
     "execution_count": 5,
     "metadata": {},
     "output_type": "execute_result"
    }
   ],
   "source": [
    "# Importing the preprocessed dataset\n",
    "train_preprocessed = pd.read_csv(\"data/preprocessed_train.csv\")\n",
    "train_preprocessed"
   ]
  },
  {
   "cell_type": "code",
   "execution_count": 6,
   "id": "f2528181-b63a-46c4-bf49-58af71485a5a",
   "metadata": {},
   "outputs": [
    {
     "data": {
      "text/plain": [
       "question1_final    False\n",
       "question2_final    False\n",
       "dtype: bool"
      ]
     },
     "execution_count": 6,
     "metadata": {},
     "output_type": "execute_result"
    }
   ],
   "source": [
    "np.isnan(train_preprocessed.any())"
   ]
  },
  {
   "cell_type": "code",
   "execution_count": 7,
   "id": "4e7f5a4e-afd6-44c2-a0fd-75867f3d4f91",
   "metadata": {},
   "outputs": [
    {
     "ename": "NameError",
     "evalue": "name 'get_vocab_from_all_questions' is not defined",
     "output_type": "error",
     "traceback": [
      "\u001b[1;31m---------------------------------------------------------------------------\u001b[0m",
      "\u001b[1;31mNameError\u001b[0m                                 Traceback (most recent call last)",
      "\u001b[1;32m~\\AppData\\Local\\Temp/ipykernel_8084/1633901994.py\u001b[0m in \u001b[0;36m<module>\u001b[1;34m\u001b[0m\n\u001b[1;32m----> 1\u001b[1;33m \u001b[0mvocab\u001b[0m \u001b[1;33m=\u001b[0m \u001b[0mget_vocab_from_all_questions\u001b[0m\u001b[1;33m(\u001b[0m\u001b[0mquestion1\u001b[0m\u001b[1;33m,\u001b[0m \u001b[0mquestion2\u001b[0m\u001b[1;33m)\u001b[0m\u001b[1;33m\u001b[0m\u001b[1;33m\u001b[0m\u001b[0m\n\u001b[0m\u001b[0;32m      2\u001b[0m \u001b[0mprint\u001b[0m\u001b[1;33m(\u001b[0m\u001b[1;34m'Extracted {} features from question pairs'\u001b[0m\u001b[1;33m.\u001b[0m\u001b[0mformat\u001b[0m\u001b[1;33m(\u001b[0m\u001b[0mlen\u001b[0m\u001b[1;33m(\u001b[0m\u001b[0mvocab\u001b[0m\u001b[1;33m)\u001b[0m\u001b[1;33m)\u001b[0m\u001b[1;33m)\u001b[0m\u001b[1;33m\u001b[0m\u001b[1;33m\u001b[0m\u001b[0m\n",
      "\u001b[1;31mNameError\u001b[0m: name 'get_vocab_from_all_questions' is not defined"
     ]
    }
   ],
   "source": [
    "vocab = get_vocab_from_all_questions(question1, question2)\n",
    "print('Extracted {} features from question pairs'.format(len(vocab)))"
   ]
  },
  {
   "cell_type": "markdown",
   "id": "54fcf697-eb16-474e-a0ec-b7d1d17ff39a",
   "metadata": {},
   "source": [
    "## TF-IDF Features based Model"
   ]
  },
  {
   "cell_type": "code",
   "execution_count": 7,
   "id": "746fd6a7-1922-40b2-a8fa-256ccfaf1411",
   "metadata": {},
   "outputs": [],
   "source": [
    "vectorizer = TfidfVectorizer(lowercase=True, ngram_range=(1,3),stop_words='english')\n",
    "x_1 = vectorizer.fit_transform(train_preprocessed[\"question1_final\"].apply(lambda x : np.str_(x)))\n",
    "x_2 = vectorizer.fit_transform(train_preprocessed[\"question2_final\"].apply(lambda x : np.str_(x)))"
   ]
  },
  {
   "cell_type": "code",
   "execution_count": 8,
   "id": "6bcd3c9d-462e-472e-b660-fa39edf30d9d",
   "metadata": {},
   "outputs": [
    {
     "data": {
      "text/plain": [
       "<404287x1507487 sparse matrix of type '<class 'numpy.float64'>'\n",
       "\twith 4913635 stored elements in Compressed Sparse Row format>"
      ]
     },
     "execution_count": 8,
     "metadata": {},
     "output_type": "execute_result"
    }
   ],
   "source": [
    "x_1"
   ]
  },
  {
   "cell_type": "code",
   "execution_count": 9,
   "id": "ac3f48c4-c1d3-4d16-8a72-705f17f18872",
   "metadata": {},
   "outputs": [],
   "source": [
    "features = hstack([x_1, x_2])"
   ]
  },
  {
   "cell_type": "code",
   "execution_count": 10,
   "id": "0c0f66c0-7197-4737-9e43-cf2d035dd20a",
   "metadata": {},
   "outputs": [
    {
     "data": {
      "text/plain": [
       "<404287x3061018 sparse matrix of type '<class 'numpy.float64'>'\n",
       "\twith 9870566 stored elements in COOrdinate format>"
      ]
     },
     "execution_count": 10,
     "metadata": {},
     "output_type": "execute_result"
    }
   ],
   "source": [
    "features"
   ]
  },
  {
   "cell_type": "markdown",
   "id": "cc8cabeb-e728-4654-9c27-a526ed525827",
   "metadata": {},
   "source": [
    "Since the dataset is imbalanced, we did oversample by sampling from the minority class."
   ]
  },
  {
   "cell_type": "code",
   "execution_count": 11,
   "id": "f72adfec-761b-448c-a043-54ec24ea23bd",
   "metadata": {},
   "outputs": [],
   "source": [
    "oversample = RandomOverSampler(sampling_strategy='minority')\n",
    "X_data, y_data = oversample.fit_resample(features, labels)"
   ]
  },
  {
   "cell_type": "code",
   "execution_count": 12,
   "id": "bc320293-5b76-44f9-a020-dca6b763d417",
   "metadata": {},
   "outputs": [
    {
     "name": "stdout",
     "output_type": "stream",
     "text": [
      "255024\n",
      "255024\n"
     ]
    }
   ],
   "source": [
    "print(np.count_nonzero(y_data == 0))\n",
    "print(np.count_nonzero(y_data == 1))"
   ]
  },
  {
   "cell_type": "code",
   "execution_count": 13,
   "id": "8593fe2a-ec00-4d6b-91ea-effad83b9f70",
   "metadata": {},
   "outputs": [],
   "source": [
    "X_train, X_test, y_train, y_test = train_test_split(features, labels, test_size=0.2, random_state=42)"
   ]
  },
  {
   "cell_type": "markdown",
   "id": "ebf25fc1-0631-4d4e-b1dc-7903ebf0979e",
   "metadata": {},
   "source": [
    "# Models Training\n",
    "## Support Vector Classifier (SVM Classifier)"
   ]
  },
  {
   "cell_type": "code",
   "execution_count": 14,
   "id": "ea60244c-4168-4a7c-af9d-a25271fe652f",
   "metadata": {},
   "outputs": [],
   "source": [
    "splits = ShuffleSplit(n_splits=1, test_size=0.3, random_state=42)"
   ]
  },
  {
   "cell_type": "code",
   "execution_count": 16,
   "id": "fb0bdf0b-d28a-4542-af17-85ac94aeef4d",
   "metadata": {},
   "outputs": [],
   "source": [
    "svc_param_grid = {'C':[1e-2, 1e-1, 1e0, 1e1, 1e2]}"
   ]
  },
  {
   "cell_type": "code",
   "execution_count": 17,
   "id": "79f4c93e-1836-4bda-9227-3b8b73f41363",
   "metadata": {},
   "outputs": [],
   "source": [
    "svc_clf = LinearSVC(penalty='l2', loss='squared_hinge', dual=False, max_iter=3000)"
   ]
  },
  {
   "cell_type": "code",
   "execution_count": 18,
   "id": "cba4970a-d0ed-4342-8063-b2578dd116e8",
   "metadata": {},
   "outputs": [],
   "source": [
    "svc_clf_search = HalvingGridSearchCV(svc_clf, svc_param_grid, cv=splits, factor=2, scoring='accuracy', verbose=3)"
   ]
  },
  {
   "cell_type": "code",
   "execution_count": 19,
   "id": "bc4cfd05-efac-4f8d-920d-a661db417baf",
   "metadata": {},
   "outputs": [
    {
     "name": "stdout",
     "output_type": "stream",
     "text": [
      "n_iterations: 3\n",
      "n_required_iterations: 3\n",
      "n_possible_iterations: 3\n",
      "min_resources_: 80857\n",
      "max_resources_: 323429\n",
      "aggressive_elimination: False\n",
      "factor: 2\n",
      "----------\n",
      "iter: 0\n",
      "n_candidates: 5\n",
      "n_resources: 80857\n",
      "Fitting 1 folds for each of 5 candidates, totalling 5 fits\n",
      "[CV 1/1] END .........................................C=0.01; total time=   1.4s\n",
      "[CV 1/1] END ..........................................C=0.1; total time=   2.8s\n",
      "[CV 1/1] END ..........................................C=1.0; total time=   6.2s\n",
      "[CV 1/1] END .........................................C=10.0; total time=  14.3s\n",
      "[CV 1/1] END ........................................C=100.0; total time=  18.5s\n",
      "----------\n",
      "iter: 1\n",
      "n_candidates: 3\n",
      "n_resources: 161714\n",
      "Fitting 1 folds for each of 3 candidates, totalling 3 fits\n",
      "[CV 1/1] END ..........................................C=0.1; total time=   5.2s\n",
      "[CV 1/1] END .........................................C=10.0; total time=  55.7s\n",
      "[CV 1/1] END ..........................................C=1.0; total time=  14.2s\n",
      "----------\n",
      "iter: 2\n",
      "n_candidates: 2\n",
      "n_resources: 323428\n",
      "Fitting 1 folds for each of 2 candidates, totalling 2 fits\n",
      "[CV 1/1] END .........................................C=10.0; total time= 1.3min\n",
      "[CV 1/1] END ..........................................C=1.0; total time=  30.6s\n"
     ]
    },
    {
     "data": {
      "text/plain": [
       "HalvingGridSearchCV(cv=ShuffleSplit(n_splits=1, random_state=42, test_size=0.3, train_size=None),\n",
       "                    estimator=LinearSVC(dual=False, max_iter=3000), factor=2,\n",
       "                    param_grid={'C': [0.01, 0.1, 1.0, 10.0, 100.0]},\n",
       "                    refit=<function _refit_callable at 0x000002051A4048B0>,\n",
       "                    scoring='accuracy', verbose=3)"
      ]
     },
     "execution_count": 19,
     "metadata": {},
     "output_type": "execute_result"
    }
   ],
   "source": [
    "svc_clf_search.fit(X_train, y_train)"
   ]
  },
  {
   "cell_type": "code",
   "execution_count": 20,
   "id": "6540c85f-e0d9-432f-951f-e0ac72cb434c",
   "metadata": {},
   "outputs": [
    {
     "data": {
      "text/plain": [
       "{'C': 1.0}"
      ]
     },
     "execution_count": 20,
     "metadata": {},
     "output_type": "execute_result"
    }
   ],
   "source": [
    "svc_clf_search.best_params_"
   ]
  },
  {
   "cell_type": "code",
   "execution_count": 21,
   "id": "a778ce83-e82c-423d-9a12-8c7254c1bbb5",
   "metadata": {},
   "outputs": [
    {
     "data": {
      "text/plain": [
       "0.8028816424124995"
      ]
     },
     "execution_count": 21,
     "metadata": {},
     "output_type": "execute_result"
    }
   ],
   "source": [
    "svc_clf_search.best_score_"
   ]
  },
  {
   "cell_type": "code",
   "execution_count": 22,
   "id": "7e5eabb0-97a9-4f16-994b-5c483e0a6f21",
   "metadata": {},
   "outputs": [],
   "source": [
    "svc_clf_model = svc_clf_search.best_estimator_"
   ]
  },
  {
   "cell_type": "code",
   "execution_count": 23,
   "id": "3cc263b2-2f43-4312-a2ca-0047e1797a26",
   "metadata": {},
   "outputs": [
    {
     "data": {
      "text/plain": [
       "LinearSVC(dual=False, max_iter=3000)"
      ]
     },
     "execution_count": 23,
     "metadata": {},
     "output_type": "execute_result"
    }
   ],
   "source": [
    "svc_clf_model"
   ]
  },
  {
   "cell_type": "code",
   "execution_count": 24,
   "id": "df2a87ce-0f3b-4009-9849-9d55c28e98f5",
   "metadata": {},
   "outputs": [],
   "source": [
    "svc_calibrated = CalibratedClassifierCV(base_estimator=svc_clf_model, method=\"sigmoid\", cv=splits)"
   ]
  },
  {
   "cell_type": "code",
   "execution_count": 25,
   "id": "c143c55e-48dd-4b80-b667-aa8b7a29037e",
   "metadata": {},
   "outputs": [
    {
     "data": {
      "text/plain": [
       "CalibratedClassifierCV(base_estimator=LinearSVC(dual=False, max_iter=3000),\n",
       "                       cv=ShuffleSplit(n_splits=1, random_state=42, test_size=0.3, train_size=None))"
      ]
     },
     "execution_count": 25,
     "metadata": {},
     "output_type": "execute_result"
    }
   ],
   "source": [
    "svc_calibrated.fit(X_train, y_train)"
   ]
  },
  {
   "cell_type": "markdown",
   "id": "e676353b-6ad0-4cd9-823e-1f99feae03a1",
   "metadata": {},
   "source": [
    "### Evaluation"
   ]
  },
  {
   "cell_type": "code",
   "execution_count": 26,
   "id": "97dc4d87-0cf8-4219-a2c6-0e3cd26b851c",
   "metadata": {},
   "outputs": [
    {
     "name": "stdout",
     "output_type": "stream",
     "text": [
      "Accuracy:  0.8041628533973139\n",
      "Precision:  0.7971636023948028\n",
      "Recall:  0.6293242156074015\n",
      "F1:  0.7033699866998857\n",
      "ROC AUC:  0.7678526381215779\n",
      "              precision    recall  f1-score   support\n",
      "\n",
      "           0       0.81      0.91      0.85     51026\n",
      "           1       0.80      0.63      0.70     29832\n",
      "\n",
      "    accuracy                           0.80     80858\n",
      "   macro avg       0.80      0.77      0.78     80858\n",
      "weighted avg       0.80      0.80      0.80     80858\n",
      "\n"
     ]
    },
    {
     "data": {
      "image/png": "[encoded data removed]",
      "text/plain": [
       "<Figure size 432x288 with 2 Axes>"
      ]
     },
     "metadata": {
      "needs_background": "light"
     },
     "output_type": "display_data"
    }
   ],
   "source": [
    "y_pred = svc_calibrated.predict(X_test)\n",
    "\n",
    "print(\"Accuracy: \", accuracy_score(y_test, y_pred))\n",
    "print(\"Precision: \", precision_score(y_test, y_pred))\n",
    "print(\"Recall: \", recall_score(y_test, y_pred))\n",
    "print(\"F1: \", f1_score(y_test, y_pred))\n",
    "print(\"ROC AUC: \", roc_auc_score(y_test, y_pred))\n",
    "print(classification_report(y_test, y_pred))\n",
    "\n",
    "import scikitplot as skplt\n",
    "skplt.metrics.plot_confusion_matrix(y_test, y_pred)\n",
    "plt.title('SVC Confusion Matrix')\n",
    "plt.savefig('graphs/svc_tfidf/svc_confusion_matrix.png')"
   ]
  },
  {
   "cell_type": "markdown",
   "id": "1a8ce228-e27d-4925-bb0e-4c65254cf04c",
   "metadata": {},
   "source": [
    "## Logistic Regression"
   ]
  },
  {
   "cell_type": "code",
   "execution_count": 27,
   "id": "5f34ee74-7bdc-487d-bae8-cf537caa2a04",
   "metadata": {},
   "outputs": [],
   "source": [
    "lr_param_grid = {'C':[1e-2, 1e-1, 1e0, 1e1, 1e2]}"
   ]
  },
  {
   "cell_type": "code",
   "execution_count": 28,
   "id": "8e155d58-2f6d-42ca-a1bd-afc6050eb22c",
   "metadata": {},
   "outputs": [],
   "source": [
    "lr_clf = LogisticRegression(penalty='l2', class_weight='balanced', dual=False, max_iter=3000)"
   ]
  },
  {
   "cell_type": "code",
   "execution_count": 29,
   "id": "c75addb1-b427-43d2-a782-b4530f603867",
   "metadata": {},
   "outputs": [],
   "source": [
    "lr_clf_search = HalvingGridSearchCV(lr_clf, lr_param_grid, cv=splits, factor=2, scoring='accuracy', verbose=3)"
   ]
  },
  {
   "cell_type": "code",
   "execution_count": 30,
   "id": "a5e1e7e2-f3f8-413c-9c44-57af99b85787",
   "metadata": {},
   "outputs": [
    {
     "name": "stdout",
     "output_type": "stream",
     "text": [
      "n_iterations: 3\n",
      "n_required_iterations: 3\n",
      "n_possible_iterations: 3\n",
      "min_resources_: 80857\n",
      "max_resources_: 323429\n",
      "aggressive_elimination: False\n",
      "factor: 2\n",
      "----------\n",
      "iter: 0\n",
      "n_candidates: 5\n",
      "n_resources: 80857\n",
      "Fitting 1 folds for each of 5 candidates, totalling 5 fits\n",
      "[CV 1/1] END .........................................C=0.01; total time=   3.8s\n",
      "[CV 1/1] END ..........................................C=0.1; total time=  13.5s\n",
      "[CV 1/1] END ..........................................C=1.0; total time=  24.2s\n",
      "[CV 1/1] END .........................................C=10.0; total time= 1.5min\n",
      "[CV 1/1] END ........................................C=100.0; total time= 2.9min\n",
      "----------\n",
      "iter: 1\n",
      "n_candidates: 3\n",
      "n_resources: 161714\n",
      "Fitting 1 folds for each of 3 candidates, totalling 3 fits\n",
      "[CV 1/1] END ..........................................C=1.0; total time=  35.2s\n",
      "[CV 1/1] END ........................................C=100.0; total time= 4.7min\n",
      "[CV 1/1] END .........................................C=10.0; total time= 2.4min\n",
      "----------\n",
      "iter: 2\n",
      "n_candidates: 2\n",
      "n_resources: 323428\n",
      "Fitting 1 folds for each of 2 candidates, totalling 2 fits\n",
      "[CV 1/1] END ........................................C=100.0; total time= 6.7min\n",
      "[CV 1/1] END .........................................C=10.0; total time= 3.5min\n"
     ]
    },
    {
     "data": {
      "text/plain": [
       "HalvingGridSearchCV(cv=ShuffleSplit(n_splits=1, random_state=42, test_size=0.3, train_size=None),\n",
       "                    estimator=LogisticRegression(class_weight='balanced',\n",
       "                                                 max_iter=3000),\n",
       "                    factor=2, param_grid={'C': [0.01, 0.1, 1.0, 10.0, 100.0]},\n",
       "                    refit=<function _refit_callable at 0x000002051A4048B0>,\n",
       "                    scoring='accuracy', verbose=3)"
      ]
     },
     "execution_count": 30,
     "metadata": {},
     "output_type": "execute_result"
    }
   ],
   "source": [
    "lr_clf_search.fit(X_train, y_train)"
   ]
  },
  {
   "cell_type": "code",
   "execution_count": 31,
   "id": "018c0429-160e-467a-9c30-452242ec2709",
   "metadata": {},
   "outputs": [
    {
     "data": {
      "text/plain": [
       "{'C': 10.0}"
      ]
     },
     "execution_count": 31,
     "metadata": {},
     "output_type": "execute_result"
    }
   ],
   "source": [
    "lr_clf_search.best_params_"
   ]
  },
  {
   "cell_type": "code",
   "execution_count": 32,
   "id": "9cfcb99d-0a6a-4b21-9c88-10e29d9bdab8",
   "metadata": {},
   "outputs": [
    {
     "data": {
      "text/plain": [
       "0.7973780764315456"
      ]
     },
     "execution_count": 32,
     "metadata": {},
     "output_type": "execute_result"
    }
   ],
   "source": [
    "lr_clf_search.best_score_"
   ]
  },
  {
   "cell_type": "code",
   "execution_count": 33,
   "id": "52a35c46-0dcb-48ba-98a8-f05f8d29d6f6",
   "metadata": {},
   "outputs": [],
   "source": [
    "lr_clf_model = lr_clf_search.best_estimator_"
   ]
  },
  {
   "cell_type": "code",
   "execution_count": 34,
   "id": "c72898b4-d245-4a93-bf97-629e9b894133",
   "metadata": {},
   "outputs": [
    {
     "data": {
      "text/plain": [
       "LogisticRegression(C=10.0, class_weight='balanced', max_iter=3000)"
      ]
     },
     "execution_count": 34,
     "metadata": {},
     "output_type": "execute_result"
    }
   ],
   "source": [
    "lr_clf_model"
   ]
  },
  {
   "cell_type": "markdown",
   "id": "bcb27d37-a66e-45f5-a84d-d964f744dbca",
   "metadata": {},
   "source": [
    "### Evaluation"
   ]
  },
  {
   "cell_type": "code",
   "execution_count": 35,
   "id": "d7b1e8f9-5d96-4198-b04f-9d9bcf75c190",
   "metadata": {},
   "outputs": [
    {
     "name": "stdout",
     "output_type": "stream",
     "text": [
      "Accuracy:  0.8059684879665586\n",
      "Precision:  0.762988582691807\n",
      "Recall:  0.6877178868329311\n",
      "F1:  0.7234005042224221\n",
      "ROC AUC:  0.7814103877781635\n",
      "              precision    recall  f1-score   support\n",
      "\n",
      "           0       0.83      0.88      0.85     51026\n",
      "           1       0.76      0.69      0.72     29832\n",
      "\n",
      "    accuracy                           0.81     80858\n",
      "   macro avg       0.80      0.78      0.79     80858\n",
      "weighted avg       0.80      0.81      0.80     80858\n",
      "\n"
     ]
    },
    {
     "data": {
      "image/png": "[encoded data removed]",
      "text/plain": [
       "<Figure size 432x288 with 2 Axes>"
      ]
     },
     "metadata": {
      "needs_background": "light"
     },
     "output_type": "display_data"
    }
   ],
   "source": [
    "y_pred = lr_clf_model.predict(X_test)\n",
    "\n",
    "print(\"Accuracy: \", accuracy_score(y_test, y_pred))\n",
    "print(\"Precision: \", precision_score(y_test, y_pred))\n",
    "print(\"Recall: \", recall_score(y_test, y_pred))\n",
    "print(\"F1: \", f1_score(y_test, y_pred))\n",
    "print(\"ROC AUC: \", roc_auc_score(y_test, y_pred))\n",
    "print(classification_report(y_test, y_pred))\n",
    "\n",
    "import scikitplot as skplt\n",
    "skplt.metrics.plot_confusion_matrix(y_test, y_pred)\n",
    "plt.title('LR Confusion Matrix')\n",
    "plt.savefig('graphs/lr_tfidf/lr_confusion_matrix.png')"
   ]
  },
  {
   "cell_type": "markdown",
   "id": "b18d95a8-d44d-405c-8dd9-eccff6c377c0",
   "metadata": {},
   "source": [
    "## Random Forest Classifier"
   ]
  },
  {
   "cell_type": "code",
   "execution_count": 15,
   "id": "2f65c23c-b2e4-43f3-89f2-5d9c7dd825ae",
   "metadata": {},
   "outputs": [],
   "source": [
    "rf_param_grid = {\n",
    "                    'n_estimators':[200, 500, 800], \n",
    "                    'min_samples_split':[5, 15],\n",
    "                    'max_depth': [70, 150, None]\n",
    "                }"
   ]
  },
  {
   "cell_type": "code",
   "execution_count": 16,
   "id": "b8dd55c0-8af8-4fb8-851a-996eec2e248a",
   "metadata": {},
   "outputs": [],
   "source": [
    "rf_clf = RandomForestClassifier()"
   ]
  },
  {
   "cell_type": "code",
   "execution_count": 17,
   "id": "a6ea755b-2965-41cd-887c-be234d80cc96",
   "metadata": {},
   "outputs": [],
   "source": [
    "rf_clf_search = HalvingGridSearchCV(rf_clf, rf_param_grid, cv=splits, factor=2, scoring='accuracy', verbose=3)"
   ]
  },
  {
   "cell_type": "code",
   "execution_count": null,
   "id": "30035132-f55d-4649-ae84-eada83b535ed",
   "metadata": {},
   "outputs": [
    {
     "name": "stdout",
     "output_type": "stream",
     "text": [
      "n_iterations: 5\n",
      "n_required_iterations: 5\n",
      "n_possible_iterations: 5\n",
      "min_resources_: 20214\n",
      "max_resources_: 323429\n",
      "aggressive_elimination: False\n",
      "factor: 2\n",
      "----------\n",
      "iter: 0\n",
      "n_candidates: 18\n",
      "n_resources: 20214\n",
      "Fitting 1 folds for each of 18 candidates, totalling 18 fits\n",
      "[CV 1/1] END max_depth=70, min_samples_split=5, n_estimators=200; total time= 3.8min\n",
      "[CV 1/1] END max_depth=70, min_samples_split=5, n_estimators=500; total time= 9.6min\n",
      "[CV 1/1] END max_depth=70, min_samples_split=5, n_estimators=800; total time=15.5min\n",
      "[CV 1/1] END max_depth=70, min_samples_split=15, n_estimators=200; total time= 1.7min\n",
      "[CV 1/1] END max_depth=70, min_samples_split=15, n_estimators=500; total time= 4.4min\n",
      "[CV 1/1] END max_depth=70, min_samples_split=15, n_estimators=800; total time= 7.1min\n",
      "[CV 1/1] END max_depth=150, min_samples_split=5, n_estimators=200; total time= 9.3min\n",
      "[CV 1/1] END max_depth=150, min_samples_split=5, n_estimators=500; total time=22.9min\n",
      "[CV 1/1] END max_depth=150, min_samples_split=5, n_estimators=800; total time=36.1min\n",
      "[CV 1/1] END max_depth=150, min_samples_split=15, n_estimators=200; total time= 4.0min\n",
      "[CV 1/1] END max_depth=150, min_samples_split=15, n_estimators=500; total time= 9.8min\n",
      "[CV 1/1] END max_depth=150, min_samples_split=15, n_estimators=800; total time=15.7min\n",
      "[CV 1/1] END max_depth=None, min_samples_split=5, n_estimators=200; total time=48.1min\n",
      "[CV 1/1] END max_depth=None, min_samples_split=5, n_estimators=500; total time=119.6min\n",
      "[CV 1/1] END max_depth=None, min_samples_split=5, n_estimators=800; total time=191.4min\n",
      "[CV 1/1] END max_depth=None, min_samples_split=15, n_estimators=200; total time=28.6min\n",
      "[CV 1/1] END max_depth=None, min_samples_split=15, n_estimators=500; total time=71.5min\n",
      "[CV 1/1] END max_depth=None, min_samples_split=15, n_estimators=800; total time=124.5min\n",
      "----------\n",
      "iter: 1\n",
      "n_candidates: 9\n",
      "n_resources: 40428\n",
      "Fitting 1 folds for each of 9 candidates, totalling 9 fits\n",
      "[CV 1/1] END max_depth=150, min_samples_split=15, n_estimators=500; total time=26.6min\n",
      "[CV 1/1] END max_depth=150, min_samples_split=5, n_estimators=500; total time=49.0min\n",
      "[CV 1/1] END max_depth=150, min_samples_split=5, n_estimators=800; total time=76.0min\n",
      "[CV 1/1] END max_depth=None, min_samples_split=15, n_estimators=200; total time=75.5min\n",
      "[CV 1/1] END max_depth=None, min_samples_split=15, n_estimators=500; total time=185.6min\n",
      "[CV 1/1] END max_depth=None, min_samples_split=5, n_estimators=200; total time=120.6min\n",
      "[CV 1/1] END max_depth=None, min_samples_split=5, n_estimators=500; total time=292.8min\n"
     ]
    }
   ],
   "source": [
    "rf_clf_search.fit(X_train, y_train)"
   ]
  },
  {
   "cell_type": "code",
   "execution_count": null,
   "id": "18ad5870-e883-4b77-8cc5-0a7a2267a69b",
   "metadata": {},
   "outputs": [],
   "source": [
    "rf_clf_search.best_params_"
   ]
  },
  {
   "cell_type": "code",
   "execution_count": null,
   "id": "f337e6cf-888c-41af-84ef-a3735732b886",
   "metadata": {},
   "outputs": [],
   "source": [
    "rf_clf_search.best_score_"
   ]
  },
  {
   "cell_type": "code",
   "execution_count": null,
   "id": "6f9dccc8-7f22-4100-8968-138e85773b95",
   "metadata": {},
   "outputs": [],
   "source": [
    "rf_clf_model = rf_clf_search.best_estimator_"
   ]
  },
  {
   "cell_type": "code",
   "execution_count": null,
   "id": "3e3ebeb8-9752-46b3-ae26-bd5571f16966",
   "metadata": {},
   "outputs": [],
   "source": [
    "rf_clf_model"
   ]
  },
  {
   "cell_type": "markdown",
   "id": "749e5e0e-da3d-4871-a3ca-978b1a4d0fc7",
   "metadata": {},
   "source": [
    "### Evaluation"
   ]
  },
  {
   "cell_type": "code",
   "execution_count": null,
   "id": "6ca2f5d6-7a77-4635-8e1c-ad168dd87e69",
   "metadata": {},
   "outputs": [],
   "source": [
    "y_pred = rf_clf_model.predict(X_test)\n",
    "\n",
    "print(\"Accuracy: \", accuracy_score(y_test, y_pred))\n",
    "print(\"Precision: \", precision_score(y_test, y_pred))\n",
    "print(\"Recall: \", recall_score(y_test, y_pred))\n",
    "print(\"F1: \", f1_score(y_test, y_pred))\n",
    "print(\"ROC AUC: \", roc_auc_score(y_test, y_pred))\n",
    "print(classification_report(y_test, y_pred))\n",
    "\n",
    "import scikitplot as skplt\n",
    "skplt.metrics.plot_confusion_matrix(y_test, y_pred)\n",
    "plt.title('RF Confusion Matrix')\n",
    "plt.savefig('graphs/rf_tfidf/rf_confusion_matrix.png')"
   ]
  },
  {
   "cell_type": "markdown",
   "id": "080516fc-8a1d-47d6-a22b-395a077f6383",
   "metadata": {},
   "source": [
    "## XGBoost "
   ]
  },
  {
   "cell_type": "code",
   "execution_count": 15,
   "id": "d8917266-98af-4646-9e6e-84f1d6bf715f",
   "metadata": {},
   "outputs": [],
   "source": [
    "import hyperopt\n",
    "from hyperopt import fmin, tpe, hp, STATUS_OK, Trials\n",
    "import warnings"
   ]
  },
  {
   "cell_type": "code",
   "execution_count": 16,
   "id": "f5841ff0-cc4a-4f56-8cef-5a58f68537ce",
   "metadata": {},
   "outputs": [],
   "source": [
    "def objective(space):\n",
    "    warnings.filterwarnings(action='ignore', category=UserWarning)\n",
    "    classifier = xgb.XGBClassifier(\n",
    "                    objective = \"binary:logistic\",\n",
    "                    eval_metric = \"logloss\",\n",
    "                    booster = \"gbtree\",\n",
    "                    tree_method = \"hist\",\n",
    "                    grow_policy = \"lossguide\",\n",
    "                    n_estimators = 300, \n",
    "                    max_depth = space['max_depth'],\n",
    "                    learning_rate = space['learning_rate'],\n",
    "                )\n",
    "    \n",
    "    classifier.fit(X_train, y_train)\n",
    "    \n",
    "    predicted_probs = classifier.predict_proba(X_test)\n",
    "\n",
    "    logloss = log_loss(y_test, predicted_probs)\n",
    "\n",
    "    print(\"Log loss = \" + str(logloss))\n",
    "\n",
    "    return{'loss':logloss, 'status': STATUS_OK }"
   ]
  },
  {
   "cell_type": "code",
   "execution_count": 17,
   "id": "85e00744-8201-495b-b045-34364eecdd44",
   "metadata": {},
   "outputs": [],
   "source": [
    "space = {\n",
    "    'max_depth' : hp.choice('max_depth', range(4, 10, 1)),\n",
    "    \"learning_rate\": hp.quniform(\"learning_rate\", 0.01, 0.5, 0.01)\n",
    "}"
   ]
  },
  {
   "cell_type": "code",
   "execution_count": 18,
   "id": "5789fdde-22b9-4898-9876-0962d5777efe",
   "metadata": {},
   "outputs": [
    {
     "name": "stdout",
     "output_type": "stream",
     "text": [
      "  0%|                                                                            | 0/5 [00:00<?, ?trial/s, best loss=?]"
     ]
    },
    {
     "name": "stderr",
     "output_type": "stream",
     "text": [
      "job exception: bad allocation\n",
      "\n"
     ]
    },
    {
     "name": "stdout",
     "output_type": "stream",
     "text": [
      "  0%|                                                                            | 0/5 [02:27<?, ?trial/s, best loss=?]\n"
     ]
    },
    {
     "ename": "XGBoostError",
     "evalue": "bad allocation",
     "output_type": "error",
     "traceback": [
      "\u001b[1;31m---------------------------------------------------------------------------\u001b[0m",
      "\u001b[1;31mXGBoostError\u001b[0m                              Traceback (most recent call last)",
      "\u001b[1;32m~\\AppData\\Local\\Temp/ipykernel_9036/3411661884.py\u001b[0m in \u001b[0;36m<module>\u001b[1;34m\u001b[0m\n\u001b[0;32m      1\u001b[0m \u001b[0mtrials\u001b[0m \u001b[1;33m=\u001b[0m \u001b[0mTrials\u001b[0m\u001b[1;33m(\u001b[0m\u001b[1;33m)\u001b[0m\u001b[1;33m\u001b[0m\u001b[1;33m\u001b[0m\u001b[0m\n\u001b[1;32m----> 2\u001b[1;33m best_param = fmin(fn = objective,\n\u001b[0m\u001b[0;32m      3\u001b[0m             \u001b[0mspace\u001b[0m \u001b[1;33m=\u001b[0m \u001b[0mspace\u001b[0m\u001b[1;33m,\u001b[0m\u001b[1;33m\u001b[0m\u001b[1;33m\u001b[0m\u001b[0m\n\u001b[0;32m      4\u001b[0m             \u001b[0malgo\u001b[0m \u001b[1;33m=\u001b[0m \u001b[0mtpe\u001b[0m\u001b[1;33m.\u001b[0m\u001b[0msuggest\u001b[0m\u001b[1;33m,\u001b[0m\u001b[1;33m\u001b[0m\u001b[1;33m\u001b[0m\u001b[0m\n\u001b[0;32m      5\u001b[0m             \u001b[0mmax_evals\u001b[0m \u001b[1;33m=\u001b[0m \u001b[1;36m5\u001b[0m\u001b[1;33m,\u001b[0m\u001b[1;33m\u001b[0m\u001b[1;33m\u001b[0m\u001b[0m\n",
      "\u001b[1;32m~\\AppData\\Local\\Programs\\Python\\Python38\\lib\\site-packages\\hyperopt\\fmin.py\u001b[0m in \u001b[0;36mfmin\u001b[1;34m(fn, space, algo, max_evals, timeout, loss_threshold, trials, rstate, allow_trials_fmin, pass_expr_memo_ctrl, catch_eval_exceptions, verbose, return_argmin, points_to_evaluate, max_queue_len, show_progressbar, early_stop_fn, trials_save_file)\u001b[0m\n\u001b[0;32m    538\u001b[0m \u001b[1;33m\u001b[0m\u001b[0m\n\u001b[0;32m    539\u001b[0m     \u001b[1;32mif\u001b[0m \u001b[0mallow_trials_fmin\u001b[0m \u001b[1;32mand\u001b[0m \u001b[0mhasattr\u001b[0m\u001b[1;33m(\u001b[0m\u001b[0mtrials\u001b[0m\u001b[1;33m,\u001b[0m \u001b[1;34m\"fmin\"\u001b[0m\u001b[1;33m)\u001b[0m\u001b[1;33m:\u001b[0m\u001b[1;33m\u001b[0m\u001b[1;33m\u001b[0m\u001b[0m\n\u001b[1;32m--> 540\u001b[1;33m         return trials.fmin(\n\u001b[0m\u001b[0;32m    541\u001b[0m             \u001b[0mfn\u001b[0m\u001b[1;33m,\u001b[0m\u001b[1;33m\u001b[0m\u001b[1;33m\u001b[0m\u001b[0m\n\u001b[0;32m    542\u001b[0m             \u001b[0mspace\u001b[0m\u001b[1;33m,\u001b[0m\u001b[1;33m\u001b[0m\u001b[1;33m\u001b[0m\u001b[0m\n",
      "\u001b[1;32m~\\AppData\\Local\\Programs\\Python\\Python38\\lib\\site-packages\\hyperopt\\base.py\u001b[0m in \u001b[0;36mfmin\u001b[1;34m(self, fn, space, algo, max_evals, timeout, loss_threshold, max_queue_len, rstate, verbose, pass_expr_memo_ctrl, catch_eval_exceptions, return_argmin, show_progressbar, early_stop_fn, trials_save_file)\u001b[0m\n\u001b[0;32m    669\u001b[0m         \u001b[1;32mfrom\u001b[0m \u001b[1;33m.\u001b[0m\u001b[0mfmin\u001b[0m \u001b[1;32mimport\u001b[0m \u001b[0mfmin\u001b[0m\u001b[1;33m\u001b[0m\u001b[1;33m\u001b[0m\u001b[0m\n\u001b[0;32m    670\u001b[0m \u001b[1;33m\u001b[0m\u001b[0m\n\u001b[1;32m--> 671\u001b[1;33m         return fmin(\n\u001b[0m\u001b[0;32m    672\u001b[0m             \u001b[0mfn\u001b[0m\u001b[1;33m,\u001b[0m\u001b[1;33m\u001b[0m\u001b[1;33m\u001b[0m\u001b[0m\n\u001b[0;32m    673\u001b[0m             \u001b[0mspace\u001b[0m\u001b[1;33m,\u001b[0m\u001b[1;33m\u001b[0m\u001b[1;33m\u001b[0m\u001b[0m\n",
      "\u001b[1;32m~\\AppData\\Local\\Programs\\Python\\Python38\\lib\\site-packages\\hyperopt\\fmin.py\u001b[0m in \u001b[0;36mfmin\u001b[1;34m(fn, space, algo, max_evals, timeout, loss_threshold, trials, rstate, allow_trials_fmin, pass_expr_memo_ctrl, catch_eval_exceptions, verbose, return_argmin, points_to_evaluate, max_queue_len, show_progressbar, early_stop_fn, trials_save_file)\u001b[0m\n\u001b[0;32m    584\u001b[0m \u001b[1;33m\u001b[0m\u001b[0m\n\u001b[0;32m    585\u001b[0m     \u001b[1;31m# next line is where the fmin is actually executed\u001b[0m\u001b[1;33m\u001b[0m\u001b[1;33m\u001b[0m\u001b[1;33m\u001b[0m\u001b[0m\n\u001b[1;32m--> 586\u001b[1;33m     \u001b[0mrval\u001b[0m\u001b[1;33m.\u001b[0m\u001b[0mexhaust\u001b[0m\u001b[1;33m(\u001b[0m\u001b[1;33m)\u001b[0m\u001b[1;33m\u001b[0m\u001b[1;33m\u001b[0m\u001b[0m\n\u001b[0m\u001b[0;32m    587\u001b[0m \u001b[1;33m\u001b[0m\u001b[0m\n\u001b[0;32m    588\u001b[0m     \u001b[1;32mif\u001b[0m \u001b[0mreturn_argmin\u001b[0m\u001b[1;33m:\u001b[0m\u001b[1;33m\u001b[0m\u001b[1;33m\u001b[0m\u001b[0m\n",
      "\u001b[1;32m~\\AppData\\Local\\Programs\\Python\\Python38\\lib\\site-packages\\hyperopt\\fmin.py\u001b[0m in \u001b[0;36mexhaust\u001b[1;34m(self)\u001b[0m\n\u001b[0;32m    362\u001b[0m     \u001b[1;32mdef\u001b[0m \u001b[0mexhaust\u001b[0m\u001b[1;33m(\u001b[0m\u001b[0mself\u001b[0m\u001b[1;33m)\u001b[0m\u001b[1;33m:\u001b[0m\u001b[1;33m\u001b[0m\u001b[1;33m\u001b[0m\u001b[0m\n\u001b[0;32m    363\u001b[0m         \u001b[0mn_done\u001b[0m \u001b[1;33m=\u001b[0m \u001b[0mlen\u001b[0m\u001b[1;33m(\u001b[0m\u001b[0mself\u001b[0m\u001b[1;33m.\u001b[0m\u001b[0mtrials\u001b[0m\u001b[1;33m)\u001b[0m\u001b[1;33m\u001b[0m\u001b[1;33m\u001b[0m\u001b[0m\n\u001b[1;32m--> 364\u001b[1;33m         \u001b[0mself\u001b[0m\u001b[1;33m.\u001b[0m\u001b[0mrun\u001b[0m\u001b[1;33m(\u001b[0m\u001b[0mself\u001b[0m\u001b[1;33m.\u001b[0m\u001b[0mmax_evals\u001b[0m \u001b[1;33m-\u001b[0m \u001b[0mn_done\u001b[0m\u001b[1;33m,\u001b[0m \u001b[0mblock_until_done\u001b[0m\u001b[1;33m=\u001b[0m\u001b[0mself\u001b[0m\u001b[1;33m.\u001b[0m\u001b[0masynchronous\u001b[0m\u001b[1;33m)\u001b[0m\u001b[1;33m\u001b[0m\u001b[1;33m\u001b[0m\u001b[0m\n\u001b[0m\u001b[0;32m    365\u001b[0m         \u001b[0mself\u001b[0m\u001b[1;33m.\u001b[0m\u001b[0mtrials\u001b[0m\u001b[1;33m.\u001b[0m\u001b[0mrefresh\u001b[0m\u001b[1;33m(\u001b[0m\u001b[1;33m)\u001b[0m\u001b[1;33m\u001b[0m\u001b[1;33m\u001b[0m\u001b[0m\n\u001b[0;32m    366\u001b[0m         \u001b[1;32mreturn\u001b[0m \u001b[0mself\u001b[0m\u001b[1;33m\u001b[0m\u001b[1;33m\u001b[0m\u001b[0m\n",
      "\u001b[1;32m~\\AppData\\Local\\Programs\\Python\\Python38\\lib\\site-packages\\hyperopt\\fmin.py\u001b[0m in \u001b[0;36mrun\u001b[1;34m(self, N, block_until_done)\u001b[0m\n\u001b[0;32m    298\u001b[0m                 \u001b[1;32melse\u001b[0m\u001b[1;33m:\u001b[0m\u001b[1;33m\u001b[0m\u001b[1;33m\u001b[0m\u001b[0m\n\u001b[0;32m    299\u001b[0m                     \u001b[1;31m# -- loop over trials and do the jobs directly\u001b[0m\u001b[1;33m\u001b[0m\u001b[1;33m\u001b[0m\u001b[1;33m\u001b[0m\u001b[0m\n\u001b[1;32m--> 300\u001b[1;33m                     \u001b[0mself\u001b[0m\u001b[1;33m.\u001b[0m\u001b[0mserial_evaluate\u001b[0m\u001b[1;33m(\u001b[0m\u001b[1;33m)\u001b[0m\u001b[1;33m\u001b[0m\u001b[1;33m\u001b[0m\u001b[0m\n\u001b[0m\u001b[0;32m    301\u001b[0m \u001b[1;33m\u001b[0m\u001b[0m\n\u001b[0;32m    302\u001b[0m                 \u001b[0mself\u001b[0m\u001b[1;33m.\u001b[0m\u001b[0mtrials\u001b[0m\u001b[1;33m.\u001b[0m\u001b[0mrefresh\u001b[0m\u001b[1;33m(\u001b[0m\u001b[1;33m)\u001b[0m\u001b[1;33m\u001b[0m\u001b[1;33m\u001b[0m\u001b[0m\n",
      "\u001b[1;32m~\\AppData\\Local\\Programs\\Python\\Python38\\lib\\site-packages\\hyperopt\\fmin.py\u001b[0m in \u001b[0;36mserial_evaluate\u001b[1;34m(self, N)\u001b[0m\n\u001b[0;32m    176\u001b[0m                 \u001b[0mctrl\u001b[0m \u001b[1;33m=\u001b[0m \u001b[0mbase\u001b[0m\u001b[1;33m.\u001b[0m\u001b[0mCtrl\u001b[0m\u001b[1;33m(\u001b[0m\u001b[0mself\u001b[0m\u001b[1;33m.\u001b[0m\u001b[0mtrials\u001b[0m\u001b[1;33m,\u001b[0m \u001b[0mcurrent_trial\u001b[0m\u001b[1;33m=\u001b[0m\u001b[0mtrial\u001b[0m\u001b[1;33m)\u001b[0m\u001b[1;33m\u001b[0m\u001b[1;33m\u001b[0m\u001b[0m\n\u001b[0;32m    177\u001b[0m                 \u001b[1;32mtry\u001b[0m\u001b[1;33m:\u001b[0m\u001b[1;33m\u001b[0m\u001b[1;33m\u001b[0m\u001b[0m\n\u001b[1;32m--> 178\u001b[1;33m                     \u001b[0mresult\u001b[0m \u001b[1;33m=\u001b[0m \u001b[0mself\u001b[0m\u001b[1;33m.\u001b[0m\u001b[0mdomain\u001b[0m\u001b[1;33m.\u001b[0m\u001b[0mevaluate\u001b[0m\u001b[1;33m(\u001b[0m\u001b[0mspec\u001b[0m\u001b[1;33m,\u001b[0m \u001b[0mctrl\u001b[0m\u001b[1;33m)\u001b[0m\u001b[1;33m\u001b[0m\u001b[1;33m\u001b[0m\u001b[0m\n\u001b[0m\u001b[0;32m    179\u001b[0m                 \u001b[1;32mexcept\u001b[0m \u001b[0mException\u001b[0m \u001b[1;32mas\u001b[0m \u001b[0me\u001b[0m\u001b[1;33m:\u001b[0m\u001b[1;33m\u001b[0m\u001b[1;33m\u001b[0m\u001b[0m\n\u001b[0;32m    180\u001b[0m                     \u001b[0mlogger\u001b[0m\u001b[1;33m.\u001b[0m\u001b[0merror\u001b[0m\u001b[1;33m(\u001b[0m\u001b[1;34m\"job exception: %s\"\u001b[0m \u001b[1;33m%\u001b[0m \u001b[0mstr\u001b[0m\u001b[1;33m(\u001b[0m\u001b[0me\u001b[0m\u001b[1;33m)\u001b[0m\u001b[1;33m)\u001b[0m\u001b[1;33m\u001b[0m\u001b[1;33m\u001b[0m\u001b[0m\n",
      "\u001b[1;32m~\\AppData\\Local\\Programs\\Python\\Python38\\lib\\site-packages\\hyperopt\\base.py\u001b[0m in \u001b[0;36mevaluate\u001b[1;34m(self, config, ctrl, attach_attachments)\u001b[0m\n\u001b[0;32m    890\u001b[0m                 \u001b[0mprint_node_on_error\u001b[0m\u001b[1;33m=\u001b[0m\u001b[0mself\u001b[0m\u001b[1;33m.\u001b[0m\u001b[0mrec_eval_print_node_on_error\u001b[0m\u001b[1;33m,\u001b[0m\u001b[1;33m\u001b[0m\u001b[1;33m\u001b[0m\u001b[0m\n\u001b[0;32m    891\u001b[0m             )\n\u001b[1;32m--> 892\u001b[1;33m             \u001b[0mrval\u001b[0m \u001b[1;33m=\u001b[0m \u001b[0mself\u001b[0m\u001b[1;33m.\u001b[0m\u001b[0mfn\u001b[0m\u001b[1;33m(\u001b[0m\u001b[0mpyll_rval\u001b[0m\u001b[1;33m)\u001b[0m\u001b[1;33m\u001b[0m\u001b[1;33m\u001b[0m\u001b[0m\n\u001b[0m\u001b[0;32m    893\u001b[0m \u001b[1;33m\u001b[0m\u001b[0m\n\u001b[0;32m    894\u001b[0m         \u001b[1;32mif\u001b[0m \u001b[0misinstance\u001b[0m\u001b[1;33m(\u001b[0m\u001b[0mrval\u001b[0m\u001b[1;33m,\u001b[0m \u001b[1;33m(\u001b[0m\u001b[0mfloat\u001b[0m\u001b[1;33m,\u001b[0m \u001b[0mint\u001b[0m\u001b[1;33m,\u001b[0m \u001b[0mnp\u001b[0m\u001b[1;33m.\u001b[0m\u001b[0mnumber\u001b[0m\u001b[1;33m)\u001b[0m\u001b[1;33m)\u001b[0m\u001b[1;33m:\u001b[0m\u001b[1;33m\u001b[0m\u001b[1;33m\u001b[0m\u001b[0m\n",
      "\u001b[1;32m~\\AppData\\Local\\Temp/ipykernel_9036/3299238240.py\u001b[0m in \u001b[0;36mobjective\u001b[1;34m(space)\u001b[0m\n\u001b[0;32m     12\u001b[0m                 )\n\u001b[0;32m     13\u001b[0m \u001b[1;33m\u001b[0m\u001b[0m\n\u001b[1;32m---> 14\u001b[1;33m     \u001b[0mclassifier\u001b[0m\u001b[1;33m.\u001b[0m\u001b[0mfit\u001b[0m\u001b[1;33m(\u001b[0m\u001b[0mX_train\u001b[0m\u001b[1;33m,\u001b[0m \u001b[0my_train\u001b[0m\u001b[1;33m)\u001b[0m\u001b[1;33m\u001b[0m\u001b[1;33m\u001b[0m\u001b[0m\n\u001b[0m\u001b[0;32m     15\u001b[0m \u001b[1;33m\u001b[0m\u001b[0m\n\u001b[0;32m     16\u001b[0m     \u001b[0mpredicted_probs\u001b[0m \u001b[1;33m=\u001b[0m \u001b[0mclassifier\u001b[0m\u001b[1;33m.\u001b[0m\u001b[0mpredict_proba\u001b[0m\u001b[1;33m(\u001b[0m\u001b[0mX_test\u001b[0m\u001b[1;33m)\u001b[0m\u001b[1;33m\u001b[0m\u001b[1;33m\u001b[0m\u001b[0m\n",
      "\u001b[1;32m~\\AppData\\Local\\Programs\\Python\\Python38\\lib\\site-packages\\xgboost\\core.py\u001b[0m in \u001b[0;36minner_f\u001b[1;34m(*args, **kwargs)\u001b[0m\n\u001b[0;32m    434\u001b[0m         \u001b[1;32mfor\u001b[0m \u001b[0mk\u001b[0m\u001b[1;33m,\u001b[0m \u001b[0marg\u001b[0m \u001b[1;32min\u001b[0m \u001b[0mzip\u001b[0m\u001b[1;33m(\u001b[0m\u001b[0msig\u001b[0m\u001b[1;33m.\u001b[0m\u001b[0mparameters\u001b[0m\u001b[1;33m,\u001b[0m \u001b[0margs\u001b[0m\u001b[1;33m)\u001b[0m\u001b[1;33m:\u001b[0m\u001b[1;33m\u001b[0m\u001b[1;33m\u001b[0m\u001b[0m\n\u001b[0;32m    435\u001b[0m             \u001b[0mkwargs\u001b[0m\u001b[1;33m[\u001b[0m\u001b[0mk\u001b[0m\u001b[1;33m]\u001b[0m \u001b[1;33m=\u001b[0m \u001b[0marg\u001b[0m\u001b[1;33m\u001b[0m\u001b[1;33m\u001b[0m\u001b[0m\n\u001b[1;32m--> 436\u001b[1;33m         \u001b[1;32mreturn\u001b[0m \u001b[0mf\u001b[0m\u001b[1;33m(\u001b[0m\u001b[1;33m**\u001b[0m\u001b[0mkwargs\u001b[0m\u001b[1;33m)\u001b[0m\u001b[1;33m\u001b[0m\u001b[1;33m\u001b[0m\u001b[0m\n\u001b[0m\u001b[0;32m    437\u001b[0m \u001b[1;33m\u001b[0m\u001b[0m\n\u001b[0;32m    438\u001b[0m     \u001b[1;32mreturn\u001b[0m \u001b[0minner_f\u001b[0m\u001b[1;33m\u001b[0m\u001b[1;33m\u001b[0m\u001b[0m\n",
      "\u001b[1;32m~\\AppData\\Local\\Programs\\Python\\Python38\\lib\\site-packages\\xgboost\\sklearn.py\u001b[0m in \u001b[0;36mfit\u001b[1;34m(self, X, y, sample_weight, base_margin, eval_set, eval_metric, early_stopping_rounds, verbose, xgb_model, sample_weight_eval_set, base_margin_eval_set, feature_weights, callbacks)\u001b[0m\n\u001b[0;32m   1174\u001b[0m         )\n\u001b[0;32m   1175\u001b[0m \u001b[1;33m\u001b[0m\u001b[0m\n\u001b[1;32m-> 1176\u001b[1;33m         self._Booster = train(\n\u001b[0m\u001b[0;32m   1177\u001b[0m             \u001b[0mparams\u001b[0m\u001b[1;33m,\u001b[0m\u001b[1;33m\u001b[0m\u001b[1;33m\u001b[0m\u001b[0m\n\u001b[0;32m   1178\u001b[0m             \u001b[0mtrain_dmatrix\u001b[0m\u001b[1;33m,\u001b[0m\u001b[1;33m\u001b[0m\u001b[1;33m\u001b[0m\u001b[0m\n",
      "\u001b[1;32m~\\AppData\\Local\\Programs\\Python\\Python38\\lib\\site-packages\\xgboost\\training.py\u001b[0m in \u001b[0;36mtrain\u001b[1;34m(params, dtrain, num_boost_round, evals, obj, feval, maximize, early_stopping_rounds, evals_result, verbose_eval, xgb_model, callbacks)\u001b[0m\n\u001b[0;32m    187\u001b[0m     \u001b[0mBooster\u001b[0m \u001b[1;33m:\u001b[0m \u001b[0ma\u001b[0m \u001b[0mtrained\u001b[0m \u001b[0mbooster\u001b[0m \u001b[0mmodel\u001b[0m\u001b[1;33m\u001b[0m\u001b[1;33m\u001b[0m\u001b[0m\n\u001b[0;32m    188\u001b[0m     \"\"\"\n\u001b[1;32m--> 189\u001b[1;33m     bst = _train_internal(params, dtrain,\n\u001b[0m\u001b[0;32m    190\u001b[0m                           \u001b[0mnum_boost_round\u001b[0m\u001b[1;33m=\u001b[0m\u001b[0mnum_boost_round\u001b[0m\u001b[1;33m,\u001b[0m\u001b[1;33m\u001b[0m\u001b[1;33m\u001b[0m\u001b[0m\n\u001b[0;32m    191\u001b[0m                           \u001b[0mevals\u001b[0m\u001b[1;33m=\u001b[0m\u001b[0mevals\u001b[0m\u001b[1;33m,\u001b[0m\u001b[1;33m\u001b[0m\u001b[1;33m\u001b[0m\u001b[0m\n",
      "\u001b[1;32m~\\AppData\\Local\\Programs\\Python\\Python38\\lib\\site-packages\\xgboost\\training.py\u001b[0m in \u001b[0;36m_train_internal\u001b[1;34m(params, dtrain, num_boost_round, evals, obj, feval, xgb_model, callbacks, evals_result, maximize, verbose_eval, early_stopping_rounds)\u001b[0m\n\u001b[0;32m     79\u001b[0m         \u001b[1;32mif\u001b[0m \u001b[0mcallbacks\u001b[0m\u001b[1;33m.\u001b[0m\u001b[0mbefore_iteration\u001b[0m\u001b[1;33m(\u001b[0m\u001b[0mbst\u001b[0m\u001b[1;33m,\u001b[0m \u001b[0mi\u001b[0m\u001b[1;33m,\u001b[0m \u001b[0mdtrain\u001b[0m\u001b[1;33m,\u001b[0m \u001b[0mevals\u001b[0m\u001b[1;33m)\u001b[0m\u001b[1;33m:\u001b[0m\u001b[1;33m\u001b[0m\u001b[1;33m\u001b[0m\u001b[0m\n\u001b[0;32m     80\u001b[0m             \u001b[1;32mbreak\u001b[0m\u001b[1;33m\u001b[0m\u001b[1;33m\u001b[0m\u001b[0m\n\u001b[1;32m---> 81\u001b[1;33m         \u001b[0mbst\u001b[0m\u001b[1;33m.\u001b[0m\u001b[0mupdate\u001b[0m\u001b[1;33m(\u001b[0m\u001b[0mdtrain\u001b[0m\u001b[1;33m,\u001b[0m \u001b[0mi\u001b[0m\u001b[1;33m,\u001b[0m \u001b[0mobj\u001b[0m\u001b[1;33m)\u001b[0m\u001b[1;33m\u001b[0m\u001b[1;33m\u001b[0m\u001b[0m\n\u001b[0m\u001b[0;32m     82\u001b[0m         \u001b[1;32mif\u001b[0m \u001b[0mcallbacks\u001b[0m\u001b[1;33m.\u001b[0m\u001b[0mafter_iteration\u001b[0m\u001b[1;33m(\u001b[0m\u001b[0mbst\u001b[0m\u001b[1;33m,\u001b[0m \u001b[0mi\u001b[0m\u001b[1;33m,\u001b[0m \u001b[0mdtrain\u001b[0m\u001b[1;33m,\u001b[0m \u001b[0mevals\u001b[0m\u001b[1;33m)\u001b[0m\u001b[1;33m:\u001b[0m\u001b[1;33m\u001b[0m\u001b[1;33m\u001b[0m\u001b[0m\n\u001b[0;32m     83\u001b[0m             \u001b[1;32mbreak\u001b[0m\u001b[1;33m\u001b[0m\u001b[1;33m\u001b[0m\u001b[0m\n",
      "\u001b[1;32m~\\AppData\\Local\\Programs\\Python\\Python38\\lib\\site-packages\\xgboost\\core.py\u001b[0m in \u001b[0;36mupdate\u001b[1;34m(self, dtrain, iteration, fobj)\u001b[0m\n\u001b[0;32m   1497\u001b[0m \u001b[1;33m\u001b[0m\u001b[0m\n\u001b[0;32m   1498\u001b[0m         \u001b[1;32mif\u001b[0m \u001b[0mfobj\u001b[0m \u001b[1;32mis\u001b[0m \u001b[1;32mNone\u001b[0m\u001b[1;33m:\u001b[0m\u001b[1;33m\u001b[0m\u001b[1;33m\u001b[0m\u001b[0m\n\u001b[1;32m-> 1499\u001b[1;33m             _check_call(_LIB.XGBoosterUpdateOneIter(self.handle,\n\u001b[0m\u001b[0;32m   1500\u001b[0m                                                     \u001b[0mctypes\u001b[0m\u001b[1;33m.\u001b[0m\u001b[0mc_int\u001b[0m\u001b[1;33m(\u001b[0m\u001b[0miteration\u001b[0m\u001b[1;33m)\u001b[0m\u001b[1;33m,\u001b[0m\u001b[1;33m\u001b[0m\u001b[1;33m\u001b[0m\u001b[0m\n\u001b[0;32m   1501\u001b[0m                                                     dtrain.handle))\n",
      "\u001b[1;32m~\\AppData\\Local\\Programs\\Python\\Python38\\lib\\site-packages\\xgboost\\core.py\u001b[0m in \u001b[0;36m_check_call\u001b[1;34m(ret)\u001b[0m\n\u001b[0;32m    208\u001b[0m     \"\"\"\n\u001b[0;32m    209\u001b[0m     \u001b[1;32mif\u001b[0m \u001b[0mret\u001b[0m \u001b[1;33m!=\u001b[0m \u001b[1;36m0\u001b[0m\u001b[1;33m:\u001b[0m\u001b[1;33m\u001b[0m\u001b[1;33m\u001b[0m\u001b[0m\n\u001b[1;32m--> 210\u001b[1;33m         \u001b[1;32mraise\u001b[0m \u001b[0mXGBoostError\u001b[0m\u001b[1;33m(\u001b[0m\u001b[0mpy_str\u001b[0m\u001b[1;33m(\u001b[0m\u001b[0m_LIB\u001b[0m\u001b[1;33m.\u001b[0m\u001b[0mXGBGetLastError\u001b[0m\u001b[1;33m(\u001b[0m\u001b[1;33m)\u001b[0m\u001b[1;33m)\u001b[0m\u001b[1;33m)\u001b[0m\u001b[1;33m\u001b[0m\u001b[1;33m\u001b[0m\u001b[0m\n\u001b[0m\u001b[0;32m    211\u001b[0m \u001b[1;33m\u001b[0m\u001b[0m\n\u001b[0;32m    212\u001b[0m \u001b[1;33m\u001b[0m\u001b[0m\n",
      "\u001b[1;31mXGBoostError\u001b[0m: bad allocation"
     ]
    }
   ],
   "source": [
    "trials = Trials()\n",
    "best_param = fmin(fn = objective,\n",
    "            space = space,\n",
    "            algo = tpe.suggest,\n",
    "            max_evals = 5,\n",
    "            trials = trials)"
   ]
  },
  {
   "cell_type": "code",
   "execution_count": null,
   "id": "06d904c6-93ed-45b2-a9b0-af6e537c476f",
   "metadata": {},
   "outputs": [],
   "source": [
    "print(\"Best Param : \", best_param)"
   ]
  },
  {
   "cell_type": "markdown",
   "id": "1244632f-5906-4e38-a903-f0e859f06890",
   "metadata": {},
   "source": [
    "### Training the model with the tuned parameters."
   ]
  },
  {
   "cell_type": "code",
   "execution_count": null,
   "id": "82160941-8eec-4798-b0eb-de566448acbe",
   "metadata": {},
   "outputs": [],
   "source": [
    "params = dict(\n",
    "            objective = \"binary:logistic\",\n",
    "            eval_metric = \"logloss\",\n",
    "            booster = \"gbtree\",\n",
    "            tree_method = \"hist\",\n",
    "            grow_policy = \"lossguide\",\n",
    "            max_depth = 5,\n",
    "            eta = 0.33\n",
    "        )"
   ]
  },
  {
   "cell_type": "code",
   "execution_count": null,
   "id": "c9032ff7-659f-40a2-8273-6540ad28c0f7",
   "metadata": {},
   "outputs": [],
   "source": [
    "dtrain = xgb.DMatrix(X_train, label=y_train)\n",
    "dvalid = xgb.DMatrix(X_test, label=y_test)"
   ]
  },
  {
   "cell_type": "code",
   "execution_count": null,
   "id": "10627c4d-4c69-42e0-ae86-1227092978ee",
   "metadata": {},
   "outputs": [],
   "source": [
    "watchlist = [(dtrain, 'train'), (dvalid, 'valid')]"
   ]
  },
  {
   "cell_type": "code",
   "execution_count": null,
   "id": "f6543ad2-7435-4009-806c-9a3ec45f7fe0",
   "metadata": {},
   "outputs": [],
   "source": [
    "xgb_model = xgb.train(params, dtrain, 1000, watchlist, early_stopping_rounds=20, verbose_eval=10)"
   ]
  },
  {
   "cell_type": "code",
   "execution_count": null,
   "id": "087614a7-5e99-4c3c-9037-dbee48dfc28e",
   "metadata": {},
   "outputs": [],
   "source": [
    "xgb_clf = xgb.XGBClassifier(\n",
    "                    objective = \"binary:logistic\",\n",
    "                    eval_metric = \"logloss\",\n",
    "                    booster = \"gbtree\",\n",
    "                    tree_method = \"hist\",\n",
    "                    grow_policy = \"lossguide\",\n",
    "                    n_estimators = 300, \n",
    "                    max_depth = '5',\n",
    "                    learning_rate = '0.33',\n",
    "                )\n",
    "    \n",
    "xgb_clf.fit(X_train, y_train)"
   ]
  },
  {
   "cell_type": "markdown",
   "id": "3ba8601d-1558-48b0-bff7-2cb22c3ac47e",
   "metadata": {},
   "source": [
    "### Evaluation"
   ]
  },
  {
   "cell_type": "code",
   "execution_count": null,
   "id": "2cfedfd6-076c-4d7d-9991-a06eba54e997",
   "metadata": {},
   "outputs": [],
   "source": [
    "y_predicted_probs = xgb_clf.predict_proba(X_test)\n",
    "\n",
    "y_pred = xgb_clf.predict(X_test)\n",
    "\n",
    "print(\"Log Loss: \", log_loss(y_test, y_predicted_probs))\n",
    "print(\"Accuracy: \", accuracy_score(y_test, y_pred))\n",
    "print(\"Precision: \", precision_score(y_test, y_pred))\n",
    "print(\"Recall: \", recall_score(y_test, y_pred))\n",
    "print(\"F1: \", f1_score(y_test, y_pred))\n",
    "print(\"ROC AUC: \", roc_auc_score(y_test, y_pred))\n",
    "print(classification_report(y_test, y_pred))\n",
    "\n",
    "import scikitplot as skplt\n",
    "skplt.metrics.plot_confusion_matrix(y_test, y_pred)\n",
    "plt.title('XGB Confusion Matrix')\n",
    "plt.savefig('graphs/xgb_tfidf/xgb_confusion_matrix.png')"
   ]
  }
 ],
 "metadata": {
  "kernelspec": {
   "display_name": "Python 3 (ipykernel)",
   "language": "python",
   "name": "python3"
  },
  "language_info": {
   "codemirror_mode": {
    "name": "ipython",
    "version": 3
   },
   "file_extension": ".py",
   "mimetype": "text/x-python",
   "name": "python",
   "nbconvert_exporter": "python",
   "pygments_lexer": "ipython3",
   "version": "3.8.10"
  }
 },
 "nbformat": 4,
 "nbformat_minor": 5
}
