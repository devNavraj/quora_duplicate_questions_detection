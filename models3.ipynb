{
 "cells": [
  {
   "cell_type": "code",
   "execution_count": 1,
   "id": "4a7683eb-9776-4d95-a387-bdadbf906fab",
   "metadata": {},
   "outputs": [],
   "source": [
    "import numpy as np\n",
    "import pandas as pd\n",
    "import matplotlib.pyplot as plt\n",
    "from matplotlib.pyplot import figure\n",
    "import seaborn as sns\n",
    "from scipy import sparse\n",
    "from sklearn.feature_extraction.text import TfidfVectorizer\n",
    "from sklearn.preprocessing import StandardScaler, MinMaxScaler\n",
    "from sklearn.model_selection import train_test_split, cross_val_score\n",
    "from sklearn.experimental import enable_halving_search_cv\n",
    "from sklearn.model_selection import HalvingGridSearchCV, ShuffleSplit\n",
    "from imblearn.over_sampling import RandomOverSampler\n",
    "from sklearn.linear_model import LogisticRegression\n",
    "from sklearn.svm import LinearSVC\n",
    "from sklearn.ensemble import RandomForestClassifier\n",
    "from sklearn.metrics import accuracy_score, precision_score, recall_score, f1_score \n",
    "from sklearn.metrics import classification_report, roc_auc_score\n",
    "from sklearn.metrics import confusion_matrix, log_loss\n",
    "from sklearn.calibration import CalibratedClassifierCV\n",
    "import xgboost as xgb\n",
    "import time"
   ]
  },
  {
   "cell_type": "code",
   "execution_count": 2,
   "id": "09e76ef8-e476-4cc1-96f6-7ce67b9e23bb",
   "metadata": {},
   "outputs": [],
   "source": [
    "# Importing the dataset\n",
    "traindata = pd.read_csv(\"data/train.csv\")\n",
    "#testdata = pd.read_csv('data/test.csv')"
   ]
  },
  {
   "cell_type": "code",
   "execution_count": 3,
   "id": "cdca5a64-2884-49e7-b9de-e6c96c633939",
   "metadata": {},
   "outputs": [
    {
     "name": "stdout",
     "output_type": "stream",
     "text": [
      "(404287, 6)\n"
     ]
    }
   ],
   "source": [
    "traindata = traindata.dropna()\n",
    "print(traindata.shape)"
   ]
  },
  {
   "cell_type": "code",
   "execution_count": 4,
   "id": "4c50c787-a388-435f-9f7f-c18c185fe2e3",
   "metadata": {},
   "outputs": [
    {
     "data": {
      "text/plain": [
       "id              False\n",
       "qid1            False\n",
       "qid2            False\n",
       "question1       False\n",
       "question2       False\n",
       "is_duplicate    False\n",
       "dtype: bool"
      ]
     },
     "execution_count": 4,
     "metadata": {},
     "output_type": "execute_result"
    }
   ],
   "source": [
    "np.isnan(traindata.any())"
   ]
  },
  {
   "cell_type": "code",
   "execution_count": 5,
   "id": "a1a6427b-cf9a-4246-99f8-0fe7326ce40f",
   "metadata": {},
   "outputs": [
    {
     "data": {
      "text/html": [
       "<div>\n",
       "<style scoped>\n",
       "    .dataframe tbody tr th:only-of-type {\n",
       "        vertical-align: middle;\n",
       "    }\n",
       "\n",
       "    .dataframe tbody tr th {\n",
       "        vertical-align: top;\n",
       "    }\n",
       "\n",
       "    .dataframe thead th {\n",
       "        text-align: right;\n",
       "    }\n",
       "</style>\n",
       "<table border=\"1\" class=\"dataframe\">\n",
       "  <thead>\n",
       "    <tr style=\"text-align: right;\">\n",
       "      <th></th>\n",
       "      <th>id</th>\n",
       "      <th>qid1</th>\n",
       "      <th>qid2</th>\n",
       "      <th>question1</th>\n",
       "      <th>question2</th>\n",
       "      <th>is_duplicate</th>\n",
       "    </tr>\n",
       "  </thead>\n",
       "  <tbody>\n",
       "    <tr>\n",
       "      <th>0</th>\n",
       "      <td>0</td>\n",
       "      <td>1</td>\n",
       "      <td>2</td>\n",
       "      <td>What is the step by step guide to invest in sh...</td>\n",
       "      <td>What is the step by step guide to invest in sh...</td>\n",
       "      <td>0</td>\n",
       "    </tr>\n",
       "    <tr>\n",
       "      <th>1</th>\n",
       "      <td>1</td>\n",
       "      <td>3</td>\n",
       "      <td>4</td>\n",
       "      <td>What is the story of Kohinoor (Koh-i-Noor) Dia...</td>\n",
       "      <td>What would happen if the Indian government sto...</td>\n",
       "      <td>0</td>\n",
       "    </tr>\n",
       "    <tr>\n",
       "      <th>2</th>\n",
       "      <td>2</td>\n",
       "      <td>5</td>\n",
       "      <td>6</td>\n",
       "      <td>How can I increase the speed of my internet co...</td>\n",
       "      <td>How can Internet speed be increased by hacking...</td>\n",
       "      <td>0</td>\n",
       "    </tr>\n",
       "    <tr>\n",
       "      <th>3</th>\n",
       "      <td>3</td>\n",
       "      <td>7</td>\n",
       "      <td>8</td>\n",
       "      <td>Why am I mentally very lonely? How can I solve...</td>\n",
       "      <td>Find the remainder when [math]23^{24}[/math] i...</td>\n",
       "      <td>0</td>\n",
       "    </tr>\n",
       "    <tr>\n",
       "      <th>4</th>\n",
       "      <td>4</td>\n",
       "      <td>9</td>\n",
       "      <td>10</td>\n",
       "      <td>Which one dissolve in water quikly sugar, salt...</td>\n",
       "      <td>Which fish would survive in salt water?</td>\n",
       "      <td>0</td>\n",
       "    </tr>\n",
       "  </tbody>\n",
       "</table>\n",
       "</div>"
      ],
      "text/plain": [
       "   id  qid1  qid2                                          question1  \\\n",
       "0   0     1     2  What is the step by step guide to invest in sh...   \n",
       "1   1     3     4  What is the story of Kohinoor (Koh-i-Noor) Dia...   \n",
       "2   2     5     6  How can I increase the speed of my internet co...   \n",
       "3   3     7     8  Why am I mentally very lonely? How can I solve...   \n",
       "4   4     9    10  Which one dissolve in water quikly sugar, salt...   \n",
       "\n",
       "                                           question2  is_duplicate  \n",
       "0  What is the step by step guide to invest in sh...             0  \n",
       "1  What would happen if the Indian government sto...             0  \n",
       "2  How can Internet speed be increased by hacking...             0  \n",
       "3  Find the remainder when [math]23^{24}[/math] i...             0  \n",
       "4            Which fish would survive in salt water?             0  "
      ]
     },
     "execution_count": 5,
     "metadata": {},
     "output_type": "execute_result"
    }
   ],
   "source": [
    "traindata.head()"
   ]
  },
  {
   "cell_type": "code",
   "execution_count": 6,
   "id": "1ed0f34d-e622-4a0d-bc0c-679b6abc5f4b",
   "metadata": {},
   "outputs": [],
   "source": [
    "labels = np.array(traindata[\"is_duplicate\"])"
   ]
  },
  {
   "cell_type": "code",
   "execution_count": 7,
   "id": "45586c7e-8e8d-4ca7-a13a-6b7c32118871",
   "metadata": {},
   "outputs": [],
   "source": [
    "features = pd.read_csv(\"data/train_set3_features.csv\")"
   ]
  },
  {
   "cell_type": "code",
   "execution_count": 8,
   "id": "cd53606f-6068-4acc-8224-75936f442b87",
   "metadata": {},
   "outputs": [
    {
     "data": {
      "text/html": [
       "<div>\n",
       "<style scoped>\n",
       "    .dataframe tbody tr th:only-of-type {\n",
       "        vertical-align: middle;\n",
       "    }\n",
       "\n",
       "    .dataframe tbody tr th {\n",
       "        vertical-align: top;\n",
       "    }\n",
       "\n",
       "    .dataframe thead th {\n",
       "        text-align: right;\n",
       "    }\n",
       "</style>\n",
       "<table border=\"1\" class=\"dataframe\">\n",
       "  <thead>\n",
       "    <tr style=\"text-align: right;\">\n",
       "      <th></th>\n",
       "      <th>q1_char_num</th>\n",
       "      <th>q2_char_num</th>\n",
       "      <th>q1_word_num</th>\n",
       "      <th>q2_word_num</th>\n",
       "      <th>total_word_num</th>\n",
       "      <th>differ_word_num</th>\n",
       "      <th>same_first_word</th>\n",
       "      <th>same_last_word</th>\n",
       "      <th>total_unique_word_num</th>\n",
       "      <th>total_unique_word_withoutstopword_num</th>\n",
       "      <th>...</th>\n",
       "      <th>cityblock_distance</th>\n",
       "      <th>jaccard_distance</th>\n",
       "      <th>canberra_distance</th>\n",
       "      <th>euclidean_distance</th>\n",
       "      <th>minkowski_distance</th>\n",
       "      <th>braycurtis_distance</th>\n",
       "      <th>skew_q1vec</th>\n",
       "      <th>skew_q2vec</th>\n",
       "      <th>kur_q1vec</th>\n",
       "      <th>kur_q2vec</th>\n",
       "    </tr>\n",
       "  </thead>\n",
       "  <tbody>\n",
       "    <tr>\n",
       "      <th>0</th>\n",
       "      <td>65</td>\n",
       "      <td>56</td>\n",
       "      <td>14</td>\n",
       "      <td>12</td>\n",
       "      <td>26</td>\n",
       "      <td>2</td>\n",
       "      <td>1</td>\n",
       "      <td>0</td>\n",
       "      <td>12</td>\n",
       "      <td>6</td>\n",
       "      <td>...</td>\n",
       "      <td>5.081614</td>\n",
       "      <td>1.0</td>\n",
       "      <td>94.023324</td>\n",
       "      <td>0.371408</td>\n",
       "      <td>0.168999</td>\n",
       "      <td>0.186557</td>\n",
       "      <td>0.031817</td>\n",
       "      <td>-0.091902</td>\n",
       "      <td>0.050416</td>\n",
       "      <td>0.337301</td>\n",
       "    </tr>\n",
       "    <tr>\n",
       "      <th>1</th>\n",
       "      <td>48</td>\n",
       "      <td>85</td>\n",
       "      <td>10</td>\n",
       "      <td>15</td>\n",
       "      <td>25</td>\n",
       "      <td>5</td>\n",
       "      <td>1</td>\n",
       "      <td>0</td>\n",
       "      <td>17</td>\n",
       "      <td>11</td>\n",
       "      <td>...</td>\n",
       "      <td>11.028160</td>\n",
       "      <td>1.0</td>\n",
       "      <td>158.811137</td>\n",
       "      <td>0.785732</td>\n",
       "      <td>0.353440</td>\n",
       "      <td>0.437108</td>\n",
       "      <td>0.004801</td>\n",
       "      <td>0.163020</td>\n",
       "      <td>0.185670</td>\n",
       "      <td>0.112646</td>\n",
       "    </tr>\n",
       "    <tr>\n",
       "      <th>2</th>\n",
       "      <td>70</td>\n",
       "      <td>54</td>\n",
       "      <td>14</td>\n",
       "      <td>10</td>\n",
       "      <td>24</td>\n",
       "      <td>4</td>\n",
       "      <td>1</td>\n",
       "      <td>0</td>\n",
       "      <td>19</td>\n",
       "      <td>8</td>\n",
       "      <td>...</td>\n",
       "      <td>8.829532</td>\n",
       "      <td>1.0</td>\n",
       "      <td>131.681688</td>\n",
       "      <td>0.635757</td>\n",
       "      <td>0.286115</td>\n",
       "      <td>0.329345</td>\n",
       "      <td>0.226704</td>\n",
       "      <td>0.060504</td>\n",
       "      <td>0.089026</td>\n",
       "      <td>-0.465365</td>\n",
       "    </tr>\n",
       "    <tr>\n",
       "      <th>3</th>\n",
       "      <td>48</td>\n",
       "      <td>58</td>\n",
       "      <td>11</td>\n",
       "      <td>13</td>\n",
       "      <td>24</td>\n",
       "      <td>2</td>\n",
       "      <td>0</td>\n",
       "      <td>0</td>\n",
       "      <td>20</td>\n",
       "      <td>9</td>\n",
       "      <td>...</td>\n",
       "      <td>16.075622</td>\n",
       "      <td>1.0</td>\n",
       "      <td>195.966982</td>\n",
       "      <td>1.151438</td>\n",
       "      <td>0.513992</td>\n",
       "      <td>0.708427</td>\n",
       "      <td>-0.002527</td>\n",
       "      <td>0.009567</td>\n",
       "      <td>-0.244560</td>\n",
       "      <td>0.074111</td>\n",
       "    </tr>\n",
       "    <tr>\n",
       "      <th>4</th>\n",
       "      <td>73</td>\n",
       "      <td>38</td>\n",
       "      <td>13</td>\n",
       "      <td>7</td>\n",
       "      <td>20</td>\n",
       "      <td>6</td>\n",
       "      <td>1</td>\n",
       "      <td>0</td>\n",
       "      <td>16</td>\n",
       "      <td>13</td>\n",
       "      <td>...</td>\n",
       "      <td>12.103178</td>\n",
       "      <td>1.0</td>\n",
       "      <td>161.408435</td>\n",
       "      <td>0.860225</td>\n",
       "      <td>0.382770</td>\n",
       "      <td>0.480633</td>\n",
       "      <td>-0.133849</td>\n",
       "      <td>0.114777</td>\n",
       "      <td>0.217900</td>\n",
       "      <td>-0.338876</td>\n",
       "    </tr>\n",
       "  </tbody>\n",
       "</table>\n",
       "<p>5 rows × 41 columns</p>\n",
       "</div>"
      ],
      "text/plain": [
       "   q1_char_num  q2_char_num  q1_word_num  q2_word_num  total_word_num  \\\n",
       "0           65           56           14           12              26   \n",
       "1           48           85           10           15              25   \n",
       "2           70           54           14           10              24   \n",
       "3           48           58           11           13              24   \n",
       "4           73           38           13            7              20   \n",
       "\n",
       "   differ_word_num  same_first_word  same_last_word  total_unique_word_num  \\\n",
       "0                2                1               0                     12   \n",
       "1                5                1               0                     17   \n",
       "2                4                1               0                     19   \n",
       "3                2                0               0                     20   \n",
       "4                6                1               0                     16   \n",
       "\n",
       "   total_unique_word_withoutstopword_num  ...  cityblock_distance  \\\n",
       "0                                      6  ...            5.081614   \n",
       "1                                     11  ...           11.028160   \n",
       "2                                      8  ...            8.829532   \n",
       "3                                      9  ...           16.075622   \n",
       "4                                     13  ...           12.103178   \n",
       "\n",
       "   jaccard_distance  canberra_distance  euclidean_distance  \\\n",
       "0               1.0          94.023324            0.371408   \n",
       "1               1.0         158.811137            0.785732   \n",
       "2               1.0         131.681688            0.635757   \n",
       "3               1.0         195.966982            1.151438   \n",
       "4               1.0         161.408435            0.860225   \n",
       "\n",
       "   minkowski_distance  braycurtis_distance  skew_q1vec  skew_q2vec  kur_q1vec  \\\n",
       "0            0.168999             0.186557    0.031817   -0.091902   0.050416   \n",
       "1            0.353440             0.437108    0.004801    0.163020   0.185670   \n",
       "2            0.286115             0.329345    0.226704    0.060504   0.089026   \n",
       "3            0.513992             0.708427   -0.002527    0.009567  -0.244560   \n",
       "4            0.382770             0.480633   -0.133849    0.114777   0.217900   \n",
       "\n",
       "   kur_q2vec  \n",
       "0   0.337301  \n",
       "1   0.112646  \n",
       "2  -0.465365  \n",
       "3   0.074111  \n",
       "4  -0.338876  \n",
       "\n",
       "[5 rows x 41 columns]"
      ]
     },
     "execution_count": 8,
     "metadata": {},
     "output_type": "execute_result"
    }
   ],
   "source": [
    "features.head()"
   ]
  },
  {
   "cell_type": "code",
   "execution_count": 9,
   "id": "14a4e191-d11d-4f54-bbd3-adf1edc13755",
   "metadata": {},
   "outputs": [
    {
     "data": {
      "text/plain": [
       "(404287, 41)"
      ]
     },
     "execution_count": 9,
     "metadata": {},
     "output_type": "execute_result"
    }
   ],
   "source": [
    "features.shape"
   ]
  },
  {
   "cell_type": "code",
   "execution_count": 10,
   "id": "984ab485-d1a2-4c94-aece-c02ec0c5b878",
   "metadata": {},
   "outputs": [
    {
     "data": {
      "text/plain": [
       "q1_char_num                              False\n",
       "q2_char_num                              False\n",
       "q1_word_num                              False\n",
       "q2_word_num                              False\n",
       "total_word_num                           False\n",
       "differ_word_num                          False\n",
       "same_first_word                          False\n",
       "same_last_word                           False\n",
       "total_unique_word_num                    False\n",
       "total_unique_word_withoutstopword_num    False\n",
       "total_unique_word_num_ratio              False\n",
       "common_word_num                          False\n",
       "common_word_ratio                        False\n",
       "common_word_ratio_min                    False\n",
       "common_word_ratio_max                    False\n",
       "common_word_withoutstopword_num          False\n",
       "common_word_withoutstopword_ratio        False\n",
       "common_word_withoutstopword_ratio_min    False\n",
       "common_word_withoutstopword_ratio_max    False\n",
       "fuzz_ratio                               False\n",
       "fuzz_QRatio                              False\n",
       "fuzz_WRatio                              False\n",
       "fuzz_partial_ratio                       False\n",
       "fuzz_token_set_ratio                     False\n",
       "fuzz_token_sort_ratio                    False\n",
       "fuzz_partial_token_set_ratio             False\n",
       "fuzz_partial_token_sort_ratio            False\n",
       "longest_substr_ratio                     False\n",
       "wmd                                      False\n",
       "norm_wmd                                 False\n",
       "cosine_distance                          False\n",
       "cityblock_distance                       False\n",
       "jaccard_distance                         False\n",
       "canberra_distance                        False\n",
       "euclidean_distance                       False\n",
       "minkowski_distance                       False\n",
       "braycurtis_distance                      False\n",
       "skew_q1vec                               False\n",
       "skew_q2vec                               False\n",
       "kur_q1vec                                False\n",
       "kur_q2vec                                False\n",
       "dtype: bool"
      ]
     },
     "execution_count": 10,
     "metadata": {},
     "output_type": "execute_result"
    }
   ],
   "source": [
    "np.isnan(features.all())"
   ]
  },
  {
   "cell_type": "code",
   "execution_count": 11,
   "id": "059db66f-6ae3-4b33-8605-7323b12d489d",
   "metadata": {},
   "outputs": [
    {
     "data": {
      "text/plain": [
       "q1_char_num                              True\n",
       "q2_char_num                              True\n",
       "q1_word_num                              True\n",
       "q2_word_num                              True\n",
       "total_word_num                           True\n",
       "differ_word_num                          True\n",
       "same_first_word                          True\n",
       "same_last_word                           True\n",
       "total_unique_word_num                    True\n",
       "total_unique_word_withoutstopword_num    True\n",
       "total_unique_word_num_ratio              True\n",
       "common_word_num                          True\n",
       "common_word_ratio                        True\n",
       "common_word_ratio_min                    True\n",
       "common_word_ratio_max                    True\n",
       "common_word_withoutstopword_num          True\n",
       "common_word_withoutstopword_ratio        True\n",
       "common_word_withoutstopword_ratio_min    True\n",
       "common_word_withoutstopword_ratio_max    True\n",
       "fuzz_ratio                               True\n",
       "fuzz_QRatio                              True\n",
       "fuzz_WRatio                              True\n",
       "fuzz_partial_ratio                       True\n",
       "fuzz_token_set_ratio                     True\n",
       "fuzz_token_sort_ratio                    True\n",
       "fuzz_partial_token_set_ratio             True\n",
       "fuzz_partial_token_sort_ratio            True\n",
       "longest_substr_ratio                     True\n",
       "wmd                                      True\n",
       "norm_wmd                                 True\n",
       "cosine_distance                          True\n",
       "cityblock_distance                       True\n",
       "jaccard_distance                         True\n",
       "canberra_distance                        True\n",
       "euclidean_distance                       True\n",
       "minkowski_distance                       True\n",
       "braycurtis_distance                      True\n",
       "skew_q1vec                               True\n",
       "skew_q2vec                               True\n",
       "kur_q1vec                                True\n",
       "kur_q2vec                                True\n",
       "dtype: bool"
      ]
     },
     "execution_count": 11,
     "metadata": {},
     "output_type": "execute_result"
    }
   ],
   "source": [
    "np.isfinite(features.all())"
   ]
  },
  {
   "cell_type": "code",
   "execution_count": 12,
   "id": "be7dcc4f-0de0-450b-9768-bf2027230efd",
   "metadata": {},
   "outputs": [],
   "source": [
    "features.replace((np.inf, -np.inf), np.nan, inplace=True)"
   ]
  },
  {
   "cell_type": "code",
   "execution_count": 13,
   "id": "37f0eb78-4ce4-4145-823b-f49a37a1c3fb",
   "metadata": {},
   "outputs": [],
   "source": [
    "features.fillna(method='bfill', inplace=True)"
   ]
  },
  {
   "cell_type": "code",
   "execution_count": 14,
   "id": "cc81d187-ce7b-44be-bc3c-deb72aa0de23",
   "metadata": {},
   "outputs": [
    {
     "name": "stdout",
     "output_type": "stream",
     "text": [
      "<class 'pandas.core.frame.DataFrame'>\n",
      "RangeIndex: 404287 entries, 0 to 404286\n",
      "Data columns (total 41 columns):\n",
      " #   Column                                 Non-Null Count   Dtype  \n",
      "---  ------                                 --------------   -----  \n",
      " 0   q1_char_num                            404287 non-null  int64  \n",
      " 1   q2_char_num                            404287 non-null  int64  \n",
      " 2   q1_word_num                            404287 non-null  int64  \n",
      " 3   q2_word_num                            404287 non-null  int64  \n",
      " 4   total_word_num                         404287 non-null  int64  \n",
      " 5   differ_word_num                        404287 non-null  int64  \n",
      " 6   same_first_word                        404287 non-null  int64  \n",
      " 7   same_last_word                         404287 non-null  int64  \n",
      " 8   total_unique_word_num                  404287 non-null  int64  \n",
      " 9   total_unique_word_withoutstopword_num  404287 non-null  int64  \n",
      " 10  total_unique_word_num_ratio            404287 non-null  float64\n",
      " 11  common_word_num                        404287 non-null  int64  \n",
      " 12  common_word_ratio                      404287 non-null  float64\n",
      " 13  common_word_ratio_min                  404287 non-null  float64\n",
      " 14  common_word_ratio_max                  404287 non-null  float64\n",
      " 15  common_word_withoutstopword_num        404287 non-null  int64  \n",
      " 16  common_word_withoutstopword_ratio      404287 non-null  float64\n",
      " 17  common_word_withoutstopword_ratio_min  404287 non-null  float64\n",
      " 18  common_word_withoutstopword_ratio_max  404287 non-null  float64\n",
      " 19  fuzz_ratio                             404287 non-null  int64  \n",
      " 20  fuzz_QRatio                            404287 non-null  int64  \n",
      " 21  fuzz_WRatio                            404287 non-null  int64  \n",
      " 22  fuzz_partial_ratio                     404287 non-null  int64  \n",
      " 23  fuzz_token_set_ratio                   404287 non-null  int64  \n",
      " 24  fuzz_token_sort_ratio                  404287 non-null  int64  \n",
      " 25  fuzz_partial_token_set_ratio           404287 non-null  int64  \n",
      " 26  fuzz_partial_token_sort_ratio          404287 non-null  int64  \n",
      " 27  longest_substr_ratio                   404287 non-null  float64\n",
      " 28  wmd                                    404287 non-null  float64\n",
      " 29  norm_wmd                               404287 non-null  float64\n",
      " 30  cosine_distance                        404287 non-null  float64\n",
      " 31  cityblock_distance                     404287 non-null  float64\n",
      " 32  jaccard_distance                       404287 non-null  float64\n",
      " 33  canberra_distance                      404287 non-null  float64\n",
      " 34  euclidean_distance                     404287 non-null  float64\n",
      " 35  minkowski_distance                     404287 non-null  float64\n",
      " 36  braycurtis_distance                    404287 non-null  float64\n",
      " 37  skew_q1vec                             404287 non-null  float64\n",
      " 38  skew_q2vec                             404287 non-null  float64\n",
      " 39  kur_q1vec                              404287 non-null  float64\n",
      " 40  kur_q2vec                              404287 non-null  float64\n",
      "dtypes: float64(21), int64(20)\n",
      "memory usage: 126.5 MB\n"
     ]
    }
   ],
   "source": [
    "features.info()"
   ]
  },
  {
   "cell_type": "code",
   "execution_count": 15,
   "id": "7d53cfda-feb5-498f-b7a4-ac9b4ff9ccba",
   "metadata": {},
   "outputs": [],
   "source": [
    "features = features.to_numpy()"
   ]
  },
  {
   "cell_type": "code",
   "execution_count": 16,
   "id": "0be94659-194e-45d2-84f5-2bc9669f91d6",
   "metadata": {},
   "outputs": [],
   "source": [
    "scaler = MinMaxScaler()"
   ]
  },
  {
   "cell_type": "code",
   "execution_count": 17,
   "id": "390e8dfe-b6ad-4c9d-b5af-9bddad85ed7e",
   "metadata": {},
   "outputs": [],
   "source": [
    "features = scaler.fit_transform(features)"
   ]
  },
  {
   "cell_type": "code",
   "execution_count": 18,
   "id": "fdbe321f-f5d1-4185-b931-fbb7a1a2a217",
   "metadata": {},
   "outputs": [
    {
     "data": {
      "text/plain": [
       "array([[0.11111111, 0.05049594, 0.109375  , ..., 0.4433873 , 0.57674898,\n",
       "        0.63839209],\n",
       "       [0.08205128, 0.07664563, 0.078125  , ..., 0.63433608, 0.60232172,\n",
       "        0.59541794],\n",
       "       [0.11965812, 0.04869252, 0.109375  , ..., 0.5575462 , 0.58404899,\n",
       "        0.48485027],\n",
       "       ...,\n",
       "       [0.02735043, 0.01532913, 0.03125   , ..., 0.40186154, 0.51436596,\n",
       "        0.49780956],\n",
       "       [0.14871795, 0.10820559, 0.1328125 , ..., 0.46083386, 0.50683038,\n",
       "        0.52655777],\n",
       "       [0.06153846, 0.03967538, 0.0625    , ..., 0.65315444, 0.65938877,\n",
       "        0.66712312]])"
      ]
     },
     "execution_count": 18,
     "metadata": {},
     "output_type": "execute_result"
    }
   ],
   "source": [
    "features"
   ]
  },
  {
   "cell_type": "markdown",
   "id": "a8a731ad-be23-4ce5-b60f-7057787edf2d",
   "metadata": {},
   "source": [
    "Since the dataset is imbalanced, we did oversample by sampling from the minority class."
   ]
  },
  {
   "cell_type": "code",
   "execution_count": 19,
   "id": "400d68ac-b5b6-4f67-a355-e9ce8e841d81",
   "metadata": {},
   "outputs": [],
   "source": [
    "oversample = RandomOverSampler(sampling_strategy='minority')\n",
    "X_data, y_data = oversample.fit_resample(features, labels)"
   ]
  },
  {
   "cell_type": "code",
   "execution_count": 20,
   "id": "b15f1bac-0eca-4101-8ff3-1af687d608a2",
   "metadata": {},
   "outputs": [
    {
     "name": "stdout",
     "output_type": "stream",
     "text": [
      "255024\n",
      "255024\n"
     ]
    }
   ],
   "source": [
    "print(np.count_nonzero(y_data == 0))\n",
    "print(np.count_nonzero(y_data == 1))"
   ]
  },
  {
   "cell_type": "markdown",
   "id": "1ee9ed5e-7021-495b-926d-98dce48608b7",
   "metadata": {},
   "source": [
    "Now we have 510048 data points. 255024 from each class."
   ]
  },
  {
   "cell_type": "code",
   "execution_count": 21,
   "id": "32ff12af-f45a-483e-9f0e-b7df233d52cd",
   "metadata": {},
   "outputs": [],
   "source": [
    "X_train, X_test, y_train, y_test = train_test_split(X_data, y_data, test_size=0.2, random_state=42)"
   ]
  },
  {
   "cell_type": "markdown",
   "id": "783abd2e-fe32-4e43-9554-a677c0d67ac8",
   "metadata": {},
   "source": [
    "# Models Training"
   ]
  },
  {
   "cell_type": "markdown",
   "id": "83544890-f5fc-4bb4-a612-0aa07f4d0284",
   "metadata": {},
   "source": [
    "## Support Vector Classifier (SVM Classifier)"
   ]
  },
  {
   "cell_type": "code",
   "execution_count": 22,
   "id": "af201302-ed8f-4391-88ba-c2fac685e6ca",
   "metadata": {},
   "outputs": [],
   "source": [
    "splits = ShuffleSplit(n_splits=1, test_size=0.3, random_state=42)"
   ]
  },
  {
   "cell_type": "code",
   "execution_count": 23,
   "id": "bf800fad-7910-489c-a8b5-6c50e31e1f9e",
   "metadata": {},
   "outputs": [],
   "source": [
    "svc_param_grid = {'C':[1e-2, 1e-1, 1e0, 1e1, 1e2]}"
   ]
  },
  {
   "cell_type": "code",
   "execution_count": 24,
   "id": "beecb491-cee9-4197-9846-74c5d68629ce",
   "metadata": {},
   "outputs": [],
   "source": [
    "svc_clf = LinearSVC(penalty='l2', loss='squared_hinge', dual=False, max_iter=3000)"
   ]
  },
  {
   "cell_type": "code",
   "execution_count": 25,
   "id": "c49df614-5273-4db0-a050-e7b6152df3c5",
   "metadata": {},
   "outputs": [],
   "source": [
    "svc_clf_search = HalvingGridSearchCV(svc_clf, svc_param_grid, cv=splits, factor=2, scoring='accuracy', verbose=3)"
   ]
  },
  {
   "cell_type": "code",
   "execution_count": 26,
   "id": "a01c86c4-6df1-489a-bd30-15e839709001",
   "metadata": {},
   "outputs": [
    {
     "name": "stdout",
     "output_type": "stream",
     "text": [
      "n_iterations: 3\n",
      "n_required_iterations: 3\n",
      "n_possible_iterations: 3\n",
      "min_resources_: 102009\n",
      "max_resources_: 408038\n",
      "aggressive_elimination: False\n",
      "factor: 2\n",
      "----------\n",
      "iter: 0\n",
      "n_candidates: 5\n",
      "n_resources: 102009\n",
      "Fitting 1 folds for each of 5 candidates, totalling 5 fits\n",
      "[CV 1/1] END .........................................C=0.01; total time=   1.0s\n",
      "[CV 1/1] END ..........................................C=0.1; total time=   1.8s\n",
      "[CV 1/1] END ..........................................C=1.0; total time=   3.5s\n",
      "[CV 1/1] END .........................................C=10.0; total time=   5.5s\n",
      "[CV 1/1] END ........................................C=100.0; total time=   6.7s\n",
      "----------\n",
      "iter: 1\n",
      "n_candidates: 3\n",
      "n_resources: 204018\n",
      "Fitting 1 folds for each of 3 candidates, totalling 3 fits\n",
      "[CV 1/1] END ........................................C=100.0; total time=  14.1s\n",
      "[CV 1/1] END ..........................................C=1.0; total time=   8.9s\n",
      "[CV 1/1] END ..........................................C=0.1; total time=   4.1s\n",
      "----------\n",
      "iter: 2\n",
      "n_candidates: 2\n",
      "n_resources: 408036\n",
      "Fitting 1 folds for each of 2 candidates, totalling 2 fits\n",
      "[CV 1/1] END ..........................................C=1.0; total time=  13.8s\n",
      "[CV 1/1] END ........................................C=100.0; total time=  29.3s\n"
     ]
    },
    {
     "data": {
      "text/plain": [
       "HalvingGridSearchCV(cv=ShuffleSplit(n_splits=1, random_state=42, test_size=0.3, train_size=None),\n",
       "                    estimator=LinearSVC(dual=False, max_iter=3000), factor=2,\n",
       "                    param_grid={'C': [0.01, 0.1, 1.0, 10.0, 100.0]},\n",
       "                    refit=<function _refit_callable at 0x000001689B99F040>,\n",
       "                    scoring='accuracy', verbose=3)"
      ]
     },
     "execution_count": 26,
     "metadata": {},
     "output_type": "execute_result"
    }
   ],
   "source": [
    "svc_clf_search.fit(X_train, y_train)"
   ]
  },
  {
   "cell_type": "code",
   "execution_count": 27,
   "id": "e46714c2-90b2-496b-9dae-245962263760",
   "metadata": {},
   "outputs": [
    {
     "data": {
      "text/plain": [
       "{'C': 100.0}"
      ]
     },
     "execution_count": 27,
     "metadata": {},
     "output_type": "execute_result"
    }
   ],
   "source": [
    "svc_clf_search.best_params_"
   ]
  },
  {
   "cell_type": "code",
   "execution_count": 28,
   "id": "9ca8c2eb-db4e-4fb1-9904-35b03c19b89b",
   "metadata": {},
   "outputs": [
    {
     "data": {
      "text/plain": [
       "0.719943469132676"
      ]
     },
     "execution_count": 28,
     "metadata": {},
     "output_type": "execute_result"
    }
   ],
   "source": [
    "svc_clf_search.best_score_"
   ]
  },
  {
   "cell_type": "code",
   "execution_count": 29,
   "id": "06ecb4d2-3b0e-4f66-9b3d-02ab328170b5",
   "metadata": {},
   "outputs": [],
   "source": [
    "svc_clf_model = svc_clf_search.best_estimator_"
   ]
  },
  {
   "cell_type": "code",
   "execution_count": 30,
   "id": "58987959-764a-48ee-9422-c8a798ed93c9",
   "metadata": {},
   "outputs": [
    {
     "data": {
      "text/plain": [
       "LinearSVC(C=100.0, dual=False, max_iter=3000)"
      ]
     },
     "execution_count": 30,
     "metadata": {},
     "output_type": "execute_result"
    }
   ],
   "source": [
    "svc_clf_model"
   ]
  },
  {
   "cell_type": "code",
   "execution_count": 31,
   "id": "a438d887-50c7-42ab-a2db-ffddb2c28ca8",
   "metadata": {},
   "outputs": [],
   "source": [
    "svc_calibrated = CalibratedClassifierCV(base_estimator=svc_clf_model, method=\"sigmoid\", cv=splits)"
   ]
  },
  {
   "cell_type": "code",
   "execution_count": 32,
   "id": "b1e0eb09-9f08-4670-b134-7f4e06ab5c64",
   "metadata": {},
   "outputs": [
    {
     "data": {
      "text/plain": [
       "CalibratedClassifierCV(base_estimator=LinearSVC(C=100.0, dual=False,\n",
       "                                                max_iter=3000),\n",
       "                       cv=ShuffleSplit(n_splits=1, random_state=42, test_size=0.3, train_size=None))"
      ]
     },
     "execution_count": 32,
     "metadata": {},
     "output_type": "execute_result"
    }
   ],
   "source": [
    "svc_calibrated.fit(X_train, y_train)"
   ]
  },
  {
   "cell_type": "markdown",
   "id": "bd9a26d0-cc12-45df-ad02-9995ba27c629",
   "metadata": {},
   "source": [
    "### Evaluation"
   ]
  },
  {
   "cell_type": "code",
   "execution_count": 33,
   "id": "b5c7e75b-d219-46be-b37c-012ae7006c3f",
   "metadata": {},
   "outputs": [
    {
     "name": "stdout",
     "output_type": "stream",
     "text": [
      "Accuracy:  0.7174590726399372\n",
      "Precision:  0.6909512362637362\n",
      "Recall:  0.7880502898323672\n",
      "F1:  0.7363134011564078\n",
      "ROC AUC:  0.7173773217308501\n",
      "              precision    recall  f1-score   support\n",
      "\n",
      "           0       0.75      0.65      0.70     50946\n",
      "           1       0.69      0.79      0.74     51064\n",
      "\n",
      "    accuracy                           0.72    102010\n",
      "   macro avg       0.72      0.72      0.72    102010\n",
      "weighted avg       0.72      0.72      0.72    102010\n",
      "\n"
     ]
    },
    {
     "data": {
      "image/png": "[encoded data removed]",
      "text/plain": [
       "<Figure size 432x288 with 2 Axes>"
      ]
     },
     "metadata": {
      "needs_background": "light"
     },
     "output_type": "display_data"
    }
   ],
   "source": [
    "y_pred = svc_calibrated.predict(X_test)\n",
    "\n",
    "print(\"Accuracy: \", accuracy_score(y_test, y_pred))\n",
    "print(\"Precision: \", precision_score(y_test, y_pred))\n",
    "print(\"Recall: \", recall_score(y_test, y_pred))\n",
    "print(\"F1: \", f1_score(y_test, y_pred))\n",
    "print(\"ROC AUC: \", roc_auc_score(y_test, y_pred))\n",
    "print(classification_report(y_test, y_pred))\n",
    "\n",
    "import scikitplot as skplt\n",
    "skplt.metrics.plot_confusion_matrix(y_test, y_pred)\n",
    "plt.title('SVC Confusion Matrix')\n",
    "plt.savefig('graphs/svc_fs3/svc_confusion_matrix.png')"
   ]
  },
  {
   "cell_type": "markdown",
   "id": "459b53fe-ac15-47e3-81fe-81e2df58d170",
   "metadata": {},
   "source": [
    "## Logistic Regression"
   ]
  },
  {
   "cell_type": "code",
   "execution_count": 23,
   "id": "55645593-38ee-47ab-8a03-b36bd527aea3",
   "metadata": {},
   "outputs": [],
   "source": [
    "lr_param_grid = {'C':[1e-2, 1e-1, 1e0, 1e1, 1e2]}"
   ]
  },
  {
   "cell_type": "code",
   "execution_count": 24,
   "id": "0c1b15c0-3d1e-45b3-b0f3-847dd66abe67",
   "metadata": {},
   "outputs": [],
   "source": [
    "lr_clf = LogisticRegression(penalty='l2', class_weight='balanced', dual=False, max_iter=3000)"
   ]
  },
  {
   "cell_type": "code",
   "execution_count": 25,
   "id": "5296f8c6-43a2-4301-9267-8740cb00b42a",
   "metadata": {},
   "outputs": [],
   "source": [
    "lr_clf_search = HalvingGridSearchCV(lr_clf, lr_param_grid, cv=splits, factor=2, scoring='accuracy', verbose=3)"
   ]
  },
  {
   "cell_type": "code",
   "execution_count": 26,
   "id": "920a07b4-36b6-48a8-bda9-b05b38d07cbc",
   "metadata": {},
   "outputs": [
    {
     "name": "stdout",
     "output_type": "stream",
     "text": [
      "n_iterations: 3\n",
      "n_required_iterations: 3\n",
      "n_possible_iterations: 3\n",
      "min_resources_: 102009\n",
      "max_resources_: 408038\n",
      "aggressive_elimination: False\n",
      "factor: 2\n",
      "----------\n",
      "iter: 0\n",
      "n_candidates: 5\n",
      "n_resources: 102009\n",
      "Fitting 1 folds for each of 5 candidates, totalling 5 fits\n",
      "[CV 1/1] END .........................................C=0.01; total time=   0.5s\n",
      "[CV 1/1] END ..........................................C=0.1; total time=   1.7s\n",
      "[CV 1/1] END ..........................................C=1.0; total time=   3.8s\n",
      "[CV 1/1] END .........................................C=10.0; total time=   7.0s\n",
      "[CV 1/1] END ........................................C=100.0; total time=  10.8s\n",
      "----------\n",
      "iter: 1\n",
      "n_candidates: 3\n",
      "n_resources: 204018\n",
      "Fitting 1 folds for each of 3 candidates, totalling 3 fits\n",
      "[CV 1/1] END ..........................................C=1.0; total time=  11.9s\n",
      "[CV 1/1] END ........................................C=100.0; total time=  45.9s\n",
      "[CV 1/1] END .........................................C=10.0; total time=  26.3s\n",
      "----------\n",
      "iter: 2\n",
      "n_candidates: 2\n",
      "n_resources: 408036\n",
      "Fitting 1 folds for each of 2 candidates, totalling 2 fits\n",
      "[CV 1/1] END ..........................................C=1.0; total time=  35.1s\n",
      "[CV 1/1] END ........................................C=100.0; total time= 1.6min\n"
     ]
    },
    {
     "data": {
      "text/plain": [
       "HalvingGridSearchCV(cv=ShuffleSplit(n_splits=1, random_state=42, test_size=0.3, train_size=None),\n",
       "                    estimator=LogisticRegression(class_weight='balanced',\n",
       "                                                 max_iter=3000),\n",
       "                    factor=2, param_grid={'C': [0.01, 0.1, 1.0, 10.0, 100.0]},\n",
       "                    refit=<function _refit_callable at 0x0000024C476A6DC0>,\n",
       "                    scoring='accuracy', verbose=3)"
      ]
     },
     "execution_count": 26,
     "metadata": {},
     "output_type": "execute_result"
    }
   ],
   "source": [
    "lr_clf_search.fit(X_train, y_train)"
   ]
  },
  {
   "cell_type": "code",
   "execution_count": 27,
   "id": "90f0381f-71f8-4df7-9c31-ce2b333af54e",
   "metadata": {},
   "outputs": [
    {
     "data": {
      "text/plain": [
       "{'C': 1.0}"
      ]
     },
     "execution_count": 27,
     "metadata": {},
     "output_type": "execute_result"
    }
   ],
   "source": [
    "lr_clf_search.best_params_"
   ]
  },
  {
   "cell_type": "code",
   "execution_count": 28,
   "id": "bf513f68-527e-438c-97c2-0e633d4a08ec",
   "metadata": {},
   "outputs": [
    {
     "data": {
      "text/plain": [
       "0.7209401115912786"
      ]
     },
     "execution_count": 28,
     "metadata": {},
     "output_type": "execute_result"
    }
   ],
   "source": [
    "lr_clf_search.best_score_"
   ]
  },
  {
   "cell_type": "code",
   "execution_count": 29,
   "id": "b7220a36-4618-44f3-8792-1604e2a9549d",
   "metadata": {},
   "outputs": [],
   "source": [
    "lr_clf_model = lr_clf_search.best_estimator_"
   ]
  },
  {
   "cell_type": "code",
   "execution_count": 30,
   "id": "9a75bb7a-6497-4ef4-b17d-14ec8a430320",
   "metadata": {},
   "outputs": [
    {
     "data": {
      "text/plain": [
       "LogisticRegression(class_weight='balanced', max_iter=3000)"
      ]
     },
     "execution_count": 30,
     "metadata": {},
     "output_type": "execute_result"
    }
   ],
   "source": [
    "lr_clf_model"
   ]
  },
  {
   "cell_type": "markdown",
   "id": "f272229c-4ec2-40e1-84c8-de7e995cceb7",
   "metadata": {},
   "source": [
    "### Evaluation"
   ]
  },
  {
   "cell_type": "code",
   "execution_count": 31,
   "id": "8e82eb54-179d-4475-8d42-437b5c2579f9",
   "metadata": {},
   "outputs": [
    {
     "name": "stdout",
     "output_type": "stream",
     "text": [
      "Accuracy:  0.7176159200078424\n",
      "Precision:  0.6892236542319856\n",
      "Recall:  0.7938273539088203\n",
      "F1:  0.7378365095833561\n",
      "ROC AUC:  0.7175276603878494\n",
      "              precision    recall  f1-score   support\n",
      "\n",
      "           0       0.76      0.64      0.69     50946\n",
      "           1       0.69      0.79      0.74     51064\n",
      "\n",
      "    accuracy                           0.72    102010\n",
      "   macro avg       0.72      0.72      0.72    102010\n",
      "weighted avg       0.72      0.72      0.72    102010\n",
      "\n"
     ]
    },
    {
     "data": {
      "image/png": "[encoded data removed]",
      "text/plain": [
       "<Figure size 432x288 with 2 Axes>"
      ]
     },
     "metadata": {
      "needs_background": "light"
     },
     "output_type": "display_data"
    }
   ],
   "source": [
    "y_pred = lr_clf_model.predict(X_test)\n",
    "\n",
    "print(\"Accuracy: \", accuracy_score(y_test, y_pred))\n",
    "print(\"Precision: \", precision_score(y_test, y_pred))\n",
    "print(\"Recall: \", recall_score(y_test, y_pred))\n",
    "print(\"F1: \", f1_score(y_test, y_pred))\n",
    "print(\"ROC AUC: \", roc_auc_score(y_test, y_pred))\n",
    "print(classification_report(y_test, y_pred))\n",
    "\n",
    "import scikitplot as skplt\n",
    "skplt.metrics.plot_confusion_matrix(y_test, y_pred)\n",
    "plt.title('LR Confusion Matrix')\n",
    "plt.savefig('graphs/lr_fs3/lr_confusion_matrix.png')"
   ]
  },
  {
   "cell_type": "markdown",
   "id": "763b80b4-8856-4e81-bd28-43e9e57843f4",
   "metadata": {},
   "source": [
    "## Random Forest Classifier"
   ]
  },
  {
   "cell_type": "code",
   "execution_count": 43,
   "id": "6a2c1747-3b33-4f21-8d45-ce7468a77783",
   "metadata": {},
   "outputs": [],
   "source": [
    "rf_param_grid = {\n",
    "                    'n_estimators':[200, 500, 800], \n",
    "                    'min_samples_split':[5, 15],\n",
    "                    'max_depth': [70, 150, None]\n",
    "                }"
   ]
  },
  {
   "cell_type": "code",
   "execution_count": 44,
   "id": "dbb9a97c-9dab-4ea2-b903-d162c8da0825",
   "metadata": {},
   "outputs": [],
   "source": [
    "rf_clf = RandomForestClassifier()"
   ]
  },
  {
   "cell_type": "code",
   "execution_count": 45,
   "id": "ff5ced2c-dbe8-4a4a-ac9e-6a1b7228832b",
   "metadata": {},
   "outputs": [],
   "source": [
    "rf_clf_search = HalvingGridSearchCV(rf_clf, rf_param_grid, cv=splits, factor=2, scoring='accuracy', verbose=3)"
   ]
  },
  {
   "cell_type": "code",
   "execution_count": 46,
   "id": "8d0dc243-7be4-4f9a-8cec-4582babe2a69",
   "metadata": {},
   "outputs": [
    {
     "name": "stdout",
     "output_type": "stream",
     "text": [
      "n_iterations: 5\n",
      "n_required_iterations: 5\n",
      "n_possible_iterations: 5\n",
      "min_resources_: 25502\n",
      "max_resources_: 408038\n",
      "aggressive_elimination: False\n",
      "factor: 2\n",
      "----------\n",
      "iter: 0\n",
      "n_candidates: 18\n",
      "n_resources: 25502\n",
      "Fitting 1 folds for each of 18 candidates, totalling 18 fits\n",
      "[CV 1/1] END max_depth=70, min_samples_split=5, n_estimators=200; total time=  11.7s\n",
      "[CV 1/1] END max_depth=70, min_samples_split=5, n_estimators=500; total time=  29.8s\n",
      "[CV 1/1] END max_depth=70, min_samples_split=5, n_estimators=800; total time=  46.6s\n",
      "[CV 1/1] END max_depth=70, min_samples_split=15, n_estimators=200; total time=  11.0s\n",
      "[CV 1/1] END max_depth=70, min_samples_split=15, n_estimators=500; total time=  28.1s\n",
      "[CV 1/1] END max_depth=70, min_samples_split=15, n_estimators=800; total time=  46.2s\n",
      "[CV 1/1] END max_depth=150, min_samples_split=5, n_estimators=200; total time=  11.6s\n",
      "[CV 1/1] END max_depth=150, min_samples_split=5, n_estimators=500; total time=  28.8s\n",
      "[CV 1/1] END max_depth=150, min_samples_split=5, n_estimators=800; total time=  46.4s\n",
      "[CV 1/1] END max_depth=150, min_samples_split=15, n_estimators=200; total time=  11.1s\n",
      "[CV 1/1] END max_depth=150, min_samples_split=15, n_estimators=500; total time=  27.7s\n",
      "[CV 1/1] END max_depth=150, min_samples_split=15, n_estimators=800; total time=  44.9s\n",
      "[CV 1/1] END max_depth=None, min_samples_split=5, n_estimators=200; total time=  11.5s\n",
      "[CV 1/1] END max_depth=None, min_samples_split=5, n_estimators=500; total time=  28.7s\n",
      "[CV 1/1] END max_depth=None, min_samples_split=5, n_estimators=800; total time=  46.2s\n",
      "[CV 1/1] END max_depth=None, min_samples_split=15, n_estimators=200; total time=  10.9s\n",
      "[CV 1/1] END max_depth=None, min_samples_split=15, n_estimators=500; total time=  27.4s\n",
      "[CV 1/1] END max_depth=None, min_samples_split=15, n_estimators=800; total time=  44.3s\n",
      "----------\n",
      "iter: 1\n",
      "n_candidates: 9\n",
      "n_resources: 51004\n",
      "Fitting 1 folds for each of 9 candidates, totalling 9 fits\n",
      "[CV 1/1] END max_depth=None, min_samples_split=15, n_estimators=500; total time= 1.0min\n",
      "[CV 1/1] END max_depth=150, min_samples_split=15, n_estimators=500; total time= 1.0min\n",
      "[CV 1/1] END max_depth=None, min_samples_split=5, n_estimators=500; total time= 1.1min\n",
      "[CV 1/1] END max_depth=None, min_samples_split=5, n_estimators=800; total time= 1.7min\n",
      "[CV 1/1] END max_depth=150, min_samples_split=5, n_estimators=500; total time= 1.1min\n",
      "[CV 1/1] END max_depth=70, min_samples_split=5, n_estimators=800; total time= 1.7min\n",
      "[CV 1/1] END max_depth=70, min_samples_split=5, n_estimators=500; total time= 1.1min\n",
      "[CV 1/1] END max_depth=70, min_samples_split=5, n_estimators=200; total time=  25.2s\n",
      "[CV 1/1] END max_depth=150, min_samples_split=5, n_estimators=800; total time= 1.7min\n",
      "----------\n",
      "iter: 2\n",
      "n_candidates: 5\n",
      "n_resources: 102008\n",
      "Fitting 1 folds for each of 5 candidates, totalling 5 fits\n",
      "[CV 1/1] END max_depth=None, min_samples_split=5, n_estimators=800; total time= 3.8min\n",
      "[CV 1/1] END max_depth=None, min_samples_split=5, n_estimators=500; total time= 2.4min\n",
      "[CV 1/1] END max_depth=70, min_samples_split=5, n_estimators=800; total time= 3.8min\n",
      "[CV 1/1] END max_depth=150, min_samples_split=5, n_estimators=500; total time= 2.4min\n",
      "[CV 1/1] END max_depth=70, min_samples_split=5, n_estimators=500; total time= 2.4min\n",
      "----------\n",
      "iter: 3\n",
      "n_candidates: 3\n",
      "n_resources: 204016\n",
      "Fitting 1 folds for each of 3 candidates, totalling 3 fits\n",
      "[CV 1/1] END max_depth=None, min_samples_split=5, n_estimators=500; total time= 5.4min\n",
      "[CV 1/1] END max_depth=70, min_samples_split=5, n_estimators=800; total time= 8.4min\n",
      "[CV 1/1] END max_depth=70, min_samples_split=5, n_estimators=500; total time= 5.4min\n",
      "----------\n",
      "iter: 4\n",
      "n_candidates: 2\n",
      "n_resources: 408032\n",
      "Fitting 1 folds for each of 2 candidates, totalling 2 fits\n",
      "[CV 1/1] END max_depth=70, min_samples_split=5, n_estimators=500; total time=12.8min\n",
      "[CV 1/1] END max_depth=None, min_samples_split=5, n_estimators=500; total time=12.9min\n"
     ]
    },
    {
     "data": {
      "text/plain": [
       "HalvingGridSearchCV(cv=ShuffleSplit(n_splits=1, random_state=42, test_size=0.3, train_size=None),\n",
       "                    estimator=RandomForestClassifier(), factor=2,\n",
       "                    param_grid={'max_depth': [70, 150, None],\n",
       "                                'min_samples_split': [5, 15],\n",
       "                                'n_estimators': [200, 500, 800]},\n",
       "                    refit=<function _refit_callable at 0x000001689B99F040>,\n",
       "                    scoring='accuracy', verbose=3)"
      ]
     },
     "execution_count": 46,
     "metadata": {},
     "output_type": "execute_result"
    }
   ],
   "source": [
    "rf_clf_search.fit(X_train, y_train)"
   ]
  },
  {
   "cell_type": "code",
   "execution_count": 47,
   "id": "f36e1208-2f91-45f7-9a23-67f98791f973",
   "metadata": {},
   "outputs": [
    {
     "data": {
      "text/plain": [
       "{'max_depth': 70, 'min_samples_split': 5, 'n_estimators': 500}"
      ]
     },
     "execution_count": 47,
     "metadata": {},
     "output_type": "execute_result"
    }
   ],
   "source": [
    "rf_clf_search.best_params_"
   ]
  },
  {
   "cell_type": "code",
   "execution_count": 48,
   "id": "4f536b47-034d-4f4b-9c35-0be3691bfc8e",
   "metadata": {},
   "outputs": [
    {
     "data": {
      "text/plain": [
       "0.8237235519973858"
      ]
     },
     "execution_count": 48,
     "metadata": {},
     "output_type": "execute_result"
    }
   ],
   "source": [
    "rf_clf_search.best_score_"
   ]
  },
  {
   "cell_type": "code",
   "execution_count": 49,
   "id": "d5a85917-f0d4-498d-8184-822474b2df5f",
   "metadata": {},
   "outputs": [],
   "source": [
    "rf_clf_model = rf_clf_search.best_estimator_"
   ]
  },
  {
   "cell_type": "code",
   "execution_count": 50,
   "id": "c9cd0061-e420-47d8-8e81-d1cc7cea231a",
   "metadata": {},
   "outputs": [
    {
     "data": {
      "text/plain": [
       "RandomForestClassifier(max_depth=70, min_samples_split=5, n_estimators=500)"
      ]
     },
     "execution_count": 50,
     "metadata": {},
     "output_type": "execute_result"
    }
   ],
   "source": [
    "rf_clf_model"
   ]
  },
  {
   "cell_type": "markdown",
   "id": "45005dcc-c50a-4055-a9f8-f27465ea6fc4",
   "metadata": {},
   "source": [
    "### Evaluation"
   ]
  },
  {
   "cell_type": "code",
   "execution_count": 51,
   "id": "0f787353-9a4a-4bdb-b05f-88a00e72891b",
   "metadata": {},
   "outputs": [
    {
     "name": "stdout",
     "output_type": "stream",
     "text": [
      "Accuracy:  0.8403881972355651\n",
      "Precision:  0.7948226757984674\n",
      "Recall:  0.918161522794924\n",
      "F1:  0.8520517573510703\n",
      "ROC AUC:  0.8402981288060908\n",
      "              precision    recall  f1-score   support\n",
      "\n",
      "           0       0.90      0.76      0.83     50946\n",
      "           1       0.79      0.92      0.85     51064\n",
      "\n",
      "    accuracy                           0.84    102010\n",
      "   macro avg       0.85      0.84      0.84    102010\n",
      "weighted avg       0.85      0.84      0.84    102010\n",
      "\n"
     ]
    },
    {
     "data": {
      "image/png": "[encoded data removed]",
      "text/plain": [
       "<Figure size 432x288 with 2 Axes>"
      ]
     },
     "metadata": {
      "needs_background": "light"
     },
     "output_type": "display_data"
    }
   ],
   "source": [
    "y_pred = rf_clf_model.predict(X_test)\n",
    "\n",
    "print(\"Accuracy: \", accuracy_score(y_test, y_pred))\n",
    "print(\"Precision: \", precision_score(y_test, y_pred))\n",
    "print(\"Recall: \", recall_score(y_test, y_pred))\n",
    "print(\"F1: \", f1_score(y_test, y_pred))\n",
    "print(\"ROC AUC: \", roc_auc_score(y_test, y_pred))\n",
    "print(classification_report(y_test, y_pred))\n",
    "\n",
    "import scikitplot as skplt\n",
    "skplt.metrics.plot_confusion_matrix(y_test, y_pred)\n",
    "plt.title('RF Confusion Matrix')\n",
    "plt.savefig('graphs/rf_fs3/rf_confusion_matrix.png')"
   ]
  },
  {
   "cell_type": "markdown",
   "id": "b21a6c6a-1997-4499-badc-d1b4272c1cac",
   "metadata": {},
   "source": [
    "## XGBoost"
   ]
  },
  {
   "cell_type": "code",
   "execution_count": 52,
   "id": "02d2f7c9-313d-402c-8f41-50c251f634e9",
   "metadata": {},
   "outputs": [],
   "source": [
    "import hyperopt\n",
    "from hyperopt import fmin, tpe, hp, STATUS_OK, Trials\n",
    "import warnings"
   ]
  },
  {
   "cell_type": "code",
   "execution_count": 53,
   "id": "f5656fce-5147-4286-8adb-d244cac4e5fd",
   "metadata": {},
   "outputs": [],
   "source": [
    "def objective(space):\n",
    "    warnings.filterwarnings(action='ignore', category=UserWarning)\n",
    "    classifier = xgb.XGBClassifier(\n",
    "                    objective = \"binary:logistic\",\n",
    "                    eval_metric = \"logloss\",\n",
    "                    booster = \"gbtree\",\n",
    "                    tree_method = \"hist\",\n",
    "                    grow_policy = \"lossguide\",\n",
    "                    n_estimators = 300, \n",
    "                    max_depth = space['max_depth'],\n",
    "                    learning_rate = space['learning_rate'],\n",
    "                )\n",
    "    \n",
    "    classifier.fit(X_train, y_train)\n",
    "    \n",
    "    predicted_probs = classifier.predict_proba(X_test)\n",
    "\n",
    "    logloss = log_loss(y_test, predicted_probs)\n",
    "\n",
    "    print(\"Log loss = \" + str(logloss))\n",
    "\n",
    "    return{'loss':logloss, 'status': STATUS_OK }"
   ]
  },
  {
   "cell_type": "code",
   "execution_count": 54,
   "id": "e738479d-2a7c-4ab5-9866-0cc6b8b014c8",
   "metadata": {},
   "outputs": [],
   "source": [
    "space = {\n",
    "    'max_depth' : hp.choice('max_depth', range(4, 10, 1)),\n",
    "    \"learning_rate\": hp.quniform(\"learning_rate\", 0.01, 0.5, 0.01)\n",
    "}"
   ]
  },
  {
   "cell_type": "code",
   "execution_count": 63,
   "id": "cabebe0c-47fa-4529-8717-8cc0490003f1",
   "metadata": {},
   "outputs": [
    {
     "name": "stdout",
     "output_type": "stream",
     "text": [
      "Log loss = 0.37172236426801547                                                                                         \n",
      "Log loss = 0.40652011317189385                                                                                         \n",
      "Log loss = 0.38899955008453313                                                                                         \n",
      "Log loss = 0.44923389514458884                                                                                         \n",
      "Log loss = 0.3870658311449564                                                                                          \n",
      "100%|█████████████████████████████████████████████████| 5/5 [01:58<00:00, 23.77s/trial, best loss: 0.37172236426801547]\n"
     ]
    }
   ],
   "source": [
    "trials = Trials()\n",
    "best_param = fmin(fn=objective,\n",
    "            space=space,\n",
    "            algo=tpe.suggest,\n",
    "            max_evals=5,\n",
    "            trials=trials)"
   ]
  },
  {
   "cell_type": "code",
   "execution_count": 64,
   "id": "2b9b2ca1-210e-4efc-8697-444406885e3e",
   "metadata": {},
   "outputs": [
    {
     "name": "stdout",
     "output_type": "stream",
     "text": [
      "Best Param :  {'learning_rate': 0.33, 'max_depth': 5}\n"
     ]
    }
   ],
   "source": [
    "print(\"Best Param : \", best_param)"
   ]
  },
  {
   "cell_type": "markdown",
   "id": "9825d6ad-f900-4519-bd1d-be97e4bb789c",
   "metadata": {},
   "source": [
    "#### Training the model with the tuned parameters."
   ]
  },
  {
   "cell_type": "code",
   "execution_count": 65,
   "id": "dc3464ec-d50e-45dc-8bbb-729add689ef1",
   "metadata": {},
   "outputs": [],
   "source": [
    "params = dict(\n",
    "            objective = \"binary:logistic\",\n",
    "            eval_metric = \"logloss\",\n",
    "            booster = \"gbtree\",\n",
    "            tree_method = \"hist\",\n",
    "            grow_policy = \"lossguide\",\n",
    "            max_depth = 5,\n",
    "            eta = 0.33\n",
    "        )"
   ]
  },
  {
   "cell_type": "code",
   "execution_count": 58,
   "id": "c0c5a1b0-6cef-4708-80d5-3ece8031b4bf",
   "metadata": {},
   "outputs": [],
   "source": [
    "dtrain = xgb.DMatrix(X_train, label=y_train)\n",
    "dvalid = xgb.DMatrix(X_test, label=y_test)"
   ]
  },
  {
   "cell_type": "code",
   "execution_count": 59,
   "id": "eff402dc-1404-4f4c-b4ea-399397410ae9",
   "metadata": {},
   "outputs": [],
   "source": [
    "watchlist = [(dtrain, 'train'), (dvalid, 'valid')]"
   ]
  },
  {
   "cell_type": "code",
   "execution_count": 66,
   "id": "413850a0-ed14-4e63-910e-cfac30cd6b64",
   "metadata": {},
   "outputs": [
    {
     "name": "stdout",
     "output_type": "stream",
     "text": [
      "[0]\ttrain-logloss:0.61066\tvalid-logloss:0.61116\n",
      "[10]\ttrain-logloss:0.49021\tvalid-logloss:0.49300\n",
      "[20]\ttrain-logloss:0.47613\tvalid-logloss:0.48028\n",
      "[30]\ttrain-logloss:0.46813\tvalid-logloss:0.47350\n",
      "[40]\ttrain-logloss:0.46272\tvalid-logloss:0.46936\n",
      "[50]\ttrain-logloss:0.45821\tvalid-logloss:0.46601\n",
      "[60]\ttrain-logloss:0.45449\tvalid-logloss:0.46342\n",
      "[70]\ttrain-logloss:0.45129\tvalid-logloss:0.46115\n",
      "[80]\ttrain-logloss:0.44839\tvalid-logloss:0.45945\n",
      "[90]\ttrain-logloss:0.44564\tvalid-logloss:0.45793\n",
      "[100]\ttrain-logloss:0.44313\tvalid-logloss:0.45641\n",
      "[110]\ttrain-logloss:0.44044\tvalid-logloss:0.45491\n",
      "[120]\ttrain-logloss:0.43779\tvalid-logloss:0.45308\n",
      "[130]\ttrain-logloss:0.43601\tvalid-logloss:0.45215\n",
      "[140]\ttrain-logloss:0.43401\tvalid-logloss:0.45132\n",
      "[150]\ttrain-logloss:0.43130\tvalid-logloss:0.45007\n",
      "[160]\ttrain-logloss:0.42882\tvalid-logloss:0.44868\n",
      "[170]\ttrain-logloss:0.42678\tvalid-logloss:0.44778\n",
      "[180]\ttrain-logloss:0.42467\tvalid-logloss:0.44676\n",
      "[190]\ttrain-logloss:0.42278\tvalid-logloss:0.44585\n",
      "[200]\ttrain-logloss:0.42070\tvalid-logloss:0.44482\n",
      "[210]\ttrain-logloss:0.41869\tvalid-logloss:0.44393\n",
      "[220]\ttrain-logloss:0.41674\tvalid-logloss:0.44315\n",
      "[230]\ttrain-logloss:0.41479\tvalid-logloss:0.44221\n",
      "[240]\ttrain-logloss:0.41352\tvalid-logloss:0.44177\n",
      "[250]\ttrain-logloss:0.41177\tvalid-logloss:0.44102\n",
      "[260]\ttrain-logloss:0.41013\tvalid-logloss:0.44034\n",
      "[270]\ttrain-logloss:0.40874\tvalid-logloss:0.43966\n",
      "[280]\ttrain-logloss:0.40711\tvalid-logloss:0.43891\n",
      "[290]\ttrain-logloss:0.40544\tvalid-logloss:0.43846\n",
      "[300]\ttrain-logloss:0.40412\tvalid-logloss:0.43777\n",
      "[310]\ttrain-logloss:0.40248\tvalid-logloss:0.43696\n",
      "[320]\ttrain-logloss:0.40092\tvalid-logloss:0.43634\n",
      "[330]\ttrain-logloss:0.39920\tvalid-logloss:0.43565\n",
      "[340]\ttrain-logloss:0.39768\tvalid-logloss:0.43493\n",
      "[350]\ttrain-logloss:0.39622\tvalid-logloss:0.43444\n",
      "[360]\ttrain-logloss:0.39461\tvalid-logloss:0.43369\n",
      "[370]\ttrain-logloss:0.39314\tvalid-logloss:0.43303\n",
      "[380]\ttrain-logloss:0.39170\tvalid-logloss:0.43244\n",
      "[390]\ttrain-logloss:0.39051\tvalid-logloss:0.43199\n",
      "[400]\ttrain-logloss:0.38920\tvalid-logloss:0.43151\n",
      "[410]\ttrain-logloss:0.38766\tvalid-logloss:0.43098\n",
      "[420]\ttrain-logloss:0.38637\tvalid-logloss:0.43060\n",
      "[430]\ttrain-logloss:0.38465\tvalid-logloss:0.42985\n",
      "[440]\ttrain-logloss:0.38325\tvalid-logloss:0.42924\n",
      "[450]\ttrain-logloss:0.38199\tvalid-logloss:0.42876\n",
      "[460]\ttrain-logloss:0.38071\tvalid-logloss:0.42836\n",
      "[470]\ttrain-logloss:0.37926\tvalid-logloss:0.42795\n",
      "[480]\ttrain-logloss:0.37796\tvalid-logloss:0.42749\n",
      "[490]\ttrain-logloss:0.37679\tvalid-logloss:0.42698\n",
      "[500]\ttrain-logloss:0.37553\tvalid-logloss:0.42649\n",
      "[510]\ttrain-logloss:0.37421\tvalid-logloss:0.42592\n",
      "[520]\ttrain-logloss:0.37298\tvalid-logloss:0.42547\n",
      "[530]\ttrain-logloss:0.37180\tvalid-logloss:0.42509\n",
      "[540]\ttrain-logloss:0.37082\tvalid-logloss:0.42483\n",
      "[550]\ttrain-logloss:0.36952\tvalid-logloss:0.42435\n",
      "[560]\ttrain-logloss:0.36838\tvalid-logloss:0.42401\n",
      "[570]\ttrain-logloss:0.36738\tvalid-logloss:0.42376\n",
      "[580]\ttrain-logloss:0.36606\tvalid-logloss:0.42335\n",
      "[590]\ttrain-logloss:0.36507\tvalid-logloss:0.42292\n",
      "[600]\ttrain-logloss:0.36379\tvalid-logloss:0.42238\n",
      "[610]\ttrain-logloss:0.36257\tvalid-logloss:0.42179\n",
      "[620]\ttrain-logloss:0.36137\tvalid-logloss:0.42142\n",
      "[630]\ttrain-logloss:0.36041\tvalid-logloss:0.42104\n",
      "[640]\ttrain-logloss:0.35905\tvalid-logloss:0.42058\n",
      "[650]\ttrain-logloss:0.35781\tvalid-logloss:0.42023\n",
      "[660]\ttrain-logloss:0.35656\tvalid-logloss:0.41970\n",
      "[670]\ttrain-logloss:0.35584\tvalid-logloss:0.41945\n",
      "[680]\ttrain-logloss:0.35479\tvalid-logloss:0.41905\n",
      "[690]\ttrain-logloss:0.35378\tvalid-logloss:0.41864\n",
      "[700]\ttrain-logloss:0.35256\tvalid-logloss:0.41825\n",
      "[710]\ttrain-logloss:0.35151\tvalid-logloss:0.41788\n",
      "[720]\ttrain-logloss:0.35042\tvalid-logloss:0.41749\n",
      "[730]\ttrain-logloss:0.34929\tvalid-logloss:0.41708\n",
      "[740]\ttrain-logloss:0.34828\tvalid-logloss:0.41681\n",
      "[750]\ttrain-logloss:0.34733\tvalid-logloss:0.41654\n",
      "[760]\ttrain-logloss:0.34604\tvalid-logloss:0.41609\n",
      "[770]\ttrain-logloss:0.34492\tvalid-logloss:0.41583\n",
      "[780]\ttrain-logloss:0.34393\tvalid-logloss:0.41553\n",
      "[790]\ttrain-logloss:0.34302\tvalid-logloss:0.41526\n",
      "[800]\ttrain-logloss:0.34185\tvalid-logloss:0.41487\n",
      "[810]\ttrain-logloss:0.34055\tvalid-logloss:0.41438\n",
      "[820]\ttrain-logloss:0.33932\tvalid-logloss:0.41381\n",
      "[830]\ttrain-logloss:0.33829\tvalid-logloss:0.41348\n",
      "[840]\ttrain-logloss:0.33721\tvalid-logloss:0.41320\n",
      "[850]\ttrain-logloss:0.33626\tvalid-logloss:0.41291\n",
      "[860]\ttrain-logloss:0.33525\tvalid-logloss:0.41267\n",
      "[870]\ttrain-logloss:0.33437\tvalid-logloss:0.41238\n",
      "[880]\ttrain-logloss:0.33337\tvalid-logloss:0.41204\n",
      "[890]\ttrain-logloss:0.33247\tvalid-logloss:0.41169\n",
      "[900]\ttrain-logloss:0.33139\tvalid-logloss:0.41131\n",
      "[910]\ttrain-logloss:0.33058\tvalid-logloss:0.41108\n",
      "[920]\ttrain-logloss:0.32971\tvalid-logloss:0.41082\n",
      "[930]\ttrain-logloss:0.32872\tvalid-logloss:0.41043\n",
      "[940]\ttrain-logloss:0.32788\tvalid-logloss:0.40991\n",
      "[950]\ttrain-logloss:0.32692\tvalid-logloss:0.40966\n",
      "[960]\ttrain-logloss:0.32579\tvalid-logloss:0.40938\n",
      "[970]\ttrain-logloss:0.32502\tvalid-logloss:0.40919\n",
      "[980]\ttrain-logloss:0.32412\tvalid-logloss:0.40882\n",
      "[990]\ttrain-logloss:0.32313\tvalid-logloss:0.40855\n",
      "[999]\ttrain-logloss:0.32232\tvalid-logloss:0.40833\n"
     ]
    }
   ],
   "source": [
    "xgb_model = xgb.train(params, dtrain, 1000, watchlist, early_stopping_rounds=20, verbose_eval=10)"
   ]
  },
  {
   "cell_type": "code",
   "execution_count": 67,
   "id": "c4e61d58-91fa-48ec-8a82-96eb373ecdf5",
   "metadata": {},
   "outputs": [
    {
     "data": {
      "text/plain": [
       "XGBClassifier(base_score=0.5, booster='gbtree', colsample_bylevel=1,\n",
       "              colsample_bynode=1, colsample_bytree=1, eval_metric='logloss',\n",
       "              gamma=0, gpu_id=-1, grow_policy='lossguide',\n",
       "              importance_type='gain', interaction_constraints='',\n",
       "              learning_rate='0.33', max_delta_step=0, max_depth='5',\n",
       "              min_child_weight=1, missing=nan, monotone_constraints='()',\n",
       "              n_estimators=300, n_jobs=8, num_parallel_tree=1, random_state=0,\n",
       "              reg_alpha=0, reg_lambda=1, scale_pos_weight=1, subsample=1,\n",
       "              tree_method='hist', validate_parameters=1, verbosity=None)"
      ]
     },
     "execution_count": 67,
     "metadata": {},
     "output_type": "execute_result"
    }
   ],
   "source": [
    "xgb_clf = xgb.XGBClassifier(\n",
    "                    objective = \"binary:logistic\",\n",
    "                    eval_metric = \"logloss\",\n",
    "                    booster = \"gbtree\",\n",
    "                    tree_method = \"hist\",\n",
    "                    grow_policy = \"lossguide\",\n",
    "                    n_estimators = 300, \n",
    "                    max_depth = '5',\n",
    "                    learning_rate = '0.33',\n",
    "                )\n",
    "    \n",
    "xgb_clf.fit(X_train, y_train)"
   ]
  },
  {
   "cell_type": "markdown",
   "id": "336aae56-34a4-4039-b3f2-3564a7ee430a",
   "metadata": {},
   "source": [
    "### Evaluation"
   ]
  },
  {
   "cell_type": "code",
   "execution_count": 68,
   "id": "89a4686c-fa36-47df-a6ac-95be9dae6cb0",
   "metadata": {},
   "outputs": [
    {
     "name": "stdout",
     "output_type": "stream",
     "text": [
      "Log Loss:  0.43782111547161506\n",
      "Accuracy:  0.7859327516910107\n",
      "Precision:  0.7465373260227752\n",
      "Recall:  0.8665791947360175\n",
      "F1:  0.8020917354697795\n",
      "ROC AUC:  0.785839355935904\n",
      "              precision    recall  f1-score   support\n",
      "\n",
      "           0       0.84      0.71      0.77     50946\n",
      "           1       0.75      0.87      0.80     51064\n",
      "\n",
      "    accuracy                           0.79    102010\n",
      "   macro avg       0.79      0.79      0.78    102010\n",
      "weighted avg       0.79      0.79      0.78    102010\n",
      "\n"
     ]
    },
    {
     "data": {
      "image/png": "[encoded data removed]",
      "text/plain": [
       "<Figure size 432x288 with 2 Axes>"
      ]
     },
     "metadata": {
      "needs_background": "light"
     },
     "output_type": "display_data"
    }
   ],
   "source": [
    "y_predicted_probs = xgb_clf.predict_proba(X_test)\n",
    "\n",
    "y_pred = xgb_clf.predict(X_test)\n",
    "\n",
    "print(\"Log Loss: \", log_loss(y_test, y_predicted_probs))\n",
    "print(\"Accuracy: \", accuracy_score(y_test, y_pred))\n",
    "print(\"Precision: \", precision_score(y_test, y_pred))\n",
    "print(\"Recall: \", recall_score(y_test, y_pred))\n",
    "print(\"F1: \", f1_score(y_test, y_pred))\n",
    "print(\"ROC AUC: \", roc_auc_score(y_test, y_pred))\n",
    "print(classification_report(y_test, y_pred))\n",
    "\n",
    "import scikitplot as skplt\n",
    "skplt.metrics.plot_confusion_matrix(y_test, y_pred)\n",
    "plt.title('XGB Confusion Matrix')\n",
    "plt.savefig('graphs/xgb_fs3/xgb_confusion_matrix.png')"
   ]
  },
  {
   "cell_type": "code",
   "execution_count": null,
   "id": "95a93725-a8a0-46fc-9d99-b3ecab694b34",
   "metadata": {},
   "outputs": [],
   "source": []
  }
 ],
 "metadata": {
  "kernelspec": {
   "display_name": "Python 3 (ipykernel)",
   "language": "python",
   "name": "python3"
  },
  "language_info": {
   "codemirror_mode": {
    "name": "ipython",
    "version": 3
   },
   "file_extension": ".py",
   "mimetype": "text/x-python",
   "name": "python",
   "nbconvert_exporter": "python",
   "pygments_lexer": "ipython3",
   "version": "3.8.10"
  }
 },
 "nbformat": 4,
 "nbformat_minor": 5
}
