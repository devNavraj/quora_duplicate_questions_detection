{
 "cells": [
  {
   "cell_type": "code",
   "execution_count": 1,
   "id": "569e01c7-0355-4ecb-85fd-f74081a795a8",
   "metadata": {},
   "outputs": [],
   "source": [
    "import numpy as np\n",
    "import pandas as pd\n",
    "import matplotlib.pyplot as plt\n",
    "from matplotlib.pyplot import figure\n",
    "import seaborn as sns\n",
    "from bs4 import BeautifulSoup\n",
    "import nltk\n",
    "from nltk.corpus import stopwords\n",
    "from nltk.stem import WordNetLemmatizer\n",
    "from fuzzywuzzy import fuzz\n",
    "from scipy import sparse\n",
    "from sklearn.feature_extraction.text import TfidfVectorizer\n",
    "from sklearn.preprocessing import StandardScaler, MinMaxScaler\n",
    "from sklearn.model_selection import train_test_split\n",
    "import time\n",
    "import re\n",
    "import distance"
   ]
  },
  {
   "cell_type": "code",
   "execution_count": 2,
   "id": "2645aadf-97fe-4739-92b8-bfae6fd27d3f",
   "metadata": {},
   "outputs": [],
   "source": [
    "traindata = pd.read_csv(\"data/train.csv\")\n",
    "testdata = pd.read_csv('data/test.csv')"
   ]
  },
  {
   "cell_type": "markdown",
   "id": "64d7df60-ef8f-4ad8-9535-c74c2d6c6a0b",
   "metadata": {},
   "source": [
    "## Basic EDA"
   ]
  },
  {
   "cell_type": "code",
   "execution_count": 3,
   "id": "f60cd2ef-b679-41b8-80dd-5c7b1b6f8339",
   "metadata": {},
   "outputs": [
    {
     "name": "stdout",
     "output_type": "stream",
     "text": [
      "Index(['id', 'qid1', 'qid2', 'question1', 'question2', 'is_duplicate'], dtype='object')\n",
      "[0 1]\n",
      "0    255027\n",
      "1    149263\n",
      "Name: is_duplicate, dtype: int64\n",
      "(404290, 6)\n"
     ]
    }
   ],
   "source": [
    "print(traindata.columns)\n",
    "print(traindata.is_duplicate.unique())\n",
    "print(traindata.is_duplicate.value_counts())\n",
    "print(traindata.shape)"
   ]
  },
  {
   "cell_type": "markdown",
   "id": "7b298dc0-487b-4d7b-8022-01c0a153fc3e",
   "metadata": {},
   "source": [
    "We have 404290 training data points. And only 36.92% are positive. That means it is an imbalanced dataset."
   ]
  },
  {
   "cell_type": "code",
   "execution_count": 4,
   "id": "c2763120-cdf2-4f2f-a820-52f5d9188cac",
   "metadata": {},
   "outputs": [
    {
     "name": "stdout",
     "output_type": "stream",
     "text": [
      "Index(['test_id', 'question1', 'question2'], dtype='object')\n",
      "(2345796, 3)\n"
     ]
    }
   ],
   "source": [
    "print(testdata.columns)\n",
    "print(testdata.shape)"
   ]
  },
  {
   "cell_type": "code",
   "execution_count": 5,
   "id": "4411a06e-fb7d-441b-b00d-b210553daca0",
   "metadata": {},
   "outputs": [
    {
     "data": {
      "text/html": [
       "<div>\n",
       "<style scoped>\n",
       "    .dataframe tbody tr th:only-of-type {\n",
       "        vertical-align: middle;\n",
       "    }\n",
       "\n",
       "    .dataframe tbody tr th {\n",
       "        vertical-align: top;\n",
       "    }\n",
       "\n",
       "    .dataframe thead th {\n",
       "        text-align: right;\n",
       "    }\n",
       "</style>\n",
       "<table border=\"1\" class=\"dataframe\">\n",
       "  <thead>\n",
       "    <tr style=\"text-align: right;\">\n",
       "      <th></th>\n",
       "      <th>id</th>\n",
       "      <th>qid1</th>\n",
       "      <th>qid2</th>\n",
       "      <th>question1</th>\n",
       "      <th>question2</th>\n",
       "      <th>is_duplicate</th>\n",
       "    </tr>\n",
       "  </thead>\n",
       "  <tbody>\n",
       "    <tr>\n",
       "      <th>0</th>\n",
       "      <td>0</td>\n",
       "      <td>1</td>\n",
       "      <td>2</td>\n",
       "      <td>What is the step by step guide to invest in sh...</td>\n",
       "      <td>What is the step by step guide to invest in sh...</td>\n",
       "      <td>0</td>\n",
       "    </tr>\n",
       "    <tr>\n",
       "      <th>1</th>\n",
       "      <td>1</td>\n",
       "      <td>3</td>\n",
       "      <td>4</td>\n",
       "      <td>What is the story of Kohinoor (Koh-i-Noor) Dia...</td>\n",
       "      <td>What would happen if the Indian government sto...</td>\n",
       "      <td>0</td>\n",
       "    </tr>\n",
       "    <tr>\n",
       "      <th>2</th>\n",
       "      <td>2</td>\n",
       "      <td>5</td>\n",
       "      <td>6</td>\n",
       "      <td>How can I increase the speed of my internet co...</td>\n",
       "      <td>How can Internet speed be increased by hacking...</td>\n",
       "      <td>0</td>\n",
       "    </tr>\n",
       "    <tr>\n",
       "      <th>3</th>\n",
       "      <td>3</td>\n",
       "      <td>7</td>\n",
       "      <td>8</td>\n",
       "      <td>Why am I mentally very lonely? How can I solve...</td>\n",
       "      <td>Find the remainder when [math]23^{24}[/math] i...</td>\n",
       "      <td>0</td>\n",
       "    </tr>\n",
       "    <tr>\n",
       "      <th>4</th>\n",
       "      <td>4</td>\n",
       "      <td>9</td>\n",
       "      <td>10</td>\n",
       "      <td>Which one dissolve in water quikly sugar, salt...</td>\n",
       "      <td>Which fish would survive in salt water?</td>\n",
       "      <td>0</td>\n",
       "    </tr>\n",
       "  </tbody>\n",
       "</table>\n",
       "</div>"
      ],
      "text/plain": [
       "   id  qid1  qid2                                          question1  \\\n",
       "0   0     1     2  What is the step by step guide to invest in sh...   \n",
       "1   1     3     4  What is the story of Kohinoor (Koh-i-Noor) Dia...   \n",
       "2   2     5     6  How can I increase the speed of my internet co...   \n",
       "3   3     7     8  Why am I mentally very lonely? How can I solve...   \n",
       "4   4     9    10  Which one dissolve in water quikly sugar, salt...   \n",
       "\n",
       "                                           question2  is_duplicate  \n",
       "0  What is the step by step guide to invest in sh...             0  \n",
       "1  What would happen if the Indian government sto...             0  \n",
       "2  How can Internet speed be increased by hacking...             0  \n",
       "3  Find the remainder when [math]23^{24}[/math] i...             0  \n",
       "4            Which fish would survive in salt water?             0  "
      ]
     },
     "execution_count": 5,
     "metadata": {},
     "output_type": "execute_result"
    }
   ],
   "source": [
    "traindata.head()"
   ]
  },
  {
   "cell_type": "code",
   "execution_count": 6,
   "id": "97aecb14-428a-4c83-9ae1-008442979810",
   "metadata": {},
   "outputs": [
    {
     "data": {
      "text/html": [
       "<div>\n",
       "<style scoped>\n",
       "    .dataframe tbody tr th:only-of-type {\n",
       "        vertical-align: middle;\n",
       "    }\n",
       "\n",
       "    .dataframe tbody tr th {\n",
       "        vertical-align: top;\n",
       "    }\n",
       "\n",
       "    .dataframe thead th {\n",
       "        text-align: right;\n",
       "    }\n",
       "</style>\n",
       "<table border=\"1\" class=\"dataframe\">\n",
       "  <thead>\n",
       "    <tr style=\"text-align: right;\">\n",
       "      <th></th>\n",
       "      <th>test_id</th>\n",
       "      <th>question1</th>\n",
       "      <th>question2</th>\n",
       "    </tr>\n",
       "  </thead>\n",
       "  <tbody>\n",
       "    <tr>\n",
       "      <th>0</th>\n",
       "      <td>0</td>\n",
       "      <td>How does the Surface Pro himself 4 compare wit...</td>\n",
       "      <td>Why did Microsoft choose core m3 and not core ...</td>\n",
       "    </tr>\n",
       "    <tr>\n",
       "      <th>1</th>\n",
       "      <td>1</td>\n",
       "      <td>Should I have a hair transplant at age 24? How...</td>\n",
       "      <td>How much cost does hair transplant require?</td>\n",
       "    </tr>\n",
       "    <tr>\n",
       "      <th>2</th>\n",
       "      <td>2</td>\n",
       "      <td>What but is the best way to send money from Ch...</td>\n",
       "      <td>What you send money to China?</td>\n",
       "    </tr>\n",
       "    <tr>\n",
       "      <th>3</th>\n",
       "      <td>3</td>\n",
       "      <td>Which food not emulsifiers?</td>\n",
       "      <td>What foods fibre?</td>\n",
       "    </tr>\n",
       "    <tr>\n",
       "      <th>4</th>\n",
       "      <td>4</td>\n",
       "      <td>How \"aberystwyth\" start reading?</td>\n",
       "      <td>How their can I start reading?</td>\n",
       "    </tr>\n",
       "  </tbody>\n",
       "</table>\n",
       "</div>"
      ],
      "text/plain": [
       "   test_id                                          question1  \\\n",
       "0        0  How does the Surface Pro himself 4 compare wit...   \n",
       "1        1  Should I have a hair transplant at age 24? How...   \n",
       "2        2  What but is the best way to send money from Ch...   \n",
       "3        3                        Which food not emulsifiers?   \n",
       "4        4                   How \"aberystwyth\" start reading?   \n",
       "\n",
       "                                           question2  \n",
       "0  Why did Microsoft choose core m3 and not core ...  \n",
       "1        How much cost does hair transplant require?  \n",
       "2                      What you send money to China?  \n",
       "3                                  What foods fibre?  \n",
       "4                     How their can I start reading?  "
      ]
     },
     "execution_count": 6,
     "metadata": {},
     "output_type": "execute_result"
    }
   ],
   "source": [
    "testdata.head()"
   ]
  },
  {
   "cell_type": "markdown",
   "id": "23093644-c5f5-4036-a716-adf5d5356a37",
   "metadata": {},
   "source": [
    "Test data don't have question ids. So the independent variables are question1, question2 and the dependent variable is is_duplicate."
   ]
  },
  {
   "cell_type": "code",
   "execution_count": 7,
   "id": "1458b583-b7c1-422a-a0f0-6095727fd7ef",
   "metadata": {},
   "outputs": [
    {
     "name": "stdout",
     "output_type": "stream",
     "text": [
      "<class 'pandas.core.frame.DataFrame'>\n",
      "RangeIndex: 404290 entries, 0 to 404289\n",
      "Data columns (total 6 columns):\n",
      " #   Column        Non-Null Count   Dtype \n",
      "---  ------        --------------   ----- \n",
      " 0   id            404290 non-null  int64 \n",
      " 1   qid1          404290 non-null  int64 \n",
      " 2   qid2          404290 non-null  int64 \n",
      " 3   question1     404289 non-null  object\n",
      " 4   question2     404288 non-null  object\n",
      " 5   is_duplicate  404290 non-null  int64 \n",
      "dtypes: int64(4), object(2)\n",
      "memory usage: 18.5+ MB\n"
     ]
    }
   ],
   "source": [
    "traindata.info()"
   ]
  },
  {
   "cell_type": "code",
   "execution_count": 8,
   "id": "3b825f61-209b-4d65-9640-76feb607635c",
   "metadata": {},
   "outputs": [
    {
     "name": "stdout",
     "output_type": "stream",
     "text": [
      "(404287, 6)\n"
     ]
    }
   ],
   "source": [
    "traindata = traindata.dropna()\n",
    "print(traindata.shape)"
   ]
  },
  {
   "cell_type": "code",
   "execution_count": 9,
   "id": "0982aabe-7cae-483e-a41f-8dbae1bae6ba",
   "metadata": {},
   "outputs": [
    {
     "name": "stdout",
     "output_type": "stream",
     "text": [
      "0\n"
     ]
    }
   ],
   "source": [
    "print(traindata.duplicated(('question1', 'question2')).sum())"
   ]
  },
  {
   "cell_type": "code",
   "execution_count": 10,
   "id": "7327a357-1757-47c8-a135-8c5bd69b0a32",
   "metadata": {},
   "outputs": [
    {
     "name": "stdout",
     "output_type": "stream",
     "text": [
      "0    0.630799\n",
      "1    0.369201\n",
      "Name: is_duplicate, dtype: float64\n"
     ]
    },
    {
     "data": {
      "text/plain": [
       "<AxesSubplot:title={'center':'Distribution of classes'}>"
      ]
     },
     "execution_count": 10,
     "metadata": {},
     "output_type": "execute_result"
    },
    {
     "data": {
      "image/png": "[encoded data removed]",
      "text/plain": [
       "<Figure size 432x288 with 1 Axes>"
      ]
     },
     "metadata": {
      "needs_background": "light"
     },
     "output_type": "display_data"
    }
   ],
   "source": [
    "duplicate_value_counts = traindata.is_duplicate.value_counts()\n",
    "print(duplicate_value_counts/duplicate_value_counts.sum())\n",
    "plt.title('Distribution of classes')\n",
    "duplicate_value_counts.plot.bar()"
   ]
  },
  {
   "cell_type": "code",
   "execution_count": 11,
   "id": "75087aab-9925-4d73-8190-a999fce4e9d7",
   "metadata": {},
   "outputs": [
    {
     "name": "stdout",
     "output_type": "stream",
     "text": [
      "537929\n",
      "808574\n"
     ]
    }
   ],
   "source": [
    "qids = np.append(traindata.qid1.values, traindata.qid2.values)\n",
    "print(len(set(qids)))\n",
    "print(len(qids))"
   ]
  },
  {
   "cell_type": "code",
   "execution_count": 12,
   "id": "041b0980-e7b5-464c-9e2f-fae837468664",
   "metadata": {},
   "outputs": [
    {
     "data": {
      "image/png": "[encoded data removed]",
      "text/plain": [
       "<Figure size 720x360 with 1 Axes>"
      ]
     },
     "metadata": {
      "needs_background": "light"
     },
     "output_type": "display_data"
    },
    {
     "name": "stdout",
     "output_type": "stream",
     "text": [
      "0 157\n"
     ]
    }
   ],
   "source": [
    "occurences = np.bincount(qids)\n",
    "plt.figure(figsize=(10,5)) \n",
    "plt.hist(occurences, bins=range(0,np.max(occurences)))\n",
    "plt.yscale('log')\n",
    "plt.xlabel('Number of times question repeated')\n",
    "plt.ylabel('Number of questions')\n",
    "plt.title('Question vs Repetition')\n",
    "plt.show()\n",
    "print(np.min(occurences), np.max(occurences))"
   ]
  },
  {
   "cell_type": "code",
   "execution_count": 13,
   "id": "0a64f0e5-a7f4-439e-8089-3e137f164b11",
   "metadata": {},
   "outputs": [
    {
     "name": "stdout",
     "output_type": "stream",
     "text": [
      "1\n",
      "id                                                           3306\n",
      "qid1                                                         6553\n",
      "qid2                                                         6554\n",
      "question1                                                       .\n",
      "question2       Why is Cornell's endowment the lowest in the I...\n",
      "is_duplicate                                                    0\n",
      "Name: 3306, dtype: object\n",
      "1\n",
      "id                                                          47056\n",
      "qid1                                                        84067\n",
      "qid2                                                        84068\n",
      "question1       Is there anywhere in the world offering pain m...\n",
      "question2                                                       ?\n",
      "is_duplicate                                                    0\n",
      "Name: 47056, dtype: object\n"
     ]
    }
   ],
   "source": [
    "print(traindata.question1.apply(len).min())\n",
    "print(traindata.loc[traindata.question1.apply(len).argmin()])\n",
    "print(traindata.question2.apply(len).min())\n",
    "print(traindata.loc[traindata.question2.apply(len).argmin()])"
   ]
  },
  {
   "cell_type": "markdown",
   "id": "f5768785-e072-4a3e-8e4c-d579ee1d2f5a",
   "metadata": {},
   "source": [
    "## Data Preprocessing"
   ]
  },
  {
   "cell_type": "code",
   "execution_count": 14,
   "id": "dc961c89-9fba-4e4a-a5ff-c1243acdfac9",
   "metadata": {},
   "outputs": [],
   "source": [
    "WNL = WordNetLemmatizer()\n",
    "def cutter(word):\n",
    "    if len(word) < 4:\n",
    "        return word\n",
    "    return WNL.lemmatize(WNL.lemmatize(word, \"n\"), \"v\")"
   ]
  },
  {
   "cell_type": "code",
   "execution_count": 15,
   "id": "90eff96d-aaf5-43e1-a891-229e2ec8cf9b",
   "metadata": {},
   "outputs": [],
   "source": [
    "def preprocess_text(string):\n",
    "    string = string.lower().replace(\",000,000\", \"m\").replace(\",000\", \"k\").replace(\"′\", \"'\").replace(\"’\", \"'\") \\\n",
    "        .replace(\"won't\", \"will not\").replace(\"cannot\", \"can not\").replace(\"can't\", \"can not\") \\\n",
    "        .replace(\"n't\", \" not\").replace(\"what's\", \"what is\").replace(\"it's\", \"it is\") \\\n",
    "        .replace(\"'ve\", \" have\").replace(\"i'm\", \"i am\").replace(\"'re\", \" are\") \\\n",
    "        .replace(\"he's\", \"he is\").replace(\"she's\", \"she is\").replace(\"'s\", \" own\") \\\n",
    "        .replace(\"%\", \" percent \").replace(\"₹\", \" rupee \").replace(\"$\", \" dollar \") \\\n",
    "        .replace(\"€\", \" euro \").replace(\"'ll\", \" will\").replace(\"=\", \" equal \").replace(\"+\", \" plus \")\n",
    "    \n",
    "    string = re.sub('[“”\\(\\'…\\)\\!\\^\\\"\\.;:,\\-\\?？\\{\\}\\[\\]\\\\/\\*@]', ' ', string)\n",
    "    string = re.sub(r\"([0-9]+)000000\", r\"\\1m\", string)\n",
    "    string = re.sub(r\"([0-9]+)000\", r\"\\1k\", string)\n",
    "    string = ' '.join([cutter(w) for w in string.split()])\n",
    "    \n",
    "    bfs = BeautifulSoup(string)\n",
    "    string = bfs.get_text()\n",
    "    string = string.strip()\n",
    "    return string"
   ]
  },
  {
   "cell_type": "code",
   "execution_count": 16,
   "id": "ad515bf9-d481-4501-8bd3-26b9d21a9097",
   "metadata": {},
   "outputs": [],
   "source": [
    "def data_cleaning(data):\n",
    "    newdata = pd.DataFrame()\n",
    "    newdata['question1_final'] = data[\"question1\"].fillna(\"\").apply(preprocess_text)\n",
    "    newdata['question2_final'] = data[\"question2\"].fillna(\"\").apply(preprocess_text)\n",
    "    return newdata"
   ]
  },
  {
   "cell_type": "code",
   "execution_count": 17,
   "id": "4769ac4e-c33d-431c-b575-b5ec6e2f5e2c",
   "metadata": {},
   "outputs": [],
   "source": [
    "train_data = data_cleaning(traindata)"
   ]
  },
  {
   "cell_type": "code",
   "execution_count": 18,
   "id": "d6577f16-bd99-4a3b-9ea6-9a1e2e053e83",
   "metadata": {},
   "outputs": [],
   "source": [
    "test_data = data_cleaning(testdata)"
   ]
  },
  {
   "cell_type": "code",
   "execution_count": 19,
   "id": "d03ec970-56bd-422b-81e4-d2963227ad7e",
   "metadata": {},
   "outputs": [
    {
     "name": "stdout",
     "output_type": "stream",
     "text": [
      "   id  qid1  qid2                                          question1  \\\n",
      "0   0     1     2  What is the step by step guide to invest in sh...   \n",
      "1   1     3     4  What is the story of Kohinoor (Koh-i-Noor) Dia...   \n",
      "2   2     5     6  How can I increase the speed of my internet co...   \n",
      "3   3     7     8  Why am I mentally very lonely? How can I solve...   \n",
      "4   4     9    10  Which one dissolve in water quikly sugar, salt...   \n",
      "\n",
      "                                           question2  is_duplicate  \n",
      "0  What is the step by step guide to invest in sh...             0  \n",
      "1  What would happen if the Indian government sto...             0  \n",
      "2  How can Internet speed be increased by hacking...             0  \n",
      "3  Find the remainder when [math]23^{24}[/math] i...             0  \n",
      "4            Which fish would survive in salt water?             0  \n"
     ]
    }
   ],
   "source": [
    "print(traindata.head())"
   ]
  },
  {
   "cell_type": "code",
   "execution_count": 20,
   "id": "d62d3111-8386-449f-b03f-0371c0f8e85f",
   "metadata": {},
   "outputs": [
    {
     "name": "stdout",
     "output_type": "stream",
     "text": [
      "                                     question1_final  \\\n",
      "0  what is the step by step guide to invest in sh...   \n",
      "1   what is the story of kohinoor koh i noor diamond   \n",
      "2  how can i increase the speed of my internet co...   \n",
      "3   why am i mentally very lonely how can i solve it   \n",
      "4  which one dissolve in water quikly sugar salt ...   \n",
      "\n",
      "                                     question2_final  \n",
      "0  what is the step by step guide to invest in sh...  \n",
      "1  what would happen if the indian government ste...  \n",
      "2  how can internet speed be increase by hack thr...  \n",
      "3  find the remainder when math 23 24 math is div...  \n",
      "4             which fish would survive in salt water  \n"
     ]
    }
   ],
   "source": [
    "print(train_data.head())"
   ]
  },
  {
   "cell_type": "markdown",
   "id": "d925b5ec-dcc3-4a91-b2c2-90bf9dde0924",
   "metadata": {},
   "source": [
    "We have:\n",
    "- converted everything to lower case.\n",
    "- removed contractions.\n",
    "- replaced currency symbols with currency names.\n",
    "- also removed hyperlinks.\n",
    "- removed non-alphanumeric characters.\n",
    "- removed inflections with word lemmatizer.\n",
    "- also removed HTML tags."
   ]
  },
  {
   "cell_type": "markdown",
   "id": "98de6a3c-394a-4844-81ad-ca4ea26a70fb",
   "metadata": {},
   "source": [
    "## Feature Extraction"
   ]
  },
  {
   "cell_type": "code",
   "execution_count": 21,
   "id": "4f0716c0-74e8-4d93-b794-878162ce2937",
   "metadata": {},
   "outputs": [],
   "source": [
    "def doesMatch (q, match):\n",
    "    q1, q2 = q['question1_final'], q['question2_final']\n",
    "    q1 = q1.split()\n",
    "    q2 = q2.split()\n",
    "    if len(q1)>0 and len(q2)>0 and q1[match]==q2[match]:\n",
    "        return 1\n",
    "    else:\n",
    "        return 0"
   ]
  },
  {
   "cell_type": "code",
   "execution_count": 22,
   "id": "8830a61c-48ad-407c-be16-fbeef5a90046",
   "metadata": {},
   "outputs": [],
   "source": [
    "def feature_basic(data):\n",
    "    data['q1_char_num'] = data.question1_final.apply(len)\n",
    "    data['q2_char_num'] = data.question2_final.apply(len)\n",
    "    data['q1_word_num'] = data.question1_final.apply(lambda x: len(x.split()))\n",
    "    data['q2_word_num'] = data.question2_final.apply(lambda x: len(x.split()))\n",
    "    \n",
    "    data['total_word_num'] = data['q1_word_num'] + data['q2_word_num']\n",
    "    data['differ_word_num'] = abs(data['q1_word_num'] - data['q2_word_num'])\n",
    "    data['same_first_word'] = data.apply(lambda x: doesMatch(x, 0), axis=1)\n",
    "    data['same_last_word'] = data.apply(lambda x: doesMatch(x, -1), axis=1)\n",
    "    \n",
    "    data['total_unique_word_num'] = data.apply(lambda x: len(set(x.question1_final.split()).union(set(x.question2_final.split()))), axis=1)\n",
    "    data['total_unique_word_withoutstopword_num'] = data.apply(lambda x: len(set(x.question1_final.split()).union(set(x.question2_final.split())) - set(stopwords.words('english'))), axis=1)\n",
    "    data['total_unique_word_num_ratio'] = data['total_unique_word_num'] / data['total_word_num']\n",
    "    \n",
    "    data['common_word_num'] = data.apply(lambda x: len(set(x.question1_final.split()).intersection(set(x.question2_final.split()))), axis=1)\n",
    "    data['common_word_ratio'] = data['common_word_num'] / data['total_unique_word_num']\n",
    "    data['common_word_ratio_min'] = data['common_word_num'] / data.apply(lambda x: min(len(set(x.question1_final.split())), len(set(x.question2_final.split()))), axis=1) \n",
    "    data['common_word_ratio_max'] = data['common_word_num'] / data.apply(lambda x: max(len(set(x.question1_final.split())), len(set(x.question2_final.split()))), axis=1) \n",
    "    \n",
    "    data['common_word_withoutstopword_num'] = data.apply(lambda x: len(set(x.question1_final.split()).intersection(set(x.question2_final.split())) - set(stopwords.words('english'))) ,axis=1)\n",
    "    data['common_word_withoutstopword_ratio'] = data['common_word_withoutstopword_num'] / data['total_unique_word_withoutstopword_num']\n",
    "    data['common_word_withoutstopword_ratio_min'] = data['common_word_withoutstopword_num'] / data.apply(lambda x: min(len(set(x.question1_final.split()) - set(stopwords.words('english'))), len(set(x.question2_final.split()) - set(stopwords.words('english')))) ,axis=1) \n",
    "    data['common_word_withoutstopword_ratio_max'] = data['common_word_withoutstopword_num'] / data.apply(lambda x: max(len(set(x.question1_final.split()) - set(stopwords.words('english'))), len(set(x.question2_final.split()) - set(stopwords.words('english')))) ,axis=1) \n",
    "    return data"
   ]
  },
  {
   "cell_type": "code",
   "execution_count": 23,
   "id": "6023ea77-e2d8-4ff0-8b5b-ffdb2de33f7d",
   "metadata": {},
   "outputs": [
    {
     "data": {
      "text/html": [
       "<div>\n",
       "<style scoped>\n",
       "    .dataframe tbody tr th:only-of-type {\n",
       "        vertical-align: middle;\n",
       "    }\n",
       "\n",
       "    .dataframe tbody tr th {\n",
       "        vertical-align: top;\n",
       "    }\n",
       "\n",
       "    .dataframe thead th {\n",
       "        text-align: right;\n",
       "    }\n",
       "</style>\n",
       "<table border=\"1\" class=\"dataframe\">\n",
       "  <thead>\n",
       "    <tr style=\"text-align: right;\">\n",
       "      <th></th>\n",
       "      <th>question1_final</th>\n",
       "      <th>question2_final</th>\n",
       "      <th>q1_char_num</th>\n",
       "      <th>q2_char_num</th>\n",
       "      <th>q1_word_num</th>\n",
       "      <th>q2_word_num</th>\n",
       "      <th>total_word_num</th>\n",
       "      <th>differ_word_num</th>\n",
       "      <th>same_first_word</th>\n",
       "      <th>same_last_word</th>\n",
       "      <th>...</th>\n",
       "      <th>total_unique_word_withoutstopword_num</th>\n",
       "      <th>total_unique_word_num_ratio</th>\n",
       "      <th>common_word_num</th>\n",
       "      <th>common_word_ratio</th>\n",
       "      <th>common_word_ratio_min</th>\n",
       "      <th>common_word_ratio_max</th>\n",
       "      <th>common_word_withoutstopword_num</th>\n",
       "      <th>common_word_withoutstopword_ratio</th>\n",
       "      <th>common_word_withoutstopword_ratio_min</th>\n",
       "      <th>common_word_withoutstopword_ratio_max</th>\n",
       "    </tr>\n",
       "  </thead>\n",
       "  <tbody>\n",
       "    <tr>\n",
       "      <th>0</th>\n",
       "      <td>what is the step by step guide to invest in sh...</td>\n",
       "      <td>what is the step by step guide to invest in sh...</td>\n",
       "      <td>65</td>\n",
       "      <td>56</td>\n",
       "      <td>14</td>\n",
       "      <td>12</td>\n",
       "      <td>26</td>\n",
       "      <td>2</td>\n",
       "      <td>1</td>\n",
       "      <td>0</td>\n",
       "      <td>...</td>\n",
       "      <td>6</td>\n",
       "      <td>0.461538</td>\n",
       "      <td>11</td>\n",
       "      <td>0.916667</td>\n",
       "      <td>1.000000</td>\n",
       "      <td>0.916667</td>\n",
       "      <td>5</td>\n",
       "      <td>0.833333</td>\n",
       "      <td>1.0</td>\n",
       "      <td>0.833333</td>\n",
       "    </tr>\n",
       "    <tr>\n",
       "      <th>1</th>\n",
       "      <td>what is the story of kohinoor koh i noor diamond</td>\n",
       "      <td>what would happen if the indian government ste...</td>\n",
       "      <td>48</td>\n",
       "      <td>85</td>\n",
       "      <td>10</td>\n",
       "      <td>15</td>\n",
       "      <td>25</td>\n",
       "      <td>5</td>\n",
       "      <td>1</td>\n",
       "      <td>0</td>\n",
       "      <td>...</td>\n",
       "      <td>11</td>\n",
       "      <td>0.680000</td>\n",
       "      <td>7</td>\n",
       "      <td>0.411765</td>\n",
       "      <td>0.700000</td>\n",
       "      <td>0.500000</td>\n",
       "      <td>4</td>\n",
       "      <td>0.363636</td>\n",
       "      <td>0.8</td>\n",
       "      <td>0.400000</td>\n",
       "    </tr>\n",
       "    <tr>\n",
       "      <th>2</th>\n",
       "      <td>how can i increase the speed of my internet co...</td>\n",
       "      <td>how can internet speed be increase by hack thr...</td>\n",
       "      <td>70</td>\n",
       "      <td>54</td>\n",
       "      <td>14</td>\n",
       "      <td>10</td>\n",
       "      <td>24</td>\n",
       "      <td>4</td>\n",
       "      <td>1</td>\n",
       "      <td>0</td>\n",
       "      <td>...</td>\n",
       "      <td>8</td>\n",
       "      <td>0.791667</td>\n",
       "      <td>5</td>\n",
       "      <td>0.263158</td>\n",
       "      <td>0.500000</td>\n",
       "      <td>0.357143</td>\n",
       "      <td>3</td>\n",
       "      <td>0.375000</td>\n",
       "      <td>0.6</td>\n",
       "      <td>0.500000</td>\n",
       "    </tr>\n",
       "    <tr>\n",
       "      <th>3</th>\n",
       "      <td>why am i mentally very lonely how can i solve it</td>\n",
       "      <td>find the remainder when math 23 24 math is div...</td>\n",
       "      <td>48</td>\n",
       "      <td>58</td>\n",
       "      <td>11</td>\n",
       "      <td>13</td>\n",
       "      <td>24</td>\n",
       "      <td>2</td>\n",
       "      <td>0</td>\n",
       "      <td>0</td>\n",
       "      <td>...</td>\n",
       "      <td>9</td>\n",
       "      <td>0.833333</td>\n",
       "      <td>0</td>\n",
       "      <td>0.000000</td>\n",
       "      <td>0.000000</td>\n",
       "      <td>0.000000</td>\n",
       "      <td>0</td>\n",
       "      <td>0.000000</td>\n",
       "      <td>0.0</td>\n",
       "      <td>0.000000</td>\n",
       "    </tr>\n",
       "    <tr>\n",
       "      <th>4</th>\n",
       "      <td>which one dissolve in water quikly sugar salt ...</td>\n",
       "      <td>which fish would survive in salt water</td>\n",
       "      <td>73</td>\n",
       "      <td>38</td>\n",
       "      <td>13</td>\n",
       "      <td>7</td>\n",
       "      <td>20</td>\n",
       "      <td>6</td>\n",
       "      <td>1</td>\n",
       "      <td>0</td>\n",
       "      <td>...</td>\n",
       "      <td>13</td>\n",
       "      <td>0.800000</td>\n",
       "      <td>4</td>\n",
       "      <td>0.250000</td>\n",
       "      <td>0.571429</td>\n",
       "      <td>0.307692</td>\n",
       "      <td>2</td>\n",
       "      <td>0.153846</td>\n",
       "      <td>0.4</td>\n",
       "      <td>0.200000</td>\n",
       "    </tr>\n",
       "  </tbody>\n",
       "</table>\n",
       "<p>5 rows × 21 columns</p>\n",
       "</div>"
      ],
      "text/plain": [
       "                                     question1_final  \\\n",
       "0  what is the step by step guide to invest in sh...   \n",
       "1   what is the story of kohinoor koh i noor diamond   \n",
       "2  how can i increase the speed of my internet co...   \n",
       "3   why am i mentally very lonely how can i solve it   \n",
       "4  which one dissolve in water quikly sugar salt ...   \n",
       "\n",
       "                                     question2_final  q1_char_num  \\\n",
       "0  what is the step by step guide to invest in sh...           65   \n",
       "1  what would happen if the indian government ste...           48   \n",
       "2  how can internet speed be increase by hack thr...           70   \n",
       "3  find the remainder when math 23 24 math is div...           48   \n",
       "4             which fish would survive in salt water           73   \n",
       "\n",
       "   q2_char_num  q1_word_num  q2_word_num  total_word_num  differ_word_num  \\\n",
       "0           56           14           12              26                2   \n",
       "1           85           10           15              25                5   \n",
       "2           54           14           10              24                4   \n",
       "3           58           11           13              24                2   \n",
       "4           38           13            7              20                6   \n",
       "\n",
       "   same_first_word  same_last_word  ...  \\\n",
       "0                1               0  ...   \n",
       "1                1               0  ...   \n",
       "2                1               0  ...   \n",
       "3                0               0  ...   \n",
       "4                1               0  ...   \n",
       "\n",
       "   total_unique_word_withoutstopword_num  total_unique_word_num_ratio  \\\n",
       "0                                      6                     0.461538   \n",
       "1                                     11                     0.680000   \n",
       "2                                      8                     0.791667   \n",
       "3                                      9                     0.833333   \n",
       "4                                     13                     0.800000   \n",
       "\n",
       "   common_word_num  common_word_ratio  common_word_ratio_min  \\\n",
       "0               11           0.916667               1.000000   \n",
       "1                7           0.411765               0.700000   \n",
       "2                5           0.263158               0.500000   \n",
       "3                0           0.000000               0.000000   \n",
       "4                4           0.250000               0.571429   \n",
       "\n",
       "   common_word_ratio_max  common_word_withoutstopword_num  \\\n",
       "0               0.916667                                5   \n",
       "1               0.500000                                4   \n",
       "2               0.357143                                3   \n",
       "3               0.000000                                0   \n",
       "4               0.307692                                2   \n",
       "\n",
       "   common_word_withoutstopword_ratio  common_word_withoutstopword_ratio_min  \\\n",
       "0                           0.833333                                    1.0   \n",
       "1                           0.363636                                    0.8   \n",
       "2                           0.375000                                    0.6   \n",
       "3                           0.000000                                    0.0   \n",
       "4                           0.153846                                    0.4   \n",
       "\n",
       "   common_word_withoutstopword_ratio_max  \n",
       "0                               0.833333  \n",
       "1                               0.400000  \n",
       "2                               0.500000  \n",
       "3                               0.000000  \n",
       "4                               0.200000  \n",
       "\n",
       "[5 rows x 21 columns]"
      ]
     },
     "execution_count": 23,
     "metadata": {},
     "output_type": "execute_result"
    }
   ],
   "source": [
    "train_data = feature_basic(train_data)\n",
    "train_data.head()"
   ]
  },
  {
   "cell_type": "code",
   "execution_count": 24,
   "id": "7e46efbc-9181-414e-bd32-8c708fdaaa3d",
   "metadata": {},
   "outputs": [
    {
     "data": {
      "text/html": [
       "<div>\n",
       "<style scoped>\n",
       "    .dataframe tbody tr th:only-of-type {\n",
       "        vertical-align: middle;\n",
       "    }\n",
       "\n",
       "    .dataframe tbody tr th {\n",
       "        vertical-align: top;\n",
       "    }\n",
       "\n",
       "    .dataframe thead th {\n",
       "        text-align: right;\n",
       "    }\n",
       "</style>\n",
       "<table border=\"1\" class=\"dataframe\">\n",
       "  <thead>\n",
       "    <tr style=\"text-align: right;\">\n",
       "      <th></th>\n",
       "      <th>question1_final</th>\n",
       "      <th>question2_final</th>\n",
       "      <th>q1_char_num</th>\n",
       "      <th>q2_char_num</th>\n",
       "      <th>q1_word_num</th>\n",
       "      <th>q2_word_num</th>\n",
       "      <th>total_word_num</th>\n",
       "      <th>differ_word_num</th>\n",
       "      <th>same_first_word</th>\n",
       "      <th>same_last_word</th>\n",
       "      <th>...</th>\n",
       "      <th>total_unique_word_withoutstopword_num</th>\n",
       "      <th>total_unique_word_num_ratio</th>\n",
       "      <th>common_word_num</th>\n",
       "      <th>common_word_ratio</th>\n",
       "      <th>common_word_ratio_min</th>\n",
       "      <th>common_word_ratio_max</th>\n",
       "      <th>common_word_withoutstopword_num</th>\n",
       "      <th>common_word_withoutstopword_ratio</th>\n",
       "      <th>common_word_withoutstopword_ratio_min</th>\n",
       "      <th>common_word_withoutstopword_ratio_max</th>\n",
       "    </tr>\n",
       "  </thead>\n",
       "  <tbody>\n",
       "    <tr>\n",
       "      <th>0</th>\n",
       "      <td>how doe the surface pro himself 4 compare with...</td>\n",
       "      <td>why did microsoft choose core m3 and not core ...</td>\n",
       "      <td>55</td>\n",
       "      <td>67</td>\n",
       "      <td>11</td>\n",
       "      <td>14</td>\n",
       "      <td>25</td>\n",
       "      <td>3</td>\n",
       "      <td>0</td>\n",
       "      <td>0</td>\n",
       "      <td>...</td>\n",
       "      <td>12</td>\n",
       "      <td>0.800000</td>\n",
       "      <td>3</td>\n",
       "      <td>0.150000</td>\n",
       "      <td>0.300000</td>\n",
       "      <td>0.230769</td>\n",
       "      <td>3</td>\n",
       "      <td>0.250000</td>\n",
       "      <td>0.500000</td>\n",
       "      <td>0.333333</td>\n",
       "    </tr>\n",
       "    <tr>\n",
       "      <th>1</th>\n",
       "      <td>should i have a hair transplant at age 24 how ...</td>\n",
       "      <td>how much cost doe hair transplant require</td>\n",
       "      <td>64</td>\n",
       "      <td>41</td>\n",
       "      <td>14</td>\n",
       "      <td>7</td>\n",
       "      <td>21</td>\n",
       "      <td>7</td>\n",
       "      <td>0</td>\n",
       "      <td>0</td>\n",
       "      <td>...</td>\n",
       "      <td>9</td>\n",
       "      <td>0.761905</td>\n",
       "      <td>5</td>\n",
       "      <td>0.312500</td>\n",
       "      <td>0.714286</td>\n",
       "      <td>0.357143</td>\n",
       "      <td>4</td>\n",
       "      <td>0.444444</td>\n",
       "      <td>0.666667</td>\n",
       "      <td>0.571429</td>\n",
       "    </tr>\n",
       "    <tr>\n",
       "      <th>2</th>\n",
       "      <td>what but is the best way to send money from ch...</td>\n",
       "      <td>what you send money to china</td>\n",
       "      <td>59</td>\n",
       "      <td>28</td>\n",
       "      <td>14</td>\n",
       "      <td>6</td>\n",
       "      <td>20</td>\n",
       "      <td>8</td>\n",
       "      <td>1</td>\n",
       "      <td>0</td>\n",
       "      <td>...</td>\n",
       "      <td>6</td>\n",
       "      <td>0.650000</td>\n",
       "      <td>5</td>\n",
       "      <td>0.384615</td>\n",
       "      <td>0.833333</td>\n",
       "      <td>0.416667</td>\n",
       "      <td>3</td>\n",
       "      <td>0.500000</td>\n",
       "      <td>1.000000</td>\n",
       "      <td>0.500000</td>\n",
       "    </tr>\n",
       "    <tr>\n",
       "      <th>3</th>\n",
       "      <td>which food not emulsifier</td>\n",
       "      <td>what food fibre</td>\n",
       "      <td>25</td>\n",
       "      <td>15</td>\n",
       "      <td>4</td>\n",
       "      <td>3</td>\n",
       "      <td>7</td>\n",
       "      <td>1</td>\n",
       "      <td>0</td>\n",
       "      <td>0</td>\n",
       "      <td>...</td>\n",
       "      <td>3</td>\n",
       "      <td>0.857143</td>\n",
       "      <td>1</td>\n",
       "      <td>0.166667</td>\n",
       "      <td>0.333333</td>\n",
       "      <td>0.250000</td>\n",
       "      <td>1</td>\n",
       "      <td>0.333333</td>\n",
       "      <td>0.500000</td>\n",
       "      <td>0.500000</td>\n",
       "    </tr>\n",
       "    <tr>\n",
       "      <th>4</th>\n",
       "      <td>how aberystwyth start read</td>\n",
       "      <td>how their can i start read</td>\n",
       "      <td>26</td>\n",
       "      <td>26</td>\n",
       "      <td>4</td>\n",
       "      <td>6</td>\n",
       "      <td>10</td>\n",
       "      <td>2</td>\n",
       "      <td>1</td>\n",
       "      <td>1</td>\n",
       "      <td>...</td>\n",
       "      <td>3</td>\n",
       "      <td>0.700000</td>\n",
       "      <td>3</td>\n",
       "      <td>0.428571</td>\n",
       "      <td>0.750000</td>\n",
       "      <td>0.500000</td>\n",
       "      <td>2</td>\n",
       "      <td>0.666667</td>\n",
       "      <td>1.000000</td>\n",
       "      <td>0.666667</td>\n",
       "    </tr>\n",
       "  </tbody>\n",
       "</table>\n",
       "<p>5 rows × 21 columns</p>\n",
       "</div>"
      ],
      "text/plain": [
       "                                     question1_final  \\\n",
       "0  how doe the surface pro himself 4 compare with...   \n",
       "1  should i have a hair transplant at age 24 how ...   \n",
       "2  what but is the best way to send money from ch...   \n",
       "3                          which food not emulsifier   \n",
       "4                         how aberystwyth start read   \n",
       "\n",
       "                                     question2_final  q1_char_num  \\\n",
       "0  why did microsoft choose core m3 and not core ...           55   \n",
       "1          how much cost doe hair transplant require           64   \n",
       "2                       what you send money to china           59   \n",
       "3                                    what food fibre           25   \n",
       "4                         how their can i start read           26   \n",
       "\n",
       "   q2_char_num  q1_word_num  q2_word_num  total_word_num  differ_word_num  \\\n",
       "0           67           11           14              25                3   \n",
       "1           41           14            7              21                7   \n",
       "2           28           14            6              20                8   \n",
       "3           15            4            3               7                1   \n",
       "4           26            4            6              10                2   \n",
       "\n",
       "   same_first_word  same_last_word  ...  \\\n",
       "0                0               0  ...   \n",
       "1                0               0  ...   \n",
       "2                1               0  ...   \n",
       "3                0               0  ...   \n",
       "4                1               1  ...   \n",
       "\n",
       "   total_unique_word_withoutstopword_num  total_unique_word_num_ratio  \\\n",
       "0                                     12                     0.800000   \n",
       "1                                      9                     0.761905   \n",
       "2                                      6                     0.650000   \n",
       "3                                      3                     0.857143   \n",
       "4                                      3                     0.700000   \n",
       "\n",
       "   common_word_num  common_word_ratio  common_word_ratio_min  \\\n",
       "0                3           0.150000               0.300000   \n",
       "1                5           0.312500               0.714286   \n",
       "2                5           0.384615               0.833333   \n",
       "3                1           0.166667               0.333333   \n",
       "4                3           0.428571               0.750000   \n",
       "\n",
       "   common_word_ratio_max  common_word_withoutstopword_num  \\\n",
       "0               0.230769                                3   \n",
       "1               0.357143                                4   \n",
       "2               0.416667                                3   \n",
       "3               0.250000                                1   \n",
       "4               0.500000                                2   \n",
       "\n",
       "   common_word_withoutstopword_ratio  common_word_withoutstopword_ratio_min  \\\n",
       "0                           0.250000                               0.500000   \n",
       "1                           0.444444                               0.666667   \n",
       "2                           0.500000                               1.000000   \n",
       "3                           0.333333                               0.500000   \n",
       "4                           0.666667                               1.000000   \n",
       "\n",
       "   common_word_withoutstopword_ratio_max  \n",
       "0                               0.333333  \n",
       "1                               0.571429  \n",
       "2                               0.500000  \n",
       "3                               0.500000  \n",
       "4                               0.666667  \n",
       "\n",
       "[5 rows x 21 columns]"
      ]
     },
     "execution_count": 24,
     "metadata": {},
     "output_type": "execute_result"
    }
   ],
   "source": [
    "test_data = feature_basic(test_data)\n",
    "test_data.head()"
   ]
  },
  {
   "cell_type": "code",
   "execution_count": 25,
   "id": "95ae4461-51fd-4e64-b32e-65d65be3c0fe",
   "metadata": {},
   "outputs": [],
   "source": [
    "train_data.to_csv(\"data/train_basic_features.csv\", index=False)\n",
    "test_data.to_csv(\"data/test_basic_features.csv\", index=False)"
   ]
  },
  {
   "cell_type": "code",
   "execution_count": null,
   "id": "3f6ba3c0-79c5-4338-91c6-08db45d5cbc4",
   "metadata": {},
   "outputs": [],
   "source": []
  }
 ],
 "metadata": {
  "kernelspec": {
   "display_name": "Python 3 (ipykernel)",
   "language": "python",
   "name": "python3"
  },
  "language_info": {
   "codemirror_mode": {
    "name": "ipython",
    "version": 3
   },
   "file_extension": ".py",
   "mimetype": "text/x-python",
   "name": "python",
   "nbconvert_exporter": "python",
   "pygments_lexer": "ipython3",
   "version": "3.8.10"
  }
 },
 "nbformat": 4,
 "nbformat_minor": 5
}
