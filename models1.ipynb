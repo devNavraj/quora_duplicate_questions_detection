{
 "cells": [
  {
   "cell_type": "code",
   "execution_count": 1,
   "id": "4a7683eb-9776-4d95-a387-bdadbf906fab",
   "metadata": {},
   "outputs": [],
   "source": [
    "import numpy as np\n",
    "import pandas as pd\n",
    "import matplotlib.pyplot as plt\n",
    "from matplotlib.pyplot import figure\n",
    "import seaborn as sns\n",
    "from scipy import sparse\n",
    "from sklearn.feature_extraction.text import TfidfVectorizer\n",
    "from sklearn.preprocessing import StandardScaler, MinMaxScaler\n",
    "from sklearn.model_selection import train_test_split, cross_val_score\n",
    "from sklearn.experimental import enable_halving_search_cv\n",
    "from sklearn.model_selection import HalvingGridSearchCV, ShuffleSplit\n",
    "from imblearn.over_sampling import RandomOverSampler\n",
    "from sklearn.linear_model import LogisticRegression\n",
    "from sklearn.svm import LinearSVC\n",
    "from sklearn.ensemble import RandomForestClassifier\n",
    "from sklearn.metrics import accuracy_score, precision_score, recall_score, f1_score \n",
    "from sklearn.metrics import classification_report, roc_auc_score\n",
    "from sklearn.metrics import confusion_matrix, log_loss\n",
    "from sklearn.calibration import CalibratedClassifierCV\n",
    "import xgboost as xgb\n",
    "import time"
   ]
  },
  {
   "cell_type": "code",
   "execution_count": 2,
   "id": "09e76ef8-e476-4cc1-96f6-7ce67b9e23bb",
   "metadata": {},
   "outputs": [],
   "source": [
    "# Importing the dataset\n",
    "traindata = pd.read_csv(\"data/train.csv\")\n",
    "testdata = pd.read_csv('data/test.csv')"
   ]
  },
  {
   "cell_type": "code",
   "execution_count": 3,
   "id": "cdca5a64-2884-49e7-b9de-e6c96c633939",
   "metadata": {},
   "outputs": [
    {
     "name": "stdout",
     "output_type": "stream",
     "text": [
      "(404287, 6)\n"
     ]
    }
   ],
   "source": [
    "traindata = traindata.dropna()\n",
    "print(traindata.shape)"
   ]
  },
  {
   "cell_type": "code",
   "execution_count": 4,
   "id": "4c50c787-a388-435f-9f7f-c18c185fe2e3",
   "metadata": {},
   "outputs": [
    {
     "data": {
      "text/plain": [
       "id              False\n",
       "qid1            False\n",
       "qid2            False\n",
       "question1       False\n",
       "question2       False\n",
       "is_duplicate    False\n",
       "dtype: bool"
      ]
     },
     "execution_count": 4,
     "metadata": {},
     "output_type": "execute_result"
    }
   ],
   "source": [
    "np.isnan(traindata.any())"
   ]
  },
  {
   "cell_type": "code",
   "execution_count": 5,
   "id": "a1a6427b-cf9a-4246-99f8-0fe7326ce40f",
   "metadata": {},
   "outputs": [
    {
     "data": {
      "text/html": [
       "<div>\n",
       "<style scoped>\n",
       "    .dataframe tbody tr th:only-of-type {\n",
       "        vertical-align: middle;\n",
       "    }\n",
       "\n",
       "    .dataframe tbody tr th {\n",
       "        vertical-align: top;\n",
       "    }\n",
       "\n",
       "    .dataframe thead th {\n",
       "        text-align: right;\n",
       "    }\n",
       "</style>\n",
       "<table border=\"1\" class=\"dataframe\">\n",
       "  <thead>\n",
       "    <tr style=\"text-align: right;\">\n",
       "      <th></th>\n",
       "      <th>id</th>\n",
       "      <th>qid1</th>\n",
       "      <th>qid2</th>\n",
       "      <th>question1</th>\n",
       "      <th>question2</th>\n",
       "      <th>is_duplicate</th>\n",
       "    </tr>\n",
       "  </thead>\n",
       "  <tbody>\n",
       "    <tr>\n",
       "      <th>0</th>\n",
       "      <td>0</td>\n",
       "      <td>1</td>\n",
       "      <td>2</td>\n",
       "      <td>What is the step by step guide to invest in sh...</td>\n",
       "      <td>What is the step by step guide to invest in sh...</td>\n",
       "      <td>0</td>\n",
       "    </tr>\n",
       "    <tr>\n",
       "      <th>1</th>\n",
       "      <td>1</td>\n",
       "      <td>3</td>\n",
       "      <td>4</td>\n",
       "      <td>What is the story of Kohinoor (Koh-i-Noor) Dia...</td>\n",
       "      <td>What would happen if the Indian government sto...</td>\n",
       "      <td>0</td>\n",
       "    </tr>\n",
       "    <tr>\n",
       "      <th>2</th>\n",
       "      <td>2</td>\n",
       "      <td>5</td>\n",
       "      <td>6</td>\n",
       "      <td>How can I increase the speed of my internet co...</td>\n",
       "      <td>How can Internet speed be increased by hacking...</td>\n",
       "      <td>0</td>\n",
       "    </tr>\n",
       "    <tr>\n",
       "      <th>3</th>\n",
       "      <td>3</td>\n",
       "      <td>7</td>\n",
       "      <td>8</td>\n",
       "      <td>Why am I mentally very lonely? How can I solve...</td>\n",
       "      <td>Find the remainder when [math]23^{24}[/math] i...</td>\n",
       "      <td>0</td>\n",
       "    </tr>\n",
       "    <tr>\n",
       "      <th>4</th>\n",
       "      <td>4</td>\n",
       "      <td>9</td>\n",
       "      <td>10</td>\n",
       "      <td>Which one dissolve in water quikly sugar, salt...</td>\n",
       "      <td>Which fish would survive in salt water?</td>\n",
       "      <td>0</td>\n",
       "    </tr>\n",
       "  </tbody>\n",
       "</table>\n",
       "</div>"
      ],
      "text/plain": [
       "   id  qid1  qid2                                          question1  \\\n",
       "0   0     1     2  What is the step by step guide to invest in sh...   \n",
       "1   1     3     4  What is the story of Kohinoor (Koh-i-Noor) Dia...   \n",
       "2   2     5     6  How can I increase the speed of my internet co...   \n",
       "3   3     7     8  Why am I mentally very lonely? How can I solve...   \n",
       "4   4     9    10  Which one dissolve in water quikly sugar, salt...   \n",
       "\n",
       "                                           question2  is_duplicate  \n",
       "0  What is the step by step guide to invest in sh...             0  \n",
       "1  What would happen if the Indian government sto...             0  \n",
       "2  How can Internet speed be increased by hacking...             0  \n",
       "3  Find the remainder when [math]23^{24}[/math] i...             0  \n",
       "4            Which fish would survive in salt water?             0  "
      ]
     },
     "execution_count": 5,
     "metadata": {},
     "output_type": "execute_result"
    }
   ],
   "source": [
    "traindata.head()"
   ]
  },
  {
   "cell_type": "code",
   "execution_count": 6,
   "id": "1ed0f34d-e622-4a0d-bc0c-679b6abc5f4b",
   "metadata": {},
   "outputs": [],
   "source": [
    "labels = np.array(traindata[\"is_duplicate\"])"
   ]
  },
  {
   "cell_type": "code",
   "execution_count": 7,
   "id": "45586c7e-8e8d-4ca7-a13a-6b7c32118871",
   "metadata": {},
   "outputs": [],
   "source": [
    "features = pd.read_csv(\"data/train_basic_features.csv\")"
   ]
  },
  {
   "cell_type": "code",
   "execution_count": 8,
   "id": "cd53606f-6068-4acc-8224-75936f442b87",
   "metadata": {},
   "outputs": [
    {
     "data": {
      "text/html": [
       "<div>\n",
       "<style scoped>\n",
       "    .dataframe tbody tr th:only-of-type {\n",
       "        vertical-align: middle;\n",
       "    }\n",
       "\n",
       "    .dataframe tbody tr th {\n",
       "        vertical-align: top;\n",
       "    }\n",
       "\n",
       "    .dataframe thead th {\n",
       "        text-align: right;\n",
       "    }\n",
       "</style>\n",
       "<table border=\"1\" class=\"dataframe\">\n",
       "  <thead>\n",
       "    <tr style=\"text-align: right;\">\n",
       "      <th></th>\n",
       "      <th>question1_final</th>\n",
       "      <th>question2_final</th>\n",
       "      <th>q1_char_num</th>\n",
       "      <th>q2_char_num</th>\n",
       "      <th>q1_word_num</th>\n",
       "      <th>q2_word_num</th>\n",
       "      <th>total_word_num</th>\n",
       "      <th>differ_word_num</th>\n",
       "      <th>same_first_word</th>\n",
       "      <th>same_last_word</th>\n",
       "      <th>...</th>\n",
       "      <th>total_unique_word_withoutstopword_num</th>\n",
       "      <th>total_unique_word_num_ratio</th>\n",
       "      <th>common_word_num</th>\n",
       "      <th>common_word_ratio</th>\n",
       "      <th>common_word_ratio_min</th>\n",
       "      <th>common_word_ratio_max</th>\n",
       "      <th>common_word_withoutstopword_num</th>\n",
       "      <th>common_word_withoutstopword_ratio</th>\n",
       "      <th>common_word_withoutstopword_ratio_min</th>\n",
       "      <th>common_word_withoutstopword_ratio_max</th>\n",
       "    </tr>\n",
       "  </thead>\n",
       "  <tbody>\n",
       "    <tr>\n",
       "      <th>0</th>\n",
       "      <td>what is the step by step guide to invest in sh...</td>\n",
       "      <td>what is the step by step guide to invest in sh...</td>\n",
       "      <td>65</td>\n",
       "      <td>56</td>\n",
       "      <td>14</td>\n",
       "      <td>12</td>\n",
       "      <td>26</td>\n",
       "      <td>2</td>\n",
       "      <td>1</td>\n",
       "      <td>0</td>\n",
       "      <td>...</td>\n",
       "      <td>6</td>\n",
       "      <td>0.461538</td>\n",
       "      <td>11</td>\n",
       "      <td>0.916667</td>\n",
       "      <td>1.000000</td>\n",
       "      <td>0.916667</td>\n",
       "      <td>5</td>\n",
       "      <td>0.833333</td>\n",
       "      <td>1.0</td>\n",
       "      <td>0.833333</td>\n",
       "    </tr>\n",
       "    <tr>\n",
       "      <th>1</th>\n",
       "      <td>what is the story of kohinoor koh i noor diamond</td>\n",
       "      <td>what would happen if the indian government ste...</td>\n",
       "      <td>48</td>\n",
       "      <td>85</td>\n",
       "      <td>10</td>\n",
       "      <td>15</td>\n",
       "      <td>25</td>\n",
       "      <td>5</td>\n",
       "      <td>1</td>\n",
       "      <td>0</td>\n",
       "      <td>...</td>\n",
       "      <td>11</td>\n",
       "      <td>0.680000</td>\n",
       "      <td>7</td>\n",
       "      <td>0.411765</td>\n",
       "      <td>0.700000</td>\n",
       "      <td>0.500000</td>\n",
       "      <td>4</td>\n",
       "      <td>0.363636</td>\n",
       "      <td>0.8</td>\n",
       "      <td>0.400000</td>\n",
       "    </tr>\n",
       "    <tr>\n",
       "      <th>2</th>\n",
       "      <td>how can i increase the speed of my internet co...</td>\n",
       "      <td>how can internet speed be increase by hack thr...</td>\n",
       "      <td>70</td>\n",
       "      <td>54</td>\n",
       "      <td>14</td>\n",
       "      <td>10</td>\n",
       "      <td>24</td>\n",
       "      <td>4</td>\n",
       "      <td>1</td>\n",
       "      <td>0</td>\n",
       "      <td>...</td>\n",
       "      <td>8</td>\n",
       "      <td>0.791667</td>\n",
       "      <td>5</td>\n",
       "      <td>0.263158</td>\n",
       "      <td>0.500000</td>\n",
       "      <td>0.357143</td>\n",
       "      <td>3</td>\n",
       "      <td>0.375000</td>\n",
       "      <td>0.6</td>\n",
       "      <td>0.500000</td>\n",
       "    </tr>\n",
       "    <tr>\n",
       "      <th>3</th>\n",
       "      <td>why am i mentally very lonely how can i solve it</td>\n",
       "      <td>find the remainder when math 23 24 math is div...</td>\n",
       "      <td>48</td>\n",
       "      <td>58</td>\n",
       "      <td>11</td>\n",
       "      <td>13</td>\n",
       "      <td>24</td>\n",
       "      <td>2</td>\n",
       "      <td>0</td>\n",
       "      <td>0</td>\n",
       "      <td>...</td>\n",
       "      <td>9</td>\n",
       "      <td>0.833333</td>\n",
       "      <td>0</td>\n",
       "      <td>0.000000</td>\n",
       "      <td>0.000000</td>\n",
       "      <td>0.000000</td>\n",
       "      <td>0</td>\n",
       "      <td>0.000000</td>\n",
       "      <td>0.0</td>\n",
       "      <td>0.000000</td>\n",
       "    </tr>\n",
       "    <tr>\n",
       "      <th>4</th>\n",
       "      <td>which one dissolve in water quikly sugar salt ...</td>\n",
       "      <td>which fish would survive in salt water</td>\n",
       "      <td>73</td>\n",
       "      <td>38</td>\n",
       "      <td>13</td>\n",
       "      <td>7</td>\n",
       "      <td>20</td>\n",
       "      <td>6</td>\n",
       "      <td>1</td>\n",
       "      <td>0</td>\n",
       "      <td>...</td>\n",
       "      <td>13</td>\n",
       "      <td>0.800000</td>\n",
       "      <td>4</td>\n",
       "      <td>0.250000</td>\n",
       "      <td>0.571429</td>\n",
       "      <td>0.307692</td>\n",
       "      <td>2</td>\n",
       "      <td>0.153846</td>\n",
       "      <td>0.4</td>\n",
       "      <td>0.200000</td>\n",
       "    </tr>\n",
       "  </tbody>\n",
       "</table>\n",
       "<p>5 rows × 21 columns</p>\n",
       "</div>"
      ],
      "text/plain": [
       "                                     question1_final  \\\n",
       "0  what is the step by step guide to invest in sh...   \n",
       "1   what is the story of kohinoor koh i noor diamond   \n",
       "2  how can i increase the speed of my internet co...   \n",
       "3   why am i mentally very lonely how can i solve it   \n",
       "4  which one dissolve in water quikly sugar salt ...   \n",
       "\n",
       "                                     question2_final  q1_char_num  \\\n",
       "0  what is the step by step guide to invest in sh...           65   \n",
       "1  what would happen if the indian government ste...           48   \n",
       "2  how can internet speed be increase by hack thr...           70   \n",
       "3  find the remainder when math 23 24 math is div...           48   \n",
       "4             which fish would survive in salt water           73   \n",
       "\n",
       "   q2_char_num  q1_word_num  q2_word_num  total_word_num  differ_word_num  \\\n",
       "0           56           14           12              26                2   \n",
       "1           85           10           15              25                5   \n",
       "2           54           14           10              24                4   \n",
       "3           58           11           13              24                2   \n",
       "4           38           13            7              20                6   \n",
       "\n",
       "   same_first_word  same_last_word  ...  \\\n",
       "0                1               0  ...   \n",
       "1                1               0  ...   \n",
       "2                1               0  ...   \n",
       "3                0               0  ...   \n",
       "4                1               0  ...   \n",
       "\n",
       "   total_unique_word_withoutstopword_num  total_unique_word_num_ratio  \\\n",
       "0                                      6                     0.461538   \n",
       "1                                     11                     0.680000   \n",
       "2                                      8                     0.791667   \n",
       "3                                      9                     0.833333   \n",
       "4                                     13                     0.800000   \n",
       "\n",
       "   common_word_num  common_word_ratio  common_word_ratio_min  \\\n",
       "0               11           0.916667               1.000000   \n",
       "1                7           0.411765               0.700000   \n",
       "2                5           0.263158               0.500000   \n",
       "3                0           0.000000               0.000000   \n",
       "4                4           0.250000               0.571429   \n",
       "\n",
       "   common_word_ratio_max  common_word_withoutstopword_num  \\\n",
       "0               0.916667                                5   \n",
       "1               0.500000                                4   \n",
       "2               0.357143                                3   \n",
       "3               0.000000                                0   \n",
       "4               0.307692                                2   \n",
       "\n",
       "   common_word_withoutstopword_ratio  common_word_withoutstopword_ratio_min  \\\n",
       "0                           0.833333                                    1.0   \n",
       "1                           0.363636                                    0.8   \n",
       "2                           0.375000                                    0.6   \n",
       "3                           0.000000                                    0.0   \n",
       "4                           0.153846                                    0.4   \n",
       "\n",
       "   common_word_withoutstopword_ratio_max  \n",
       "0                               0.833333  \n",
       "1                               0.400000  \n",
       "2                               0.500000  \n",
       "3                               0.000000  \n",
       "4                               0.200000  \n",
       "\n",
       "[5 rows x 21 columns]"
      ]
     },
     "execution_count": 8,
     "metadata": {},
     "output_type": "execute_result"
    }
   ],
   "source": [
    "features.head()"
   ]
  },
  {
   "cell_type": "code",
   "execution_count": 9,
   "id": "8df7ecbe-a2f7-423c-800c-e6a079fccfdd",
   "metadata": {},
   "outputs": [
    {
     "data": {
      "text/html": [
       "<div>\n",
       "<style scoped>\n",
       "    .dataframe tbody tr th:only-of-type {\n",
       "        vertical-align: middle;\n",
       "    }\n",
       "\n",
       "    .dataframe tbody tr th {\n",
       "        vertical-align: top;\n",
       "    }\n",
       "\n",
       "    .dataframe thead th {\n",
       "        text-align: right;\n",
       "    }\n",
       "</style>\n",
       "<table border=\"1\" class=\"dataframe\">\n",
       "  <thead>\n",
       "    <tr style=\"text-align: right;\">\n",
       "      <th></th>\n",
       "      <th>q1_char_num</th>\n",
       "      <th>q2_char_num</th>\n",
       "      <th>q1_word_num</th>\n",
       "      <th>q2_word_num</th>\n",
       "      <th>total_word_num</th>\n",
       "      <th>differ_word_num</th>\n",
       "      <th>same_first_word</th>\n",
       "      <th>same_last_word</th>\n",
       "      <th>total_unique_word_num</th>\n",
       "      <th>total_unique_word_withoutstopword_num</th>\n",
       "      <th>total_unique_word_num_ratio</th>\n",
       "      <th>common_word_num</th>\n",
       "      <th>common_word_ratio</th>\n",
       "      <th>common_word_ratio_min</th>\n",
       "      <th>common_word_ratio_max</th>\n",
       "      <th>common_word_withoutstopword_num</th>\n",
       "      <th>common_word_withoutstopword_ratio</th>\n",
       "      <th>common_word_withoutstopword_ratio_min</th>\n",
       "      <th>common_word_withoutstopword_ratio_max</th>\n",
       "    </tr>\n",
       "  </thead>\n",
       "  <tbody>\n",
       "    <tr>\n",
       "      <th>0</th>\n",
       "      <td>65</td>\n",
       "      <td>56</td>\n",
       "      <td>14</td>\n",
       "      <td>12</td>\n",
       "      <td>26</td>\n",
       "      <td>2</td>\n",
       "      <td>1</td>\n",
       "      <td>0</td>\n",
       "      <td>12</td>\n",
       "      <td>6</td>\n",
       "      <td>0.461538</td>\n",
       "      <td>11</td>\n",
       "      <td>0.916667</td>\n",
       "      <td>1.000000</td>\n",
       "      <td>0.916667</td>\n",
       "      <td>5</td>\n",
       "      <td>0.833333</td>\n",
       "      <td>1.0</td>\n",
       "      <td>0.833333</td>\n",
       "    </tr>\n",
       "    <tr>\n",
       "      <th>1</th>\n",
       "      <td>48</td>\n",
       "      <td>85</td>\n",
       "      <td>10</td>\n",
       "      <td>15</td>\n",
       "      <td>25</td>\n",
       "      <td>5</td>\n",
       "      <td>1</td>\n",
       "      <td>0</td>\n",
       "      <td>17</td>\n",
       "      <td>11</td>\n",
       "      <td>0.680000</td>\n",
       "      <td>7</td>\n",
       "      <td>0.411765</td>\n",
       "      <td>0.700000</td>\n",
       "      <td>0.500000</td>\n",
       "      <td>4</td>\n",
       "      <td>0.363636</td>\n",
       "      <td>0.8</td>\n",
       "      <td>0.400000</td>\n",
       "    </tr>\n",
       "    <tr>\n",
       "      <th>2</th>\n",
       "      <td>70</td>\n",
       "      <td>54</td>\n",
       "      <td>14</td>\n",
       "      <td>10</td>\n",
       "      <td>24</td>\n",
       "      <td>4</td>\n",
       "      <td>1</td>\n",
       "      <td>0</td>\n",
       "      <td>19</td>\n",
       "      <td>8</td>\n",
       "      <td>0.791667</td>\n",
       "      <td>5</td>\n",
       "      <td>0.263158</td>\n",
       "      <td>0.500000</td>\n",
       "      <td>0.357143</td>\n",
       "      <td>3</td>\n",
       "      <td>0.375000</td>\n",
       "      <td>0.6</td>\n",
       "      <td>0.500000</td>\n",
       "    </tr>\n",
       "    <tr>\n",
       "      <th>3</th>\n",
       "      <td>48</td>\n",
       "      <td>58</td>\n",
       "      <td>11</td>\n",
       "      <td>13</td>\n",
       "      <td>24</td>\n",
       "      <td>2</td>\n",
       "      <td>0</td>\n",
       "      <td>0</td>\n",
       "      <td>20</td>\n",
       "      <td>9</td>\n",
       "      <td>0.833333</td>\n",
       "      <td>0</td>\n",
       "      <td>0.000000</td>\n",
       "      <td>0.000000</td>\n",
       "      <td>0.000000</td>\n",
       "      <td>0</td>\n",
       "      <td>0.000000</td>\n",
       "      <td>0.0</td>\n",
       "      <td>0.000000</td>\n",
       "    </tr>\n",
       "    <tr>\n",
       "      <th>4</th>\n",
       "      <td>73</td>\n",
       "      <td>38</td>\n",
       "      <td>13</td>\n",
       "      <td>7</td>\n",
       "      <td>20</td>\n",
       "      <td>6</td>\n",
       "      <td>1</td>\n",
       "      <td>0</td>\n",
       "      <td>16</td>\n",
       "      <td>13</td>\n",
       "      <td>0.800000</td>\n",
       "      <td>4</td>\n",
       "      <td>0.250000</td>\n",
       "      <td>0.571429</td>\n",
       "      <td>0.307692</td>\n",
       "      <td>2</td>\n",
       "      <td>0.153846</td>\n",
       "      <td>0.4</td>\n",
       "      <td>0.200000</td>\n",
       "    </tr>\n",
       "  </tbody>\n",
       "</table>\n",
       "</div>"
      ],
      "text/plain": [
       "   q1_char_num  q2_char_num  q1_word_num  q2_word_num  total_word_num  \\\n",
       "0           65           56           14           12              26   \n",
       "1           48           85           10           15              25   \n",
       "2           70           54           14           10              24   \n",
       "3           48           58           11           13              24   \n",
       "4           73           38           13            7              20   \n",
       "\n",
       "   differ_word_num  same_first_word  same_last_word  total_unique_word_num  \\\n",
       "0                2                1               0                     12   \n",
       "1                5                1               0                     17   \n",
       "2                4                1               0                     19   \n",
       "3                2                0               0                     20   \n",
       "4                6                1               0                     16   \n",
       "\n",
       "   total_unique_word_withoutstopword_num  total_unique_word_num_ratio  \\\n",
       "0                                      6                     0.461538   \n",
       "1                                     11                     0.680000   \n",
       "2                                      8                     0.791667   \n",
       "3                                      9                     0.833333   \n",
       "4                                     13                     0.800000   \n",
       "\n",
       "   common_word_num  common_word_ratio  common_word_ratio_min  \\\n",
       "0               11           0.916667               1.000000   \n",
       "1                7           0.411765               0.700000   \n",
       "2                5           0.263158               0.500000   \n",
       "3                0           0.000000               0.000000   \n",
       "4                4           0.250000               0.571429   \n",
       "\n",
       "   common_word_ratio_max  common_word_withoutstopword_num  \\\n",
       "0               0.916667                                5   \n",
       "1               0.500000                                4   \n",
       "2               0.357143                                3   \n",
       "3               0.000000                                0   \n",
       "4               0.307692                                2   \n",
       "\n",
       "   common_word_withoutstopword_ratio  common_word_withoutstopword_ratio_min  \\\n",
       "0                           0.833333                                    1.0   \n",
       "1                           0.363636                                    0.8   \n",
       "2                           0.375000                                    0.6   \n",
       "3                           0.000000                                    0.0   \n",
       "4                           0.153846                                    0.4   \n",
       "\n",
       "   common_word_withoutstopword_ratio_max  \n",
       "0                               0.833333  \n",
       "1                               0.400000  \n",
       "2                               0.500000  \n",
       "3                               0.000000  \n",
       "4                               0.200000  "
      ]
     },
     "execution_count": 9,
     "metadata": {},
     "output_type": "execute_result"
    }
   ],
   "source": [
    "features.drop([\"question1_final\", \"question2_final\"], axis=1, inplace=True)\n",
    "features.head()"
   ]
  },
  {
   "cell_type": "code",
   "execution_count": 10,
   "id": "14a4e191-d11d-4f54-bbd3-adf1edc13755",
   "metadata": {},
   "outputs": [
    {
     "data": {
      "text/plain": [
       "(404287, 19)"
      ]
     },
     "execution_count": 10,
     "metadata": {},
     "output_type": "execute_result"
    }
   ],
   "source": [
    "features.shape"
   ]
  },
  {
   "cell_type": "code",
   "execution_count": 11,
   "id": "984ab485-d1a2-4c94-aece-c02ec0c5b878",
   "metadata": {},
   "outputs": [
    {
     "data": {
      "text/plain": [
       "q1_char_num                              False\n",
       "q2_char_num                              False\n",
       "q1_word_num                              False\n",
       "q2_word_num                              False\n",
       "total_word_num                           False\n",
       "differ_word_num                          False\n",
       "same_first_word                          False\n",
       "same_last_word                           False\n",
       "total_unique_word_num                    False\n",
       "total_unique_word_withoutstopword_num    False\n",
       "total_unique_word_num_ratio              False\n",
       "common_word_num                          False\n",
       "common_word_ratio                        False\n",
       "common_word_ratio_min                    False\n",
       "common_word_ratio_max                    False\n",
       "common_word_withoutstopword_num          False\n",
       "common_word_withoutstopword_ratio        False\n",
       "common_word_withoutstopword_ratio_min    False\n",
       "common_word_withoutstopword_ratio_max    False\n",
       "dtype: bool"
      ]
     },
     "execution_count": 11,
     "metadata": {},
     "output_type": "execute_result"
    }
   ],
   "source": [
    "np.isnan(features.all())"
   ]
  },
  {
   "cell_type": "code",
   "execution_count": 12,
   "id": "059db66f-6ae3-4b33-8605-7323b12d489d",
   "metadata": {},
   "outputs": [
    {
     "data": {
      "text/plain": [
       "q1_char_num                              True\n",
       "q2_char_num                              True\n",
       "q1_word_num                              True\n",
       "q2_word_num                              True\n",
       "total_word_num                           True\n",
       "differ_word_num                          True\n",
       "same_first_word                          True\n",
       "same_last_word                           True\n",
       "total_unique_word_num                    True\n",
       "total_unique_word_withoutstopword_num    True\n",
       "total_unique_word_num_ratio              True\n",
       "common_word_num                          True\n",
       "common_word_ratio                        True\n",
       "common_word_ratio_min                    True\n",
       "common_word_ratio_max                    True\n",
       "common_word_withoutstopword_num          True\n",
       "common_word_withoutstopword_ratio        True\n",
       "common_word_withoutstopword_ratio_min    True\n",
       "common_word_withoutstopword_ratio_max    True\n",
       "dtype: bool"
      ]
     },
     "execution_count": 12,
     "metadata": {},
     "output_type": "execute_result"
    }
   ],
   "source": [
    "np.isfinite(features.all())"
   ]
  },
  {
   "cell_type": "code",
   "execution_count": 13,
   "id": "be7dcc4f-0de0-450b-9768-bf2027230efd",
   "metadata": {},
   "outputs": [],
   "source": [
    "features.replace((np.inf, -np.inf), np.nan, inplace=True)"
   ]
  },
  {
   "cell_type": "code",
   "execution_count": 14,
   "id": "37f0eb78-4ce4-4145-823b-f49a37a1c3fb",
   "metadata": {},
   "outputs": [],
   "source": [
    "features.fillna(method='bfill', inplace=True)"
   ]
  },
  {
   "cell_type": "code",
   "execution_count": 15,
   "id": "cc81d187-ce7b-44be-bc3c-deb72aa0de23",
   "metadata": {},
   "outputs": [
    {
     "name": "stdout",
     "output_type": "stream",
     "text": [
      "<class 'pandas.core.frame.DataFrame'>\n",
      "RangeIndex: 404287 entries, 0 to 404286\n",
      "Data columns (total 19 columns):\n",
      " #   Column                                 Non-Null Count   Dtype  \n",
      "---  ------                                 --------------   -----  \n",
      " 0   q1_char_num                            404287 non-null  int64  \n",
      " 1   q2_char_num                            404287 non-null  int64  \n",
      " 2   q1_word_num                            404287 non-null  int64  \n",
      " 3   q2_word_num                            404287 non-null  int64  \n",
      " 4   total_word_num                         404287 non-null  int64  \n",
      " 5   differ_word_num                        404287 non-null  int64  \n",
      " 6   same_first_word                        404287 non-null  int64  \n",
      " 7   same_last_word                         404287 non-null  int64  \n",
      " 8   total_unique_word_num                  404287 non-null  int64  \n",
      " 9   total_unique_word_withoutstopword_num  404287 non-null  int64  \n",
      " 10  total_unique_word_num_ratio            404287 non-null  float64\n",
      " 11  common_word_num                        404287 non-null  int64  \n",
      " 12  common_word_ratio                      404287 non-null  float64\n",
      " 13  common_word_ratio_min                  404287 non-null  float64\n",
      " 14  common_word_ratio_max                  404287 non-null  float64\n",
      " 15  common_word_withoutstopword_num        404287 non-null  int64  \n",
      " 16  common_word_withoutstopword_ratio      404287 non-null  float64\n",
      " 17  common_word_withoutstopword_ratio_min  404287 non-null  float64\n",
      " 18  common_word_withoutstopword_ratio_max  404287 non-null  float64\n",
      "dtypes: float64(7), int64(12)\n",
      "memory usage: 58.6 MB\n"
     ]
    }
   ],
   "source": [
    "features.info()"
   ]
  },
  {
   "cell_type": "code",
   "execution_count": 16,
   "id": "7d53cfda-feb5-498f-b7a4-ac9b4ff9ccba",
   "metadata": {},
   "outputs": [],
   "source": [
    "features = features.to_numpy()"
   ]
  },
  {
   "cell_type": "code",
   "execution_count": 17,
   "id": "0be94659-194e-45d2-84f5-2bc9669f91d6",
   "metadata": {},
   "outputs": [],
   "source": [
    "scaler = MinMaxScaler()"
   ]
  },
  {
   "cell_type": "code",
   "execution_count": 18,
   "id": "390e8dfe-b6ad-4c9d-b5af-9bddad85ed7e",
   "metadata": {},
   "outputs": [],
   "source": [
    "features = scaler.fit_transform(features)"
   ]
  },
  {
   "cell_type": "code",
   "execution_count": 19,
   "id": "fdbe321f-f5d1-4185-b931-fbb7a1a2a217",
   "metadata": {},
   "outputs": [
    {
     "data": {
      "text/plain": [
       "array([[0.11111111, 0.05049594, 0.109375  , ..., 0.83333333, 1.        ,\n",
       "        0.83333333],\n",
       "       [0.08205128, 0.07664563, 0.078125  , ..., 0.36363636, 0.8       ,\n",
       "        0.4       ],\n",
       "       [0.11965812, 0.04869252, 0.109375  , ..., 0.375     , 0.6       ,\n",
       "        0.5       ],\n",
       "       ...,\n",
       "       [0.02735043, 0.01532913, 0.03125   , ..., 0.5       , 1.        ,\n",
       "        0.5       ],\n",
       "       [0.14871795, 0.10820559, 0.1328125 , ..., 0.        , 0.        ,\n",
       "        0.        ],\n",
       "       [0.06153846, 0.03967538, 0.0625    , ..., 1.        , 1.        ,\n",
       "        1.        ]])"
      ]
     },
     "execution_count": 19,
     "metadata": {},
     "output_type": "execute_result"
    }
   ],
   "source": [
    "features"
   ]
  },
  {
   "cell_type": "markdown",
   "id": "a8a731ad-be23-4ce5-b60f-7057787edf2d",
   "metadata": {},
   "source": [
    "Since the dataset is imbalanced, we did oversample by sampling from the minority class."
   ]
  },
  {
   "cell_type": "code",
   "execution_count": 20,
   "id": "400d68ac-b5b6-4f67-a355-e9ce8e841d81",
   "metadata": {},
   "outputs": [],
   "source": [
    "oversample = RandomOverSampler(sampling_strategy='minority')\n",
    "X_data, y_data = oversample.fit_resample(features, labels)"
   ]
  },
  {
   "cell_type": "code",
   "execution_count": 21,
   "id": "b15f1bac-0eca-4101-8ff3-1af687d608a2",
   "metadata": {},
   "outputs": [
    {
     "name": "stdout",
     "output_type": "stream",
     "text": [
      "255024\n",
      "255024\n"
     ]
    }
   ],
   "source": [
    "print(np.count_nonzero(y_data == 0))\n",
    "print(np.count_nonzero(y_data == 1))"
   ]
  },
  {
   "cell_type": "markdown",
   "id": "1ee9ed5e-7021-495b-926d-98dce48608b7",
   "metadata": {},
   "source": [
    "Now we have 510048 data points. 255024 from each class."
   ]
  },
  {
   "cell_type": "code",
   "execution_count": 22,
   "id": "32ff12af-f45a-483e-9f0e-b7df233d52cd",
   "metadata": {},
   "outputs": [],
   "source": [
    "X_train, X_test, y_train, y_test = train_test_split(X_data, y_data, test_size=0.2, random_state=42)"
   ]
  },
  {
   "cell_type": "markdown",
   "id": "783abd2e-fe32-4e43-9554-a677c0d67ac8",
   "metadata": {},
   "source": [
    "# Models Training"
   ]
  },
  {
   "cell_type": "markdown",
   "id": "83544890-f5fc-4bb4-a612-0aa07f4d0284",
   "metadata": {},
   "source": [
    "## Support Vector Classifier (SVM Classifier)"
   ]
  },
  {
   "cell_type": "code",
   "execution_count": 23,
   "id": "af201302-ed8f-4391-88ba-c2fac685e6ca",
   "metadata": {},
   "outputs": [],
   "source": [
    "splits = ShuffleSplit(n_splits=1, test_size=0.3, random_state=42)"
   ]
  },
  {
   "cell_type": "code",
   "execution_count": 24,
   "id": "bf800fad-7910-489c-a8b5-6c50e31e1f9e",
   "metadata": {},
   "outputs": [],
   "source": [
    "svc_param_grid = {'C':[1e-2, 1e-1, 1e0, 1e1, 1e2]}"
   ]
  },
  {
   "cell_type": "code",
   "execution_count": 25,
   "id": "beecb491-cee9-4197-9846-74c5d68629ce",
   "metadata": {},
   "outputs": [],
   "source": [
    "svc_clf = LinearSVC(penalty='l2', loss='squared_hinge', dual=False, max_iter=3000)"
   ]
  },
  {
   "cell_type": "code",
   "execution_count": 26,
   "id": "c49df614-5273-4db0-a050-e7b6152df3c5",
   "metadata": {},
   "outputs": [],
   "source": [
    "svc_clf_search = HalvingGridSearchCV(svc_clf, svc_param_grid, cv=splits, factor=2, scoring='accuracy', verbose=3)"
   ]
  },
  {
   "cell_type": "code",
   "execution_count": 27,
   "id": "a01c86c4-6df1-489a-bd30-15e839709001",
   "metadata": {},
   "outputs": [
    {
     "name": "stdout",
     "output_type": "stream",
     "text": [
      "n_iterations: 3\n",
      "n_required_iterations: 3\n",
      "n_possible_iterations: 3\n",
      "min_resources_: 102009\n",
      "max_resources_: 408038\n",
      "aggressive_elimination: False\n",
      "factor: 2\n",
      "----------\n",
      "iter: 0\n",
      "n_candidates: 5\n",
      "n_resources: 102009\n",
      "Fitting 1 folds for each of 5 candidates, totalling 5 fits\n",
      "[CV 1/1] END .........................................C=0.01; total time=   0.4s\n",
      "[CV 1/1] END ..........................................C=0.1; total time=   0.5s\n",
      "[CV 1/1] END ..........................................C=1.0; total time=   1.0s\n",
      "[CV 1/1] END .........................................C=10.0; total time=   1.2s\n",
      "[CV 1/1] END ........................................C=100.0; total time=   1.1s\n",
      "----------\n",
      "iter: 1\n",
      "n_candidates: 3\n",
      "n_resources: 204018\n",
      "Fitting 1 folds for each of 3 candidates, totalling 3 fits\n",
      "[CV 1/1] END ..........................................C=1.0; total time=   2.1s\n",
      "[CV 1/1] END ........................................C=100.0; total time=   2.5s\n",
      "[CV 1/1] END .........................................C=10.0; total time=   2.2s\n",
      "----------\n",
      "iter: 2\n",
      "n_candidates: 2\n",
      "n_resources: 408036\n",
      "Fitting 1 folds for each of 2 candidates, totalling 2 fits\n",
      "[CV 1/1] END .........................................C=10.0; total time=   5.0s\n",
      "[CV 1/1] END ..........................................C=1.0; total time=   5.0s\n"
     ]
    },
    {
     "data": {
      "text/plain": [
       "HalvingGridSearchCV(cv=ShuffleSplit(n_splits=1, random_state=42, test_size=0.3, train_size=None),\n",
       "                    estimator=LinearSVC(dual=False, max_iter=3000), factor=2,\n",
       "                    param_grid={'C': [0.01, 0.1, 1.0, 10.0, 100.0]},\n",
       "                    refit=<function _refit_callable at 0x0000023DC6EF2EE0>,\n",
       "                    scoring='accuracy', verbose=3)"
      ]
     },
     "execution_count": 27,
     "metadata": {},
     "output_type": "execute_result"
    }
   ],
   "source": [
    "svc_clf_search.fit(X_train, y_train)"
   ]
  },
  {
   "cell_type": "code",
   "execution_count": 28,
   "id": "e46714c2-90b2-496b-9dae-245962263760",
   "metadata": {},
   "outputs": [
    {
     "data": {
      "text/plain": [
       "{'C': 1.0}"
      ]
     },
     "execution_count": 28,
     "metadata": {},
     "output_type": "execute_result"
    }
   ],
   "source": [
    "svc_clf_search.best_params_"
   ]
  },
  {
   "cell_type": "code",
   "execution_count": 29,
   "id": "9ca8c2eb-db4e-4fb1-9904-35b03c19b89b",
   "metadata": {},
   "outputs": [
    {
     "data": {
      "text/plain": [
       "0.7041360662032007"
      ]
     },
     "execution_count": 29,
     "metadata": {},
     "output_type": "execute_result"
    }
   ],
   "source": [
    "svc_clf_search.best_score_"
   ]
  },
  {
   "cell_type": "code",
   "execution_count": 30,
   "id": "06ecb4d2-3b0e-4f66-9b3d-02ab328170b5",
   "metadata": {},
   "outputs": [],
   "source": [
    "svc_clf_model = svc_clf_search.best_estimator_"
   ]
  },
  {
   "cell_type": "code",
   "execution_count": 31,
   "id": "58987959-764a-48ee-9422-c8a798ed93c9",
   "metadata": {},
   "outputs": [
    {
     "data": {
      "text/plain": [
       "LinearSVC(dual=False, max_iter=3000)"
      ]
     },
     "execution_count": 31,
     "metadata": {},
     "output_type": "execute_result"
    }
   ],
   "source": [
    "svc_clf_model"
   ]
  },
  {
   "cell_type": "code",
   "execution_count": 32,
   "id": "a438d887-50c7-42ab-a2db-ffddb2c28ca8",
   "metadata": {},
   "outputs": [],
   "source": [
    "svc_calibrated = CalibratedClassifierCV(base_estimator=svc_clf_model, method=\"sigmoid\", cv=splits)"
   ]
  },
  {
   "cell_type": "code",
   "execution_count": 33,
   "id": "b1e0eb09-9f08-4670-b134-7f4e06ab5c64",
   "metadata": {},
   "outputs": [
    {
     "data": {
      "text/plain": [
       "CalibratedClassifierCV(base_estimator=LinearSVC(dual=False, max_iter=3000),\n",
       "                       cv=ShuffleSplit(n_splits=1, random_state=42, test_size=0.3, train_size=None))"
      ]
     },
     "execution_count": 33,
     "metadata": {},
     "output_type": "execute_result"
    }
   ],
   "source": [
    "svc_calibrated.fit(X_train, y_train)"
   ]
  },
  {
   "cell_type": "markdown",
   "id": "bd9a26d0-cc12-45df-ad02-9995ba27c629",
   "metadata": {},
   "source": [
    "### Evaluation"
   ]
  },
  {
   "cell_type": "code",
   "execution_count": 34,
   "id": "ddb32a6b-bc63-4de1-9bff-424e833cafed",
   "metadata": {},
   "outputs": [],
   "source": [
    "def print_mean_std (acc,p,r,f,auc):\n",
    "    acc = np.array(acc)\n",
    "    p = np.array(p)\n",
    "    r = np.array(r)\n",
    "    f = np.array(f)\n",
    "    auc = np.array(auc)\n",
    "\n",
    "    acc_mean = acc.mean()\n",
    "    acc_std = acc.std()\n",
    "    p_mean = p.mean()\n",
    "    p_std = p.std()\n",
    "    r_mean = r.mean()\n",
    "    r_std = r.std()\n",
    "    f_mean = f.mean()\n",
    "    f_std = f.std()\n",
    "    auc_mean = auc.mean()\n",
    "    auc_std = auc.std()\n",
    "    print('accuracy_mean, accuracy_std:',acc_mean, acc_std)\n",
    "    print('precision_mean, precision_std, recall_mean, recall_std, f_mean, f_std:', p_mean, p_std, r_mean, r_std, f_mean, f_std)\n",
    "    print('AUC_mean, AUC_std:', auc_mean, auc_std)\n",
    "    return acc_mean, acc_std, p_mean, p_std, r_mean, r_std, f_mean, f_std, auc_mean, auc_std"
   ]
  },
  {
   "cell_type": "code",
   "execution_count": 35,
   "id": "b5c7e75b-d219-46be-b37c-012ae7006c3f",
   "metadata": {},
   "outputs": [
    {
     "name": "stdout",
     "output_type": "stream",
     "text": [
      "              precision    recall  f1-score   support\n",
      "\n",
      "           0       0.73      0.64      0.68     50946\n",
      "           1       0.68      0.77      0.72     51064\n",
      "\n",
      "    accuracy                           0.70    102010\n",
      "   macro avg       0.71      0.70      0.70    102010\n",
      "weighted avg       0.71      0.70      0.70    102010\n",
      "\n",
      "accuracy_mean, accuracy_std: 0.7020684246642486 0.0\n",
      "precision_mean, precision_std, recall_mean, recall_std, f_mean, f_std: 0.6787864111257178 0.0 0.7684866050446498 0.0 0.7208567544729784 0.0\n",
      "AUC_mean, AUC_std: 0.7019915065030102 0.0\n"
     ]
    },
    {
     "data": {
      "image/png": "[encoded data removed]",
      "text/plain": [
       "<Figure size 432x288 with 2 Axes>"
      ]
     },
     "metadata": {
      "needs_background": "light"
     },
     "output_type": "display_data"
    }
   ],
   "source": [
    "y_pred = svc_calibrated.predict(X_test)\n",
    "\n",
    "print(\"Accuracy: \", accuracy_score(y_test, y_pred))\n",
    "print(\"Precision: \", precision_score(y_test, y_pred))\n",
    "print(\"Recall: \", recall_score(y_test, y_pred))\n",
    "print(\"F1: \", f1_score(y_test, y_pred))\n",
    "print(\"ROC AUC: \", roc_auc_score(y_test, y_pred))\n",
    "print(classification_report(y_test, y_pred))\n",
    "\n",
    "import scikitplot as skplt\n",
    "skplt.metrics.plot_confusion_matrix(y_test, y_pred)\n",
    "plt.title('SVC Confusion Matrix')\n",
    "plt.savefig('graphs/svc_fs1/svc_confusion_matrix.png')\n",
    "\n",
    "mean_stds = print_mean_std(acc,p,r,f,auc)"
   ]
  },
  {
   "cell_type": "markdown",
   "id": "459b53fe-ac15-47e3-81fe-81e2df58d170",
   "metadata": {},
   "source": [
    "## Logistic Regression"
   ]
  },
  {
   "cell_type": "code",
   "execution_count": 36,
   "id": "55645593-38ee-47ab-8a03-b36bd527aea3",
   "metadata": {},
   "outputs": [],
   "source": [
    "lr_param_grid = {'C':[1e-2, 1e-1, 1e0, 1e1, 1e2]}"
   ]
  },
  {
   "cell_type": "code",
   "execution_count": 37,
   "id": "0c1b15c0-3d1e-45b3-b0f3-847dd66abe67",
   "metadata": {},
   "outputs": [],
   "source": [
    "lr_clf = LogisticRegression(penalty='l2', class_weight='balanced', dual=False, max_iter=3000)"
   ]
  },
  {
   "cell_type": "code",
   "execution_count": 38,
   "id": "5296f8c6-43a2-4301-9267-8740cb00b42a",
   "metadata": {},
   "outputs": [],
   "source": [
    "lr_clf_search = HalvingGridSearchCV(lr_clf, lr_param_grid, cv=splits, factor=2, scoring='accuracy', verbose=3)"
   ]
  },
  {
   "cell_type": "code",
   "execution_count": 39,
   "id": "920a07b4-36b6-48a8-bda9-b05b38d07cbc",
   "metadata": {},
   "outputs": [
    {
     "name": "stdout",
     "output_type": "stream",
     "text": [
      "n_iterations: 3\n",
      "n_required_iterations: 3\n",
      "n_possible_iterations: 3\n",
      "min_resources_: 102009\n",
      "max_resources_: 408038\n",
      "aggressive_elimination: False\n",
      "factor: 2\n",
      "----------\n",
      "iter: 0\n",
      "n_candidates: 5\n",
      "n_resources: 102009\n",
      "Fitting 1 folds for each of 5 candidates, totalling 5 fits\n",
      "[CV 1/1] END .........................................C=0.01; total time=   0.1s\n",
      "[CV 1/1] END ..........................................C=0.1; total time=   0.5s\n",
      "[CV 1/1] END ..........................................C=1.0; total time=   1.1s\n",
      "[CV 1/1] END .........................................C=10.0; total time=   2.7s\n",
      "[CV 1/1] END ........................................C=100.0; total time=   3.8s\n",
      "----------\n",
      "iter: 1\n",
      "n_candidates: 3\n",
      "n_resources: 204018\n",
      "Fitting 1 folds for each of 3 candidates, totalling 3 fits\n",
      "[CV 1/1] END ........................................C=100.0; total time=   9.1s\n",
      "[CV 1/1] END .........................................C=10.0; total time=   8.8s\n",
      "[CV 1/1] END ..........................................C=1.0; total time=   3.8s\n",
      "----------\n",
      "iter: 2\n",
      "n_candidates: 2\n",
      "n_resources: 408036\n",
      "Fitting 1 folds for each of 2 candidates, totalling 2 fits\n",
      "[CV 1/1] END ........................................C=100.0; total time=  17.6s\n",
      "[CV 1/1] END .........................................C=10.0; total time=  16.4s\n"
     ]
    },
    {
     "data": {
      "text/plain": [
       "HalvingGridSearchCV(cv=ShuffleSplit(n_splits=1, random_state=42, test_size=0.3, train_size=None),\n",
       "                    estimator=LogisticRegression(class_weight='balanced',\n",
       "                                                 max_iter=3000),\n",
       "                    factor=2, param_grid={'C': [0.01, 0.1, 1.0, 10.0, 100.0]},\n",
       "                    refit=<function _refit_callable at 0x0000023DC6EF2EE0>,\n",
       "                    scoring='accuracy', verbose=3)"
      ]
     },
     "execution_count": 39,
     "metadata": {},
     "output_type": "execute_result"
    }
   ],
   "source": [
    "lr_clf_search.fit(X_train, y_train)"
   ]
  },
  {
   "cell_type": "code",
   "execution_count": 40,
   "id": "90f0381f-71f8-4df7-9c31-ce2b333af54e",
   "metadata": {},
   "outputs": [
    {
     "data": {
      "text/plain": [
       "{'C': 10.0}"
      ]
     },
     "execution_count": 40,
     "metadata": {},
     "output_type": "execute_result"
    }
   ],
   "source": [
    "lr_clf_search.best_params_"
   ]
  },
  {
   "cell_type": "code",
   "execution_count": 41,
   "id": "bf513f68-527e-438c-97c2-0e633d4a08ec",
   "metadata": {},
   "outputs": [
    {
     "data": {
      "text/plain": [
       "0.7034090073604496"
      ]
     },
     "execution_count": 41,
     "metadata": {},
     "output_type": "execute_result"
    }
   ],
   "source": [
    "lr_clf_search.best_score_"
   ]
  },
  {
   "cell_type": "code",
   "execution_count": 42,
   "id": "b7220a36-4618-44f3-8792-1604e2a9549d",
   "metadata": {},
   "outputs": [],
   "source": [
    "lr_clf_model = lr_clf_search.best_estimator_"
   ]
  },
  {
   "cell_type": "code",
   "execution_count": 43,
   "id": "9a75bb7a-6497-4ef4-b17d-14ec8a430320",
   "metadata": {},
   "outputs": [
    {
     "data": {
      "text/plain": [
       "LogisticRegression(C=10.0, class_weight='balanced', max_iter=3000)"
      ]
     },
     "execution_count": 43,
     "metadata": {},
     "output_type": "execute_result"
    }
   ],
   "source": [
    "lr_clf_model"
   ]
  },
  {
   "cell_type": "markdown",
   "id": "f272229c-4ec2-40e1-84c8-de7e995cceb7",
   "metadata": {},
   "source": [
    "### Evaluation"
   ]
  },
  {
   "cell_type": "code",
   "execution_count": 44,
   "id": "8e82eb54-179d-4475-8d42-437b5c2579f9",
   "metadata": {},
   "outputs": [
    {
     "name": "stdout",
     "output_type": "stream",
     "text": [
      "              precision    recall  f1-score   support\n",
      "\n",
      "           0       0.74      0.63      0.68     50946\n",
      "           1       0.68      0.78      0.72     51064\n",
      "\n",
      "    accuracy                           0.70    102010\n",
      "   macro avg       0.71      0.70      0.70    102010\n",
      "weighted avg       0.71      0.70      0.70    102010\n",
      "\n",
      "accuracy_mean, accuracy_std: 0.7031467503185962 0.0\n",
      "precision_mean, precision_std, recall_mean, recall_std, f_mean, f_std: 0.6764655933700157 0.0 0.7800603164656118 0.0 0.7245788918397789 0.0\n",
      "AUC_mean, AUC_std: 0.7030576775670029 0.0\n"
     ]
    },
    {
     "data": {
      "text/plain": [
       "<Figure size 600x400 with 0 Axes>"
      ]
     },
     "metadata": {},
     "output_type": "display_data"
    },
    {
     "data": {
      "image/png": "[encoded data removed]",
      "text/plain": [
       "<Figure size 432x288 with 2 Axes>"
      ]
     },
     "metadata": {
      "needs_background": "light"
     },
     "output_type": "display_data"
    }
   ],
   "source": [
    "y_pred = lr_clf_model.predict(X_test)\n",
    "\n",
    "print(\"Accuracy: \", accuracy_score(y_test, y_pred))\n",
    "print(\"Precision: \", precision_score(y_test, y_pred))\n",
    "print(\"Recall: \", recall_score(y_test, y_pred))\n",
    "print(\"F1: \", f1_score(y_test, y_pred))\n",
    "print(\"ROC AUC: \", roc_auc_score(y_test, y_pred))\n",
    "print(classification_report(y_test, y_pred))\n",
    "\n",
    "import scikitplot as skplt\n",
    "fig = plt.figure(dpi = 100)\n",
    "skplt.metrics.plot_confusion_matrix(y_test, y_pred)\n",
    "plt.title('LR Confusion Matrix')\n",
    "plt.savefig('graphs/lr_fs1/lr_confusion_matrix.png')\n",
    "\n",
    "mean_stds = print_mean_std(acc,p,r,f,auc)"
   ]
  },
  {
   "cell_type": "markdown",
   "id": "763b80b4-8856-4e81-bd28-43e9e57843f4",
   "metadata": {},
   "source": [
    "## Random Forest Classifier"
   ]
  },
  {
   "cell_type": "code",
   "execution_count": 45,
   "id": "6a2c1747-3b33-4f21-8d45-ce7468a77783",
   "metadata": {},
   "outputs": [],
   "source": [
    "rf_param_grid = {\n",
    "                    'n_estimators':[200, 500, 800], \n",
    "                    'min_samples_split':[5, 15],\n",
    "                    'max_depth': [70, 150, None]\n",
    "                }"
   ]
  },
  {
   "cell_type": "code",
   "execution_count": 46,
   "id": "dbb9a97c-9dab-4ea2-b903-d162c8da0825",
   "metadata": {},
   "outputs": [],
   "source": [
    "rf_clf = RandomForestClassifier()"
   ]
  },
  {
   "cell_type": "code",
   "execution_count": 47,
   "id": "ff5ced2c-dbe8-4a4a-ac9e-6a1b7228832b",
   "metadata": {},
   "outputs": [],
   "source": [
    "rf_clf_search = HalvingGridSearchCV(rf_clf, rf_param_grid, cv=splits, factor=2, scoring='accuracy', verbose=3)"
   ]
  },
  {
   "cell_type": "code",
   "execution_count": 48,
   "id": "8d0dc243-7be4-4f9a-8cec-4582babe2a69",
   "metadata": {},
   "outputs": [
    {
     "name": "stdout",
     "output_type": "stream",
     "text": [
      "n_iterations: 5\n",
      "n_required_iterations: 5\n",
      "n_possible_iterations: 5\n",
      "min_resources_: 25502\n",
      "max_resources_: 408038\n",
      "aggressive_elimination: False\n",
      "factor: 2\n",
      "----------\n",
      "iter: 0\n",
      "n_candidates: 18\n",
      "n_resources: 25502\n",
      "Fitting 1 folds for each of 18 candidates, totalling 18 fits\n",
      "[CV 1/1] END max_depth=70, min_samples_split=5, n_estimators=200; total time=   5.2s\n",
      "[CV 1/1] END max_depth=70, min_samples_split=5, n_estimators=500; total time=  13.1s\n",
      "[CV 1/1] END max_depth=70, min_samples_split=5, n_estimators=800; total time=  22.3s\n",
      "[CV 1/1] END max_depth=70, min_samples_split=15, n_estimators=200; total time=   5.1s\n",
      "[CV 1/1] END max_depth=70, min_samples_split=15, n_estimators=500; total time=  12.3s\n",
      "[CV 1/1] END max_depth=70, min_samples_split=15, n_estimators=800; total time=  19.5s\n",
      "[CV 1/1] END max_depth=150, min_samples_split=5, n_estimators=200; total time=   5.5s\n",
      "[CV 1/1] END max_depth=150, min_samples_split=5, n_estimators=500; total time=  14.0s\n",
      "[CV 1/1] END max_depth=150, min_samples_split=5, n_estimators=800; total time=  22.1s\n",
      "[CV 1/1] END max_depth=150, min_samples_split=15, n_estimators=200; total time=   5.0s\n",
      "[CV 1/1] END max_depth=150, min_samples_split=15, n_estimators=500; total time=  12.4s\n",
      "[CV 1/1] END max_depth=150, min_samples_split=15, n_estimators=800; total time=  20.0s\n",
      "[CV 1/1] END max_depth=None, min_samples_split=5, n_estimators=200; total time=   5.4s\n",
      "[CV 1/1] END max_depth=None, min_samples_split=5, n_estimators=500; total time=  13.6s\n",
      "[CV 1/1] END max_depth=None, min_samples_split=5, n_estimators=800; total time=  22.1s\n",
      "[CV 1/1] END max_depth=None, min_samples_split=15, n_estimators=200; total time=   4.9s\n",
      "[CV 1/1] END max_depth=None, min_samples_split=15, n_estimators=500; total time=  12.4s\n",
      "[CV 1/1] END max_depth=None, min_samples_split=15, n_estimators=800; total time=  20.0s\n",
      "----------\n",
      "iter: 1\n",
      "n_candidates: 9\n",
      "n_resources: 51004\n",
      "Fitting 1 folds for each of 9 candidates, totalling 9 fits\n",
      "[CV 1/1] END max_depth=70, min_samples_split=15, n_estimators=500; total time=  25.9s\n",
      "[CV 1/1] END max_depth=None, min_samples_split=15, n_estimators=500; total time=  26.1s\n",
      "[CV 1/1] END max_depth=150, min_samples_split=15, n_estimators=800; total time=  41.6s\n",
      "[CV 1/1] END max_depth=70, min_samples_split=15, n_estimators=200; total time=  10.3s\n",
      "[CV 1/1] END max_depth=150, min_samples_split=15, n_estimators=500; total time=  25.2s\n",
      "[CV 1/1] END max_depth=150, min_samples_split=15, n_estimators=200; total time=  10.1s\n",
      "[CV 1/1] END max_depth=70, min_samples_split=15, n_estimators=800; total time=  42.1s\n",
      "[CV 1/1] END max_depth=None, min_samples_split=15, n_estimators=200; total time=  10.4s\n",
      "[CV 1/1] END max_depth=None, min_samples_split=15, n_estimators=800; total time=  42.0s\n",
      "----------\n",
      "iter: 2\n",
      "n_candidates: 5\n",
      "n_resources: 102008\n",
      "Fitting 1 folds for each of 5 candidates, totalling 5 fits\n",
      "[CV 1/1] END max_depth=70, min_samples_split=15, n_estimators=500; total time=  56.5s\n",
      "[CV 1/1] END max_depth=None, min_samples_split=15, n_estimators=800; total time= 1.5min\n",
      "[CV 1/1] END max_depth=150, min_samples_split=15, n_estimators=500; total time=  57.1s\n",
      "[CV 1/1] END max_depth=150, min_samples_split=15, n_estimators=800; total time= 1.5min\n",
      "[CV 1/1] END max_depth=None, min_samples_split=15, n_estimators=500; total time=  57.3s\n",
      "----------\n",
      "iter: 3\n",
      "n_candidates: 3\n",
      "n_resources: 204016\n",
      "Fitting 1 folds for each of 3 candidates, totalling 3 fits\n",
      "[CV 1/1] END max_depth=150, min_samples_split=15, n_estimators=800; total time= 3.5min\n",
      "[CV 1/1] END max_depth=150, min_samples_split=15, n_estimators=500; total time= 2.2min\n",
      "[CV 1/1] END max_depth=70, min_samples_split=15, n_estimators=500; total time= 2.2min\n",
      "----------\n",
      "iter: 4\n",
      "n_candidates: 2\n",
      "n_resources: 408032\n",
      "Fitting 1 folds for each of 2 candidates, totalling 2 fits\n",
      "[CV 1/1] END max_depth=70, min_samples_split=15, n_estimators=500; total time= 5.1min\n",
      "[CV 1/1] END max_depth=150, min_samples_split=15, n_estimators=800; total time= 8.2min\n"
     ]
    },
    {
     "data": {
      "text/plain": [
       "HalvingGridSearchCV(cv=ShuffleSplit(n_splits=1, random_state=42, test_size=0.3, train_size=None),\n",
       "                    estimator=RandomForestClassifier(), factor=2,\n",
       "                    param_grid={'max_depth': [70, 150, None],\n",
       "                                'min_samples_split': [5, 15],\n",
       "                                'n_estimators': [200, 500, 800]},\n",
       "                    refit=<function _refit_callable at 0x0000023DC6EF2EE0>,\n",
       "                    scoring='accuracy', verbose=3)"
      ]
     },
     "execution_count": 48,
     "metadata": {},
     "output_type": "execute_result"
    }
   ],
   "source": [
    "rf_clf_search.fit(X_train, y_train)"
   ]
  },
  {
   "cell_type": "code",
   "execution_count": 49,
   "id": "f36e1208-2f91-45f7-9a23-67f98791f973",
   "metadata": {},
   "outputs": [
    {
     "data": {
      "text/plain": [
       "{'max_depth': 150, 'min_samples_split': 15, 'n_estimators': 800}"
      ]
     },
     "execution_count": 49,
     "metadata": {},
     "output_type": "execute_result"
    }
   ],
   "source": [
    "rf_clf_search.best_params_"
   ]
  },
  {
   "cell_type": "code",
   "execution_count": 50,
   "id": "4f536b47-034d-4f4b-9c35-0be3691bfc8e",
   "metadata": {},
   "outputs": [
    {
     "data": {
      "text/plain": [
       "0.782378890613512"
      ]
     },
     "execution_count": 50,
     "metadata": {},
     "output_type": "execute_result"
    }
   ],
   "source": [
    "rf_clf_search.best_score_"
   ]
  },
  {
   "cell_type": "code",
   "execution_count": 51,
   "id": "d5a85917-f0d4-498d-8184-822474b2df5f",
   "metadata": {},
   "outputs": [],
   "source": [
    "rf_clf_model = rf_clf_search.best_estimator_"
   ]
  },
  {
   "cell_type": "code",
   "execution_count": 52,
   "id": "c9cd0061-e420-47d8-8e81-d1cc7cea231a",
   "metadata": {},
   "outputs": [
    {
     "data": {
      "text/plain": [
       "RandomForestClassifier(max_depth=150, min_samples_split=15, n_estimators=800)"
      ]
     },
     "execution_count": 52,
     "metadata": {},
     "output_type": "execute_result"
    }
   ],
   "source": [
    "rf_clf_model"
   ]
  },
  {
   "cell_type": "markdown",
   "id": "45005dcc-c50a-4055-a9f8-f27465ea6fc4",
   "metadata": {},
   "source": [
    "### Evaluation"
   ]
  },
  {
   "cell_type": "code",
   "execution_count": 53,
   "id": "0f787353-9a4a-4bdb-b05f-88a00e72891b",
   "metadata": {},
   "outputs": [
    {
     "name": "stdout",
     "output_type": "stream",
     "text": [
      "              precision    recall  f1-score   support\n",
      "\n",
      "           0       0.84      0.72      0.78     50946\n",
      "           1       0.76      0.86      0.81     51064\n",
      "\n",
      "    accuracy                           0.79    102010\n",
      "   macro avg       0.80      0.79      0.79    102010\n",
      "weighted avg       0.80      0.79      0.79    102010\n",
      "\n",
      "accuracy_mean, accuracy_std: 0.7926477796294481 0.0\n",
      "precision_mean, precision_std, recall_mean, recall_std, f_mean, f_std: 0.7569406267179769 0.0 0.8628387905373649 0.0 0.8064279961929863 0.0\n",
      "AUC_mean, AUC_std: 0.7925664921948395 0.0\n"
     ]
    },
    {
     "data": {
      "text/plain": [
       "<Figure size 600x400 with 0 Axes>"
      ]
     },
     "metadata": {},
     "output_type": "display_data"
    },
    {
     "data": {
      "image/png": "[encoded data removed]",
      "text/plain": [
       "<Figure size 432x288 with 2 Axes>"
      ]
     },
     "metadata": {
      "needs_background": "light"
     },
     "output_type": "display_data"
    }
   ],
   "source": [
    "y_pred = rf_clf_model.predict(X_test)\n",
    "\n",
    "print(\"Accuracy: \", accuracy_score(y_test, y_pred))\n",
    "print(\"Precision: \", precision_score(y_test, y_pred))\n",
    "print(\"Recall: \", recall_score(y_test, y_pred))\n",
    "print(\"F1: \", f1_score(y_test, y_pred))\n",
    "print(\"ROC AUC: \", roc_auc_score(y_test, y_pred))\n",
    "print(classification_report(y_test, y_pred))\n",
    "\n",
    "import scikitplot as skplt\n",
    "fig = plt.figure(dpi = 100)\n",
    "skplt.metrics.plot_confusion_matrix(y_test, y_pred)\n",
    "plt.title('RF Confusion Matrix')\n",
    "plt.savefig('graphs/rf_fs1/rf_confusion_matrix.png')\n",
    "\n",
    "mean_stds = print_mean_std(acc,p,r,f,auc)"
   ]
  },
  {
   "cell_type": "markdown",
   "id": "b21a6c6a-1997-4499-badc-d1b4272c1cac",
   "metadata": {},
   "source": [
    "## XGBoost"
   ]
  },
  {
   "cell_type": "code",
   "execution_count": 23,
   "id": "02d2f7c9-313d-402c-8f41-50c251f634e9",
   "metadata": {},
   "outputs": [],
   "source": [
    "import hyperopt\n",
    "from hyperopt import fmin, tpe, hp, STATUS_OK, Trials\n",
    "import warnings"
   ]
  },
  {
   "cell_type": "code",
   "execution_count": 24,
   "id": "f5656fce-5147-4286-8adb-d244cac4e5fd",
   "metadata": {},
   "outputs": [],
   "source": [
    "def objective(space):\n",
    "    warnings.filterwarnings(action='ignore', category=UserWarning)\n",
    "    classifier = xgb.XGBClassifier(\n",
    "                    objective = \"binary:logistic\",\n",
    "                    eval_metric = \"logloss\",\n",
    "                    booster = \"gbtree\",\n",
    "                    tree_method = \"hist\",\n",
    "                    grow_policy = \"lossguide\",\n",
    "                    n_estimators = 300, \n",
    "                    max_depth = space['max_depth'],\n",
    "                    learning_rate = space['learning_rate'],\n",
    "                )\n",
    "    \n",
    "    classifier.fit(X_train, y_train)\n",
    "    \n",
    "    predicted_probs = classifier.predict_proba(X_test)\n",
    "\n",
    "    logloss = log_loss(y_test, predicted_probs)\n",
    "\n",
    "    print(\"Log loss = \" + str(logloss))\n",
    "\n",
    "    return{'loss':logloss, 'status': STATUS_OK }"
   ]
  },
  {
   "cell_type": "code",
   "execution_count": 25,
   "id": "e738479d-2a7c-4ab5-9866-0cc6b8b014c8",
   "metadata": {},
   "outputs": [],
   "source": [
    "space = {\n",
    "    'max_depth' : hp.choice('max_depth', range(4, 10, 1)),\n",
    "    \"learning_rate\": hp.quniform(\"learning_rate\", 0.01, 0.5, 0.01)\n",
    "}"
   ]
  },
  {
   "cell_type": "code",
   "execution_count": 26,
   "id": "cabebe0c-47fa-4529-8717-8cc0490003f1",
   "metadata": {},
   "outputs": [
    {
     "name": "stdout",
     "output_type": "stream",
     "text": [
      "Log loss = 0.47049261206175047                                                                                         \n",
      "Log loss = 0.46369033885779537                                                                                         \n",
      "Log loss = 0.4603486103977277                                                                                          \n",
      "Log loss = 0.4958769091283641                                                                                          \n",
      "Log loss = 0.45824264134899145                                                                                         \n",
      "100%|█████████████████████████████████████████████████| 5/5 [01:03<00:00, 12.74s/trial, best loss: 0.45824264134899145]\n"
     ]
    }
   ],
   "source": [
    "trials = Trials()\n",
    "best_param = fmin(fn=objective,\n",
    "            space=space,\n",
    "            algo=tpe.suggest,\n",
    "            max_evals=5,\n",
    "            trials=trials)"
   ]
  },
  {
   "cell_type": "code",
   "execution_count": 27,
   "id": "2b9b2ca1-210e-4efc-8697-444406885e3e",
   "metadata": {},
   "outputs": [
    {
     "name": "stdout",
     "output_type": "stream",
     "text": [
      "Best Param :  {'learning_rate': 0.09, 'max_depth': 5}\n"
     ]
    }
   ],
   "source": [
    "print(\"Best Param : \", best_param)"
   ]
  },
  {
   "cell_type": "markdown",
   "id": "9825d6ad-f900-4519-bd1d-be97e4bb789c",
   "metadata": {},
   "source": [
    "#### Training the model with the tuned parameters."
   ]
  },
  {
   "cell_type": "code",
   "execution_count": 32,
   "id": "dc3464ec-d50e-45dc-8bbb-729add689ef1",
   "metadata": {},
   "outputs": [],
   "source": [
    "params = dict(\n",
    "            objective = \"binary:logistic\",\n",
    "            eval_metric = \"logloss\",\n",
    "            booster = \"gbtree\",\n",
    "            tree_method = \"hist\",\n",
    "            grow_policy = \"lossguide\",\n",
    "            max_depth = 5,\n",
    "            eta = 0.09\n",
    "        )"
   ]
  },
  {
   "cell_type": "code",
   "execution_count": 33,
   "id": "c0c5a1b0-6cef-4708-80d5-3ece8031b4bf",
   "metadata": {},
   "outputs": [],
   "source": [
    "dtrain = xgb.DMatrix(X_train, label=y_train)\n",
    "dvalid = xgb.DMatrix(X_test, label=y_test)"
   ]
  },
  {
   "cell_type": "code",
   "execution_count": 34,
   "id": "eff402dc-1404-4f4c-b4ea-399397410ae9",
   "metadata": {},
   "outputs": [],
   "source": [
    "watchlist = [(dtrain, 'train'), (dvalid, 'valid')]"
   ]
  },
  {
   "cell_type": "code",
   "execution_count": 35,
   "id": "413850a0-ed14-4e63-910e-cfac30cd6b64",
   "metadata": {},
   "outputs": [
    {
     "name": "stdout",
     "output_type": "stream",
     "text": [
      "[0]\ttrain-logloss:0.66809\tvalid-logloss:0.66822\n",
      "[10]\ttrain-logloss:0.55132\tvalid-logloss:0.55254\n",
      "[20]\ttrain-logloss:0.51799\tvalid-logloss:0.51985\n",
      "[30]\ttrain-logloss:0.50571\tvalid-logloss:0.50803\n",
      "[40]\ttrain-logloss:0.50011\tvalid-logloss:0.50275\n",
      "[50]\ttrain-logloss:0.49699\tvalid-logloss:0.49979\n",
      "[60]\ttrain-logloss:0.49462\tvalid-logloss:0.49762\n",
      "[70]\ttrain-logloss:0.49236\tvalid-logloss:0.49560\n",
      "[80]\ttrain-logloss:0.49012\tvalid-logloss:0.49358\n",
      "[90]\ttrain-logloss:0.48858\tvalid-logloss:0.49227\n",
      "[100]\ttrain-logloss:0.48713\tvalid-logloss:0.49107\n",
      "[110]\ttrain-logloss:0.48583\tvalid-logloss:0.48997\n",
      "[120]\ttrain-logloss:0.48482\tvalid-logloss:0.48916\n",
      "[130]\ttrain-logloss:0.48386\tvalid-logloss:0.48835\n",
      "[140]\ttrain-logloss:0.48303\tvalid-logloss:0.48773\n",
      "[150]\ttrain-logloss:0.48213\tvalid-logloss:0.48701\n",
      "[160]\ttrain-logloss:0.48125\tvalid-logloss:0.48639\n",
      "[170]\ttrain-logloss:0.48047\tvalid-logloss:0.48582\n",
      "[180]\ttrain-logloss:0.47974\tvalid-logloss:0.48525\n",
      "[190]\ttrain-logloss:0.47897\tvalid-logloss:0.48472\n",
      "[200]\ttrain-logloss:0.47840\tvalid-logloss:0.48434\n",
      "[210]\ttrain-logloss:0.47777\tvalid-logloss:0.48392\n",
      "[220]\ttrain-logloss:0.47708\tvalid-logloss:0.48342\n",
      "[230]\ttrain-logloss:0.47651\tvalid-logloss:0.48305\n",
      "[240]\ttrain-logloss:0.47595\tvalid-logloss:0.48268\n",
      "[250]\ttrain-logloss:0.47531\tvalid-logloss:0.48222\n",
      "[260]\ttrain-logloss:0.47486\tvalid-logloss:0.48197\n",
      "[270]\ttrain-logloss:0.47435\tvalid-logloss:0.48165\n",
      "[280]\ttrain-logloss:0.47388\tvalid-logloss:0.48135\n",
      "[290]\ttrain-logloss:0.47340\tvalid-logloss:0.48108\n",
      "[300]\ttrain-logloss:0.47292\tvalid-logloss:0.48073\n",
      "[310]\ttrain-logloss:0.47242\tvalid-logloss:0.48042\n",
      "[320]\ttrain-logloss:0.47191\tvalid-logloss:0.48013\n",
      "[330]\ttrain-logloss:0.47149\tvalid-logloss:0.47990\n",
      "[340]\ttrain-logloss:0.47107\tvalid-logloss:0.47964\n",
      "[350]\ttrain-logloss:0.47060\tvalid-logloss:0.47934\n",
      "[360]\ttrain-logloss:0.47021\tvalid-logloss:0.47910\n",
      "[370]\ttrain-logloss:0.46982\tvalid-logloss:0.47886\n",
      "[380]\ttrain-logloss:0.46941\tvalid-logloss:0.47861\n",
      "[390]\ttrain-logloss:0.46905\tvalid-logloss:0.47839\n",
      "[400]\ttrain-logloss:0.46874\tvalid-logloss:0.47821\n",
      "[410]\ttrain-logloss:0.46839\tvalid-logloss:0.47800\n",
      "[420]\ttrain-logloss:0.46800\tvalid-logloss:0.47778\n",
      "[430]\ttrain-logloss:0.46760\tvalid-logloss:0.47760\n",
      "[440]\ttrain-logloss:0.46727\tvalid-logloss:0.47743\n",
      "[450]\ttrain-logloss:0.46685\tvalid-logloss:0.47723\n",
      "[460]\ttrain-logloss:0.46658\tvalid-logloss:0.47710\n",
      "[470]\ttrain-logloss:0.46624\tvalid-logloss:0.47695\n",
      "[480]\ttrain-logloss:0.46596\tvalid-logloss:0.47682\n",
      "[490]\ttrain-logloss:0.46567\tvalid-logloss:0.47665\n",
      "[500]\ttrain-logloss:0.46533\tvalid-logloss:0.47650\n",
      "[510]\ttrain-logloss:0.46502\tvalid-logloss:0.47634\n",
      "[520]\ttrain-logloss:0.46466\tvalid-logloss:0.47613\n",
      "[530]\ttrain-logloss:0.46442\tvalid-logloss:0.47603\n",
      "[540]\ttrain-logloss:0.46416\tvalid-logloss:0.47591\n",
      "[550]\ttrain-logloss:0.46381\tvalid-logloss:0.47571\n",
      "[560]\ttrain-logloss:0.46348\tvalid-logloss:0.47553\n",
      "[570]\ttrain-logloss:0.46318\tvalid-logloss:0.47538\n",
      "[580]\ttrain-logloss:0.46290\tvalid-logloss:0.47524\n",
      "[590]\ttrain-logloss:0.46255\tvalid-logloss:0.47506\n",
      "[600]\ttrain-logloss:0.46226\tvalid-logloss:0.47490\n",
      "[610]\ttrain-logloss:0.46189\tvalid-logloss:0.47468\n",
      "[620]\ttrain-logloss:0.46157\tvalid-logloss:0.47451\n",
      "[630]\ttrain-logloss:0.46132\tvalid-logloss:0.47437\n",
      "[640]\ttrain-logloss:0.46099\tvalid-logloss:0.47422\n",
      "[650]\ttrain-logloss:0.46072\tvalid-logloss:0.47409\n",
      "[660]\ttrain-logloss:0.46045\tvalid-logloss:0.47397\n",
      "[670]\ttrain-logloss:0.46018\tvalid-logloss:0.47383\n",
      "[680]\ttrain-logloss:0.45993\tvalid-logloss:0.47372\n",
      "[690]\ttrain-logloss:0.45954\tvalid-logloss:0.47349\n",
      "[700]\ttrain-logloss:0.45924\tvalid-logloss:0.47332\n",
      "[710]\ttrain-logloss:0.45902\tvalid-logloss:0.47320\n",
      "[720]\ttrain-logloss:0.45882\tvalid-logloss:0.47313\n",
      "[730]\ttrain-logloss:0.45857\tvalid-logloss:0.47299\n",
      "[740]\ttrain-logloss:0.45827\tvalid-logloss:0.47288\n",
      "[750]\ttrain-logloss:0.45798\tvalid-logloss:0.47276\n",
      "[760]\ttrain-logloss:0.45772\tvalid-logloss:0.47264\n",
      "[770]\ttrain-logloss:0.45752\tvalid-logloss:0.47258\n",
      "[780]\ttrain-logloss:0.45724\tvalid-logloss:0.47246\n",
      "[790]\ttrain-logloss:0.45703\tvalid-logloss:0.47238\n",
      "[800]\ttrain-logloss:0.45674\tvalid-logloss:0.47222\n",
      "[810]\ttrain-logloss:0.45647\tvalid-logloss:0.47212\n",
      "[820]\ttrain-logloss:0.45614\tvalid-logloss:0.47196\n",
      "[830]\ttrain-logloss:0.45598\tvalid-logloss:0.47190\n",
      "[840]\ttrain-logloss:0.45572\tvalid-logloss:0.47179\n",
      "[850]\ttrain-logloss:0.45546\tvalid-logloss:0.47168\n",
      "[860]\ttrain-logloss:0.45527\tvalid-logloss:0.47161\n",
      "[870]\ttrain-logloss:0.45508\tvalid-logloss:0.47152\n",
      "[880]\ttrain-logloss:0.45485\tvalid-logloss:0.47140\n",
      "[890]\ttrain-logloss:0.45458\tvalid-logloss:0.47126\n",
      "[900]\ttrain-logloss:0.45432\tvalid-logloss:0.47113\n",
      "[910]\ttrain-logloss:0.45404\tvalid-logloss:0.47103\n",
      "[920]\ttrain-logloss:0.45388\tvalid-logloss:0.47097\n",
      "[930]\ttrain-logloss:0.45357\tvalid-logloss:0.47081\n",
      "[940]\ttrain-logloss:0.45331\tvalid-logloss:0.47066\n",
      "[950]\ttrain-logloss:0.45310\tvalid-logloss:0.47054\n",
      "[960]\ttrain-logloss:0.45293\tvalid-logloss:0.47048\n",
      "[970]\ttrain-logloss:0.45264\tvalid-logloss:0.47037\n",
      "[980]\ttrain-logloss:0.45240\tvalid-logloss:0.47025\n",
      "[990]\ttrain-logloss:0.45215\tvalid-logloss:0.47013\n",
      "[999]\ttrain-logloss:0.45206\tvalid-logloss:0.47009\n"
     ]
    }
   ],
   "source": [
    "xgb_model = xgb.train(params, dtrain, 1000, watchlist, early_stopping_rounds=20, verbose_eval=10)"
   ]
  },
  {
   "cell_type": "markdown",
   "id": "336aae56-34a4-4039-b3f2-3564a7ee430a",
   "metadata": {},
   "source": [
    "### Evaluation"
   ]
  },
  {
   "cell_type": "code",
   "execution_count": 36,
   "id": "c4e61d58-91fa-48ec-8a82-96eb373ecdf5",
   "metadata": {},
   "outputs": [
    {
     "data": {
      "text/plain": [
       "XGBClassifier(base_score=0.5, booster='gbtree', colsample_bylevel=1,\n",
       "              colsample_bynode=1, colsample_bytree=1, eval_metric='logloss',\n",
       "              gamma=0, gpu_id=-1, grow_policy='lossguide',\n",
       "              importance_type='gain', interaction_constraints='',\n",
       "              learning_rate='0.09', max_delta_step=0, max_depth='5',\n",
       "              min_child_weight=1, missing=nan, monotone_constraints='()',\n",
       "              n_estimators=300, n_jobs=8, num_parallel_tree=1, random_state=0,\n",
       "              reg_alpha=0, reg_lambda=1, scale_pos_weight=1, subsample=1,\n",
       "              tree_method='hist', validate_parameters=1, verbosity=None)"
      ]
     },
     "execution_count": 36,
     "metadata": {},
     "output_type": "execute_result"
    }
   ],
   "source": [
    "xgb_clf = xgb.XGBClassifier(\n",
    "                    objective = \"binary:logistic\",\n",
    "                    eval_metric = \"logloss\",\n",
    "                    booster = \"gbtree\",\n",
    "                    tree_method = \"hist\",\n",
    "                    grow_policy = \"lossguide\",\n",
    "                    n_estimators = 300, \n",
    "                    max_depth = '5',\n",
    "                    learning_rate = '0.09',\n",
    "                )\n",
    "    \n",
    "xgb_clf.fit(X_train, y_train)"
   ]
  },
  {
   "cell_type": "code",
   "execution_count": 37,
   "id": "ba3c8ae9-9565-4999-a8fb-a5f11433bafe",
   "metadata": {},
   "outputs": [
    {
     "name": "stdout",
     "output_type": "stream",
     "text": [
      "Log Loss:  0.48075778631731303\n",
      "Accuracy:  0.7535045583766298\n",
      "Precision:  0.7140403323038301\n",
      "Recall:  0.8466434278552405\n",
      "F1:  0.7747085860712655\n",
      "ROC AUC:  0.7533966952804252\n",
      "              precision    recall  f1-score   support\n",
      "\n",
      "           0       0.81      0.66      0.73     50946\n",
      "           1       0.71      0.85      0.77     51064\n",
      "\n",
      "    accuracy                           0.75    102010\n",
      "   macro avg       0.76      0.75      0.75    102010\n",
      "weighted avg       0.76      0.75      0.75    102010\n",
      "\n"
     ]
    },
    {
     "data": {
      "image/png": "[encoded data removed]",
      "text/plain": [
       "<Figure size 432x288 with 2 Axes>"
      ]
     },
     "metadata": {
      "needs_background": "light"
     },
     "output_type": "display_data"
    }
   ],
   "source": [
    "y_predicted_probs = xgb_clf.predict_proba(X_test)\n",
    "\n",
    "y_pred = xgb_clf.predict(X_test)\n",
    "\n",
    "print(\"Log Loss: \", log_loss(y_test, y_predicted_probs))\n",
    "print(\"Accuracy: \", accuracy_score(y_test, y_pred))\n",
    "print(\"Precision: \", precision_score(y_test, y_pred))\n",
    "print(\"Recall: \", recall_score(y_test, y_pred))\n",
    "print(\"F1: \", f1_score(y_test, y_pred))\n",
    "print(\"ROC AUC: \", roc_auc_score(y_test, y_pred))\n",
    "print(classification_report(y_test, y_pred))\n",
    "\n",
    "import scikitplot as skplt\n",
    "skplt.metrics.plot_confusion_matrix(y_test, y_pred)\n",
    "plt.title('XGB Confusion Matrix')\n",
    "plt.savefig('graphs/xgb_fs1/xgb_confusion_matrix.png')"
   ]
  },
  {
   "cell_type": "code",
   "execution_count": null,
   "id": "de0a5a90-ee24-4f25-b2fa-815db9c537ed",
   "metadata": {},
   "outputs": [],
   "source": []
  }
 ],
 "metadata": {
  "kernelspec": {
   "display_name": "Python 3 (ipykernel)",
   "language": "python",
   "name": "python3"
  },
  "language_info": {
   "codemirror_mode": {
    "name": "ipython",
    "version": 3
   },
   "file_extension": ".py",
   "mimetype": "text/x-python",
   "name": "python",
   "nbconvert_exporter": "python",
   "pygments_lexer": "ipython3",
   "version": "3.8.10"
  }
 },
 "nbformat": 4,
 "nbformat_minor": 5
}
